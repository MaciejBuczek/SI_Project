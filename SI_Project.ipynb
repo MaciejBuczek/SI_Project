{
 "cells": [
  {
   "cell_type": "code",
   "execution_count": 1,
   "metadata": {},
   "outputs": [],
   "source": [
    "import numpy as np\n",
    "import pandas as pd\n",
    "import matplotlib.pyplot as plt\n",
    "import os\n",
    "from sklearn.model_selection import train_test_split\n",
    "from tensorflow.keras import layers, models\n",
    "import sklearn.metrics as metrics\n",
    "import seaborn as sns;\n",
    "from kerastuner import HyperModel\n",
    "from sklearn.model_selection import KFold\n",
    "import tensorflow"
   ]
  },
  {
   "cell_type": "code",
   "execution_count": 2,
   "metadata": {},
   "outputs": [],
   "source": [
    "directory='ck'\n",
    "dir_list=os.listdir(directory)\n",
    "images_data=[]\n",
    "labels=[]\n",
    "emotions=[]\n",
    "emotions_count=[]\n",
    "l=0\n",
    "for data_dir in dir_list:\n",
    "    data_list=os.listdir(directory+'/'+data_dir)\n",
    "    emotions_count.append(len(data_list))\n",
    "    for img in data_list:\n",
    "        image = plt.imread(directory+'/'+data_dir+'/'+img)\n",
    "        images_data.append(image.flatten())\n",
    "        labels.append(l)\n",
    "    emotions.append(data_dir)\n",
    "    l=l+1\n",
    "images_data = np.array(images_data)\n",
    "emotions = np.array(emotions)\n",
    "labels = np.array(labels)"
   ]
  },
  {
   "cell_type": "code",
   "execution_count": 3,
   "metadata": {},
   "outputs": [],
   "source": [
    "directory = 'other'\n",
    "\n",
    "images_other = []\n",
    "\n",
    "dir_list=os.listdir(directory)\n",
    "for img in dir_list:\n",
    "    image = plt.imread(directory+'/'+img)\n",
    "    images_other.append(image.flatten())\n",
    "    \n",
    "images_other = np.array(images_other)\n",
    "\n",
    "images_other = images_other.reshape(images_other.shape[0], 48, 48, 1)"
   ]
  },
  {
   "cell_type": "code",
   "execution_count": 4,
   "metadata": {},
   "outputs": [
    {
     "data": {
      "image/png": "[encoded data removed]",
      "text/plain": [
       "<Figure size 432x288 with 1 Axes>"
      ]
     },
     "metadata": {
      "needs_background": "light"
     },
     "output_type": "display_data"
    }
   ],
   "source": [
    "fig = plt.figure()\n",
    "ax = fig.add_axes([0,0,1,1])\n",
    "ax.bar(emotions,emotions_count)\n",
    "plt.show()"
   ]
  },
  {
   "cell_type": "code",
   "execution_count": 29,
   "metadata": {},
   "outputs": [
    {
     "name": "stdout",
     "output_type": "stream",
     "text": [
      "id:  820\n",
      "emotion:  surprise\n"
     ]
    },
    {
     "data": {
      "text/plain": [
       "<matplotlib.image.AxesImage at 0x1328e035488>"
      ]
     },
     "execution_count": 29,
     "metadata": {},
     "output_type": "execute_result"
    },
    {
     "data": {
      "image/png": "[encoded data removed]",
      "text/plain": [
       "<Figure size 432x288 with 1 Axes>"
      ]
     },
     "metadata": {
      "needs_background": "light"
     },
     "output_type": "display_data"
    }
   ],
   "source": [
    "id = 820\n",
    "print(\"id: \", id)\n",
    "print(\"emotion: \",emotions[labels[id]])\n",
    "plt.imshow(images_data[id].reshape(48,48), cmap=plt.get_cmap(\"gray\"))"
   ]
  },
  {
   "cell_type": "code",
   "execution_count": 30,
   "metadata": {},
   "outputs": [
    {
     "name": "stdout",
     "output_type": "stream",
     "text": [
      "Before reshaping:\n",
      "\n",
      "train_data shape:  (882, 2304)\n",
      "test_data shape:  (99, 2304)\n",
      "train_target shape:  (882,)\n",
      "test_target shape:  (99,)\n",
      "\n",
      "After reshaping:\n",
      "\n",
      "train_data shape:  (882, 48, 48, 1)\n",
      "test_data shape:  (99, 48, 48, 1)\n",
      "train_target shape:  (882,)\n",
      "test_target shape:  (99,)\n"
     ]
    }
   ],
   "source": [
    "train_data, test_data, train_target, test_target=train_test_split(images_data, labels, test_size=0.1, random_state=101)\n",
    "\n",
    "print(\"Before reshaping:\\n\")\n",
    "\n",
    "print(\"train_data shape: \",train_data.shape)\n",
    "print(\"test_data shape: \", test_data.shape)\n",
    "print(\"train_target shape: \", train_target.shape)\n",
    "print(\"test_target shape: \", test_target.shape)\n",
    "\n",
    "train_data = train_data.reshape(train_data.shape[0], 48, 48, 1)\n",
    "test_data = test_data.reshape(test_data.shape[0], 48, 48, 1)\n",
    "\n",
    "print(\"\\nAfter reshaping:\\n\")\n",
    "\n",
    "print(\"train_data shape: \",train_data.shape)\n",
    "print(\"test_data shape: \", test_data.shape)\n",
    "print(\"train_target shape: \", train_target.shape)\n",
    "print(\"test_target shape: \", test_target.shape)"
   ]
  },
  {
   "cell_type": "code",
   "execution_count": 31,
   "metadata": {},
   "outputs": [
    {
     "name": "stdout",
     "output_type": "stream",
     "text": [
      "Train on 882 samples, validate on 99 samples\n",
      "Epoch 1/30\n",
      "882/882 [==============================] - ETA: 24s - loss: 1.9356 - accuracy: 0.125 - ETA: 5s - loss: 1.8588 - accuracy: 0.195 - ETA: 3s - loss: 1.8202 - accuracy: 0.23 - ETA: 1s - loss: 1.8441 - accuracy: 0.24 - ETA: 1s - loss: 1.8306 - accuracy: 0.29 - ETA: 0s - loss: 1.8100 - accuracy: 0.32 - ETA: 0s - loss: 1.7929 - accuracy: 0.35 - ETA: 0s - loss: 1.7848 - accuracy: 0.35 - ETA: 0s - loss: 1.7807 - accuracy: 0.36 - 2s 2ms/sample - loss: 1.7757 - accuracy: 0.3810 - val_loss: 1.7183 - val_accuracy: 0.5455\n",
      "Epoch 2/30\n",
      "882/882 [==============================] - ETA: 0s - loss: 1.6401 - accuracy: 0.62 - ETA: 0s - loss: 1.5898 - accuracy: 0.57 - ETA: 0s - loss: 1.5649 - accuracy: 0.58 - ETA: 0s - loss: 1.5533 - accuracy: 0.57 - ETA: 0s - loss: 1.5250 - accuracy: 0.55 - ETA: 0s - loss: 1.5389 - accuracy: 0.53 - ETA: 0s - loss: 1.5180 - accuracy: 0.52 - ETA: 0s - loss: 1.5023 - accuracy: 0.54 - ETA: 0s - loss: 1.4898 - accuracy: 0.54 - ETA: 0s - loss: 1.4795 - accuracy: 0.54 - ETA: 0s - loss: 1.4571 - accuracy: 0.54 - 1s 826us/sample - loss: 1.4401 - accuracy: 0.5533 - val_loss: 1.2576 - val_accuracy: 0.6061\n",
      "Epoch 3/30\n",
      "882/882 [==============================] - ETA: 0s - loss: 1.0565 - accuracy: 0.78 - ETA: 0s - loss: 1.0032 - accuracy: 0.73 - ETA: 0s - loss: 1.0254 - accuracy: 0.70 - ETA: 0s - loss: 1.0255 - accuracy: 0.66 - ETA: 0s - loss: 1.0059 - accuracy: 0.68 - ETA: 0s - loss: 0.9891 - accuracy: 0.68 - ETA: 0s - loss: 0.9691 - accuracy: 0.68 - ETA: 0s - loss: 0.9441 - accuracy: 0.68 - ETA: 0s - loss: 0.9189 - accuracy: 0.70 - 1s 692us/sample - loss: 0.8969 - accuracy: 0.7075 - val_loss: 0.8120 - val_accuracy: 0.7374\n",
      "Epoch 4/30\n",
      "882/882 [==============================] - ETA: 0s - loss: 0.7110 - accuracy: 0.75 - ETA: 0s - loss: 0.6723 - accuracy: 0.79 - ETA: 0s - loss: 0.6630 - accuracy: 0.78 - ETA: 0s - loss: 0.5908 - accuracy: 0.81 - ETA: 0s - loss: 0.5687 - accuracy: 0.81 - ETA: 0s - loss: 0.5507 - accuracy: 0.81 - ETA: 0s - loss: 0.5496 - accuracy: 0.81 - ETA: 0s - loss: 0.5407 - accuracy: 0.81 - ETA: 0s - loss: 0.5377 - accuracy: 0.82 - 1s 675us/sample - loss: 0.5321 - accuracy: 0.8209 - val_loss: 0.6637 - val_accuracy: 0.7576\n",
      "Epoch 5/30\n",
      "882/882 [==============================] - ETA: 0s - loss: 0.6933 - accuracy: 0.68 - ETA: 0s - loss: 0.4681 - accuracy: 0.82 - ETA: 0s - loss: 0.4570 - accuracy: 0.83 - ETA: 0s - loss: 0.4413 - accuracy: 0.83 - ETA: 0s - loss: 0.4298 - accuracy: 0.84 - ETA: 0s - loss: 0.4341 - accuracy: 0.84 - ETA: 0s - loss: 0.4141 - accuracy: 0.85 - ETA: 0s - loss: 0.3958 - accuracy: 0.86 - ETA: 0s - loss: 0.3860 - accuracy: 0.87 - ETA: 0s - loss: 0.3702 - accuracy: 0.88 - 1s 718us/sample - loss: 0.3694 - accuracy: 0.8810 - val_loss: 0.5244 - val_accuracy: 0.8283\n",
      "Epoch 6/30\n",
      "882/882 [==============================] - ETA: 0s - loss: 0.3034 - accuracy: 0.87 - ETA: 0s - loss: 0.3008 - accuracy: 0.89 - ETA: 0s - loss: 0.3132 - accuracy: 0.89 - ETA: 0s - loss: 0.2879 - accuracy: 0.90 - ETA: 0s - loss: 0.2736 - accuracy: 0.90 - ETA: 0s - loss: 0.2796 - accuracy: 0.90 - ETA: 0s - loss: 0.2668 - accuracy: 0.91 - ETA: 0s - loss: 0.2732 - accuracy: 0.91 - ETA: 0s - loss: 0.2615 - accuracy: 0.92 - ETA: 0s - loss: 0.2588 - accuracy: 0.92 - 1s 771us/sample - loss: 0.2513 - accuracy: 0.9252 - val_loss: 0.4104 - val_accuracy: 0.8586\n",
      "Epoch 7/30\n",
      "882/882 [==============================] - ETA: 0s - loss: 0.1753 - accuracy: 1.00 - ETA: 0s - loss: 0.2581 - accuracy: 0.92 - ETA: 0s - loss: 0.2090 - accuracy: 0.94 - ETA: 0s - loss: 0.2113 - accuracy: 0.93 - ETA: 0s - loss: 0.2094 - accuracy: 0.93 - ETA: 0s - loss: 0.2047 - accuracy: 0.93 - ETA: 0s - loss: 0.1973 - accuracy: 0.94 - ETA: 0s - loss: 0.1948 - accuracy: 0.94 - ETA: 0s - loss: 0.1899 - accuracy: 0.94 - ETA: 0s - loss: 0.1860 - accuracy: 0.95 - 1s 741us/sample - loss: 0.1887 - accuracy: 0.9490 - val_loss: 0.3127 - val_accuracy: 0.9091\n",
      "Epoch 8/30\n",
      "882/882 [==============================] - ETA: 0s - loss: 0.1884 - accuracy: 0.96 - ETA: 0s - loss: 0.1662 - accuracy: 0.96 - ETA: 0s - loss: 0.1761 - accuracy: 0.95 - ETA: 0s - loss: 0.1567 - accuracy: 0.96 - ETA: 0s - loss: 0.1437 - accuracy: 0.96 - ETA: 0s - loss: 0.1404 - accuracy: 0.96 - ETA: 0s - loss: 0.1348 - accuracy: 0.96 - ETA: 0s - loss: 0.1271 - accuracy: 0.97 - ETA: 0s - loss: 0.1287 - accuracy: 0.97 - 1s 684us/sample - loss: 0.1296 - accuracy: 0.9728 - val_loss: 0.2465 - val_accuracy: 0.9394\n",
      "Epoch 9/30\n",
      "882/882 [==============================] - ETA: 0s - loss: 0.0719 - accuracy: 1.00 - ETA: 0s - loss: 0.1493 - accuracy: 0.96 - ETA: 0s - loss: 0.1389 - accuracy: 0.96 - ETA: 0s - loss: 0.1382 - accuracy: 0.97 - ETA: 0s - loss: 0.1278 - accuracy: 0.97 - ETA: 0s - loss: 0.1179 - accuracy: 0.97 - ETA: 0s - loss: 0.1086 - accuracy: 0.97 - ETA: 0s - loss: 0.1050 - accuracy: 0.97 - ETA: 0s - loss: 0.1022 - accuracy: 0.97 - 1s 693us/sample - loss: 0.0999 - accuracy: 0.9796 - val_loss: 0.1756 - val_accuracy: 0.9596\n",
      "Epoch 10/30\n",
      "882/882 [==============================] - ETA: 0s - loss: 0.1019 - accuracy: 1.00 - ETA: 0s - loss: 0.0735 - accuracy: 0.99 - ETA: 0s - loss: 0.0975 - accuracy: 0.98 - ETA: 0s - loss: 0.0968 - accuracy: 0.98 - ETA: 0s - loss: 0.0904 - accuracy: 0.98 - ETA: 0s - loss: 0.0920 - accuracy: 0.98 - ETA: 0s - loss: 0.0866 - accuracy: 0.98 - ETA: 0s - loss: 0.0913 - accuracy: 0.98 - ETA: 0s - loss: 0.0870 - accuracy: 0.98 - 1s 687us/sample - loss: 0.0849 - accuracy: 0.9841 - val_loss: 0.1453 - val_accuracy: 0.9596\n",
      "Epoch 11/30\n",
      "882/882 [==============================] - ETA: 0s - loss: 0.0627 - accuracy: 1.00 - ETA: 0s - loss: 0.0462 - accuracy: 1.00 - ETA: 0s - loss: 0.0435 - accuracy: 1.00 - ETA: 0s - loss: 0.0508 - accuracy: 0.99 - ETA: 0s - loss: 0.0576 - accuracy: 0.99 - ETA: 0s - loss: 0.0524 - accuracy: 0.99 - ETA: 0s - loss: 0.0589 - accuracy: 0.99 - ETA: 0s - loss: 0.0548 - accuracy: 0.99 - ETA: 0s - loss: 0.0547 - accuracy: 0.99 - 1s 683us/sample - loss: 0.0565 - accuracy: 0.9955 - val_loss: 0.1100 - val_accuracy: 0.9697\n",
      "Epoch 12/30\n",
      "882/882 [==============================] - ETA: 0s - loss: 0.0223 - accuracy: 1.00 - ETA: 0s - loss: 0.0361 - accuracy: 1.00 - ETA: 0s - loss: 0.0378 - accuracy: 1.00 - ETA: 0s - loss: 0.0428 - accuracy: 0.99 - ETA: 0s - loss: 0.0504 - accuracy: 0.99 - ETA: 0s - loss: 0.0465 - accuracy: 0.99 - ETA: 0s - loss: 0.0489 - accuracy: 0.99 - ETA: 0s - loss: 0.0536 - accuracy: 0.99 - ETA: 0s - loss: 0.0520 - accuracy: 0.99 - 1s 693us/sample - loss: 0.0538 - accuracy: 0.9875 - val_loss: 0.1109 - val_accuracy: 0.9596\n",
      "Epoch 13/30\n",
      "882/882 [==============================] - ETA: 0s - loss: 0.0753 - accuracy: 0.96 - ETA: 0s - loss: 0.0473 - accuracy: 0.99 - ETA: 0s - loss: 0.0532 - accuracy: 0.99 - ETA: 0s - loss: 0.0484 - accuracy: 0.99 - ETA: 0s - loss: 0.0477 - accuracy: 0.99 - ETA: 0s - loss: 0.0479 - accuracy: 0.99 - ETA: 0s - loss: 0.0446 - accuracy: 0.99 - ETA: 0s - loss: 0.0433 - accuracy: 0.99 - ETA: 0s - loss: 0.0405 - accuracy: 0.99 - 1s 697us/sample - loss: 0.0433 - accuracy: 0.9943 - val_loss: 0.0768 - val_accuracy: 0.9798\n",
      "Epoch 14/30\n",
      "882/882 [==============================] - ETA: 0s - loss: 0.0178 - accuracy: 1.00 - ETA: 0s - loss: 0.0270 - accuracy: 1.00 - ETA: 0s - loss: 0.0341 - accuracy: 1.00 - ETA: 0s - loss: 0.0376 - accuracy: 0.99 - ETA: 0s - loss: 0.0333 - accuracy: 0.99 - ETA: 0s - loss: 0.0328 - accuracy: 0.99 - ETA: 0s - loss: 0.0309 - accuracy: 0.99 - ETA: 0s - loss: 0.0310 - accuracy: 0.99 - ETA: 0s - loss: 0.0304 - accuracy: 0.99 - 1s 702us/sample - loss: 0.0305 - accuracy: 0.9977 - val_loss: 0.0431 - val_accuracy: 1.0000\n",
      "Epoch 15/30\n",
      "882/882 [==============================] - ETA: 0s - loss: 0.0143 - accuracy: 1.00 - ETA: 0s - loss: 0.0165 - accuracy: 1.00 - ETA: 0s - loss: 0.0256 - accuracy: 1.00 - ETA: 0s - loss: 0.0242 - accuracy: 1.00 - ETA: 0s - loss: 0.0225 - accuracy: 1.00 - ETA: 0s - loss: 0.0222 - accuracy: 0.99 - ETA: 0s - loss: 0.0250 - accuracy: 0.99 - ETA: 0s - loss: 0.0250 - accuracy: 0.99 - ETA: 0s - loss: 0.0293 - accuracy: 0.99 - 1s 733us/sample - loss: 0.0309 - accuracy: 0.9943 - val_loss: 0.0977 - val_accuracy: 0.9697\n",
      "Epoch 16/30\n"
     ]
    },
    {
     "name": "stdout",
     "output_type": "stream",
     "text": [
      "882/882 [==============================] - ETA: 0s - loss: 0.0753 - accuracy: 0.96 - ETA: 0s - loss: 0.0383 - accuracy: 0.99 - ETA: 0s - loss: 0.0337 - accuracy: 0.99 - ETA: 0s - loss: 0.0589 - accuracy: 0.99 - ETA: 0s - loss: 0.0536 - accuracy: 0.99 - ETA: 0s - loss: 0.0542 - accuracy: 0.99 - ETA: 0s - loss: 0.0522 - accuracy: 0.99 - ETA: 0s - loss: 0.0484 - accuracy: 0.99 - ETA: 0s - loss: 0.0487 - accuracy: 0.99 - 1s 694us/sample - loss: 0.0460 - accuracy: 0.9943 - val_loss: 0.0592 - val_accuracy: 0.9798\n",
      "Epoch 17/30\n",
      "882/882 [==============================] - ETA: 0s - loss: 0.0241 - accuracy: 1.00 - ETA: 0s - loss: 0.0176 - accuracy: 1.00 - ETA: 0s - loss: 0.0171 - accuracy: 1.00 - ETA: 0s - loss: 0.0155 - accuracy: 1.00 - ETA: 0s - loss: 0.0148 - accuracy: 1.00 - ETA: 0s - loss: 0.0146 - accuracy: 1.00 - ETA: 0s - loss: 0.0137 - accuracy: 1.00 - ETA: 0s - loss: 0.0143 - accuracy: 1.00 - ETA: 0s - loss: 0.0151 - accuracy: 1.00 - ETA: 0s - loss: 0.0146 - accuracy: 1.00 - 1s 789us/sample - loss: 0.0147 - accuracy: 1.0000 - val_loss: 0.0313 - val_accuracy: 1.0000\n",
      "Epoch 18/30\n",
      "882/882 [==============================] - ETA: 0s - loss: 0.0157 - accuracy: 1.00 - ETA: 0s - loss: 0.0133 - accuracy: 1.00 - ETA: 0s - loss: 0.0122 - accuracy: 1.00 - ETA: 0s - loss: 0.0129 - accuracy: 1.00 - ETA: 0s - loss: 0.0118 - accuracy: 1.00 - ETA: 0s - loss: 0.0118 - accuracy: 1.00 - ETA: 0s - loss: 0.0117 - accuracy: 1.00 - ETA: 0s - loss: 0.0128 - accuracy: 1.00 - ETA: 0s - loss: 0.0130 - accuracy: 1.00 - 1s 687us/sample - loss: 0.0126 - accuracy: 1.0000 - val_loss: 0.0260 - val_accuracy: 1.0000\n",
      "Epoch 19/30\n",
      "882/882 [==============================] - ETA: 0s - loss: 0.0070 - accuracy: 1.00 - ETA: 0s - loss: 0.0099 - accuracy: 1.00 - ETA: 0s - loss: 0.0131 - accuracy: 1.00 - ETA: 0s - loss: 0.0128 - accuracy: 1.00 - ETA: 0s - loss: 0.0112 - accuracy: 1.00 - ETA: 0s - loss: 0.0111 - accuracy: 1.00 - ETA: 0s - loss: 0.0107 - accuracy: 1.00 - ETA: 0s - loss: 0.0097 - accuracy: 1.00 - ETA: 0s - loss: 0.0096 - accuracy: 1.00 - 1s 665us/sample - loss: 0.0095 - accuracy: 1.0000 - val_loss: 0.0203 - val_accuracy: 1.0000\n",
      "Epoch 20/30\n",
      "882/882 [==============================] - ETA: 0s - loss: 0.0043 - accuracy: 1.00 - ETA: 0s - loss: 0.0086 - accuracy: 1.00 - ETA: 0s - loss: 0.0077 - accuracy: 1.00 - ETA: 0s - loss: 0.0083 - accuracy: 1.00 - ETA: 0s - loss: 0.0090 - accuracy: 1.00 - ETA: 0s - loss: 0.0083 - accuracy: 1.00 - ETA: 0s - loss: 0.0081 - accuracy: 1.00 - ETA: 0s - loss: 0.0083 - accuracy: 1.00 - ETA: 0s - loss: 0.0080 - accuracy: 1.00 - 1s 669us/sample - loss: 0.0079 - accuracy: 1.0000 - val_loss: 0.0263 - val_accuracy: 0.9899\n",
      "Epoch 21/30\n",
      "882/882 [==============================] - ETA: 0s - loss: 0.0011 - accuracy: 1.00 - ETA: 0s - loss: 0.0025 - accuracy: 1.00 - ETA: 0s - loss: 0.0050 - accuracy: 1.00 - ETA: 0s - loss: 0.0053 - accuracy: 1.00 - ETA: 0s - loss: 0.0057 - accuracy: 1.00 - ETA: 0s - loss: 0.0061 - accuracy: 1.00 - ETA: 0s - loss: 0.0060 - accuracy: 1.00 - ETA: 0s - loss: 0.0066 - accuracy: 1.00 - ETA: 0s - loss: 0.0066 - accuracy: 1.00 - ETA: 0s - loss: 0.0069 - accuracy: 1.00 - 1s 775us/sample - loss: 0.0070 - accuracy: 1.0000 - val_loss: 0.0167 - val_accuracy: 1.0000\n",
      "Epoch 22/30\n",
      "882/882 [==============================] - ETA: 0s - loss: 0.0031 - accuracy: 1.00 - ETA: 0s - loss: 0.0028 - accuracy: 1.00 - ETA: 0s - loss: 0.0040 - accuracy: 1.00 - ETA: 0s - loss: 0.0063 - accuracy: 1.00 - ETA: 0s - loss: 0.0062 - accuracy: 1.00 - ETA: 0s - loss: 0.0063 - accuracy: 1.00 - ETA: 0s - loss: 0.0062 - accuracy: 1.00 - ETA: 0s - loss: 0.0059 - accuracy: 1.00 - ETA: 0s - loss: 0.0056 - accuracy: 1.00 - ETA: 0s - loss: 0.0056 - accuracy: 1.00 - ETA: 0s - loss: 0.0060 - accuracy: 1.00 - ETA: 0s - loss: 0.0059 - accuracy: 1.00 - 1s 903us/sample - loss: 0.0058 - accuracy: 1.0000 - val_loss: 0.0138 - val_accuracy: 1.0000\n",
      "Epoch 23/30\n",
      "882/882 [==============================] - ETA: 0s - loss: 0.0046 - accuracy: 1.00 - ETA: 0s - loss: 0.0069 - accuracy: 1.00 - ETA: 0s - loss: 0.0082 - accuracy: 1.00 - ETA: 0s - loss: 0.0087 - accuracy: 1.00 - ETA: 0s - loss: 0.0080 - accuracy: 1.00 - ETA: 0s - loss: 0.0085 - accuracy: 1.00 - ETA: 0s - loss: 0.0086 - accuracy: 1.00 - ETA: 0s - loss: 0.0086 - accuracy: 1.00 - ETA: 0s - loss: 0.0086 - accuracy: 1.00 - ETA: 0s - loss: 0.0081 - accuracy: 1.00 - 1s 712us/sample - loss: 0.0079 - accuracy: 1.0000 - val_loss: 0.0184 - val_accuracy: 0.9899\n",
      "Epoch 24/30\n",
      "882/882 [==============================] - ETA: 0s - loss: 0.0052 - accuracy: 1.00 - ETA: 0s - loss: 0.0110 - accuracy: 1.00 - ETA: 0s - loss: 0.0085 - accuracy: 1.00 - ETA: 0s - loss: 0.0086 - accuracy: 1.00 - ETA: 0s - loss: 0.0093 - accuracy: 1.00 - ETA: 0s - loss: 0.0106 - accuracy: 1.00 - ETA: 0s - loss: 0.0105 - accuracy: 1.00 - ETA: 0s - loss: 0.0105 - accuracy: 1.00 - ETA: 0s - loss: 0.0103 - accuracy: 1.00 - 1s 720us/sample - loss: 0.0097 - accuracy: 1.0000 - val_loss: 0.0102 - val_accuracy: 1.0000\n",
      "Epoch 25/30\n",
      "882/882 [==============================] - ETA: 0s - loss: 0.0074 - accuracy: 1.00 - ETA: 0s - loss: 0.0084 - accuracy: 1.00 - ETA: 0s - loss: 0.0062 - accuracy: 1.00 - ETA: 0s - loss: 0.0056 - accuracy: 1.00 - ETA: 0s - loss: 0.0051 - accuracy: 1.00 - ETA: 0s - loss: 0.0057 - accuracy: 1.00 - ETA: 0s - loss: 0.0053 - accuracy: 1.00 - ETA: 0s - loss: 0.0054 - accuracy: 1.00 - ETA: 0s - loss: 0.0053 - accuracy: 1.00 - 1s 688us/sample - loss: 0.0050 - accuracy: 1.0000 - val_loss: 0.0119 - val_accuracy: 1.0000\n",
      "Epoch 26/30\n",
      "882/882 [==============================] - ETA: 0s - loss: 0.0065 - accuracy: 1.00 - ETA: 0s - loss: 0.0049 - accuracy: 1.00 - ETA: 0s - loss: 0.0043 - accuracy: 1.00 - ETA: 0s - loss: 0.0040 - accuracy: 1.00 - ETA: 0s - loss: 0.0043 - accuracy: 1.00 - ETA: 0s - loss: 0.0041 - accuracy: 1.00 - ETA: 0s - loss: 0.0041 - accuracy: 1.00 - ETA: 0s - loss: 0.0041 - accuracy: 1.00 - ETA: 0s - loss: 0.0042 - accuracy: 1.00 - 1s 668us/sample - loss: 0.0040 - accuracy: 1.0000 - val_loss: 0.0141 - val_accuracy: 1.0000\n",
      "Epoch 27/30\n",
      "882/882 [==============================] - ETA: 0s - loss: 0.0035 - accuracy: 1.00 - ETA: 0s - loss: 0.0037 - accuracy: 1.00 - ETA: 0s - loss: 0.0040 - accuracy: 1.00 - ETA: 0s - loss: 0.0032 - accuracy: 1.00 - ETA: 0s - loss: 0.0030 - accuracy: 1.00 - ETA: 0s - loss: 0.0031 - accuracy: 1.00 - ETA: 0s - loss: 0.0031 - accuracy: 1.00 - ETA: 0s - loss: 0.0031 - accuracy: 1.00 - ETA: 0s - loss: 0.0030 - accuracy: 1.00 - 1s 654us/sample - loss: 0.0031 - accuracy: 1.0000 - val_loss: 0.0082 - val_accuracy: 1.0000\n",
      "Epoch 28/30\n",
      "882/882 [==============================] - ETA: 0s - loss: 0.0019 - accuracy: 1.00 - ETA: 0s - loss: 0.0039 - accuracy: 1.00 - ETA: 0s - loss: 0.0033 - accuracy: 1.00 - ETA: 0s - loss: 0.0034 - accuracy: 1.00 - ETA: 0s - loss: 0.0034 - accuracy: 1.00 - ETA: 0s - loss: 0.0034 - accuracy: 1.00 - ETA: 0s - loss: 0.0034 - accuracy: 1.00 - ETA: 0s - loss: 0.0037 - accuracy: 1.00 - ETA: 0s - loss: 0.0036 - accuracy: 1.00 - 1s 694us/sample - loss: 0.0035 - accuracy: 1.0000 - val_loss: 0.0088 - val_accuracy: 1.0000\n",
      "Epoch 29/30\n",
      "882/882 [==============================] - ETA: 0s - loss: 0.0034 - accuracy: 1.00 - ETA: 0s - loss: 0.0057 - accuracy: 1.00 - ETA: 0s - loss: 0.0041 - accuracy: 1.00 - ETA: 0s - loss: 0.0040 - accuracy: 1.00 - ETA: 0s - loss: 0.0038 - accuracy: 1.00 - ETA: 0s - loss: 0.0038 - accuracy: 1.00 - ETA: 0s - loss: 0.0035 - accuracy: 1.00 - ETA: 0s - loss: 0.0033 - accuracy: 1.00 - ETA: 0s - loss: 0.0032 - accuracy: 1.00 - 1s 690us/sample - loss: 0.0031 - accuracy: 1.0000 - val_loss: 0.0098 - val_accuracy: 1.0000\n",
      "Epoch 30/30\n",
      "882/882 [==============================] - ETA: 0s - loss: 0.0023 - accuracy: 1.00 - ETA: 0s - loss: 0.0022 - accuracy: 1.00 - ETA: 0s - loss: 0.0025 - accuracy: 1.00 - ETA: 0s - loss: 0.0024 - accuracy: 1.00 - ETA: 0s - loss: 0.0021 - accuracy: 1.00 - ETA: 0s - loss: 0.0022 - accuracy: 1.00 - ETA: 0s - loss: 0.0021 - accuracy: 1.00 - ETA: 0s - loss: 0.0022 - accuracy: 1.00 - ETA: 0s - loss: 0.0023 - accuracy: 1.00 - 1s 658us/sample - loss: 0.0022 - accuracy: 1.0000 - val_loss: 0.0111 - val_accuracy: 1.0000\n"
     ]
    }
   ],
   "source": [
    "cnn = models.Sequential([\n",
    "    layers.Conv2D(filters=16, kernel_size=(3, 3), activation='relu', input_shape=(48, 48, 1)),\n",
    "    layers.MaxPooling2D((2, 2)),\n",
    "    \n",
    "    layers.Conv2D(filters=32, kernel_size=(3, 3), activation='relu'),\n",
    "    layers.MaxPooling2D((2, 2)),\n",
    "    \n",
    "    layers.Flatten(),\n",
    "    layers.Dense(64, activation='relu'),\n",
    "    layers.Dense(len(emotions), activation='softmax')\n",
    "])\n",
    "\n",
    "cnn.compile(optimizer='adam',\n",
    "              loss='sparse_categorical_crossentropy',\n",
    "              metrics=['accuracy'])\n",
    "\n",
    "run_hist = cnn.fit(train_data, train_target, epochs=30, validation_data=(test_data, test_target), shuffle=True, \n",
    "                          verbose=1)"
   ]
  },
  {
   "cell_type": "code",
   "execution_count": 32,
   "metadata": {},
   "outputs": [
    {
     "data": {
      "image/png": "[encoded data removed]",
      "text/plain": [
       "<Figure size 432x288 with 1 Axes>"
      ]
     },
     "metadata": {
      "needs_background": "light"
     },
     "output_type": "display_data"
    }
   ],
   "source": [
    "plt.plot(run_hist.history[\"loss\"], 'r', marker='.', label=\"Train Loss\")\n",
    "plt.plot(run_hist.history[\"val_loss\"], 'b', marker='.', label=\"Validation Loss\")\n",
    "plt.title(\"CNN learning\")\n",
    "plt.legend()\n",
    "plt.grid()"
   ]
  },
  {
   "cell_type": "code",
   "execution_count": 33,
   "metadata": {},
   "outputs": [
    {
     "data": {
      "text/plain": [
       "<AxesSubplot:>"
      ]
     },
     "execution_count": 33,
     "metadata": {},
     "output_type": "execute_result"
    },
    {
     "data": {
      "image/png": "[encoded data removed]",
      "text/plain": [
       "<Figure size 432x288 with 2 Axes>"
      ]
     },
     "metadata": {
      "needs_background": "light"
     },
     "output_type": "display_data"
    }
   ],
   "source": [
    "cnn_predictions = cnn.predict(test_data)\n",
    "emotions_predictions = [np.argmax(prediction) for prediction in cnn_predictions]\n",
    "\n",
    "confusion_matrix = metrics.confusion_matrix(y_true=test_target, y_pred=emotions_predictions)\n",
    "\n",
    "sns.heatmap(confusion_matrix)"
   ]
  },
  {
   "cell_type": "code",
   "execution_count": 34,
   "metadata": {},
   "outputs": [
    {
     "name": "stdout",
     "output_type": "stream",
     "text": [
      "99/99 [==============================] - ETA: 0s - loss: 0.0058 - accuracy: 1.00 - 0s 312us/sample - loss: 0.0111 - accuracy: 1.0000\n"
     ]
    }
   ],
   "source": [
    "score = cnn.evaluate(test_data, test_target)"
   ]
  },
  {
   "cell_type": "code",
   "execution_count": 35,
   "metadata": {},
   "outputs": [
    {
     "name": "stdout",
     "output_type": "stream",
     "text": [
      "Model accuracy rate:  1.0\n",
      "Model validation loss:  0.011068670888139743\n"
     ]
    }
   ],
   "source": [
    "print('Model accuracy rate: ', score[1])\n",
    "print('Model validation loss: ',score[0])"
   ]
  },
  {
   "cell_type": "code",
   "execution_count": 36,
   "metadata": {},
   "outputs": [
    {
     "name": "stdout",
     "output_type": "stream",
     "text": [
      "Train on 784 samples\n",
      "Epoch 1/30\n",
      "784/784 [==============================] - ETA: 8s - loss: 1.9360 - accuracy: 0.09 - ETA: 3s - loss: 1.9341 - accuracy: 0.15 - ETA: 1s - loss: 1.8688 - accuracy: 0.20 - ETA: 0s - loss: 1.8196 - accuracy: 0.26 - ETA: 0s - loss: 1.8316 - accuracy: 0.25 - ETA: 0s - loss: 1.8158 - accuracy: 0.25 - ETA: 0s - loss: 1.8032 - accuracy: 0.27 - ETA: 0s - loss: 1.7911 - accuracy: 0.27 - ETA: 0s - loss: 1.7942 - accuracy: 0.28 - 1s 1ms/sample - loss: 1.7869 - accuracy: 0.2883\n",
      "Epoch 2/30\n",
      "784/784 [==============================] - ETA: 0s - loss: 1.6261 - accuracy: 0.34 - ETA: 0s - loss: 1.6266 - accuracy: 0.35 - ETA: 0s - loss: 1.6440 - accuracy: 0.39 - ETA: 0s - loss: 1.6045 - accuracy: 0.45 - ETA: 0s - loss: 1.5973 - accuracy: 0.44 - ETA: 0s - loss: 1.5768 - accuracy: 0.45 - ETA: 0s - loss: 1.5306 - accuracy: 0.47 - ETA: 0s - loss: 1.5248 - accuracy: 0.46 - 1s 699us/sample - loss: 1.5046 - accuracy: 0.4770\n",
      "Epoch 3/30\n",
      "784/784 [==============================] - ETA: 0s - loss: 1.3531 - accuracy: 0.62 - ETA: 0s - loss: 1.2506 - accuracy: 0.59 - ETA: 0s - loss: 1.2264 - accuracy: 0.58 - ETA: 0s - loss: 1.1979 - accuracy: 0.61 - ETA: 0s - loss: 1.1601 - accuracy: 0.62 - ETA: 0s - loss: 1.1394 - accuracy: 0.64 - ETA: 0s - loss: 1.1097 - accuracy: 0.65 - ETA: 0s - loss: 1.0896 - accuracy: 0.66 - 1s 646us/sample - loss: 1.0791 - accuracy: 0.6671\n",
      "Epoch 4/30\n",
      "784/784 [==============================] - ETA: 0s - loss: 0.8330 - accuracy: 0.81 - ETA: 0s - loss: 0.8591 - accuracy: 0.73 - ETA: 0s - loss: 0.8249 - accuracy: 0.75 - ETA: 0s - loss: 0.7891 - accuracy: 0.75 - ETA: 0s - loss: 0.7691 - accuracy: 0.75 - ETA: 0s - loss: 0.7592 - accuracy: 0.76 - ETA: 0s - loss: 0.7478 - accuracy: 0.76 - ETA: 0s - loss: 0.7317 - accuracy: 0.77 - 0s 632us/sample - loss: 0.7134 - accuracy: 0.7793\n",
      "Epoch 5/30\n",
      "784/784 [==============================] - ETA: 0s - loss: 0.8581 - accuracy: 0.78 - ETA: 0s - loss: 0.6134 - accuracy: 0.82 - ETA: 0s - loss: 0.5920 - accuracy: 0.81 - ETA: 0s - loss: 0.5746 - accuracy: 0.82 - ETA: 0s - loss: 0.5516 - accuracy: 0.83 - ETA: 0s - loss: 0.5589 - accuracy: 0.83 - ETA: 0s - loss: 0.5479 - accuracy: 0.83 - ETA: 0s - loss: 0.5342 - accuracy: 0.84 - 1s 646us/sample - loss: 0.5311 - accuracy: 0.8457\n",
      "Epoch 6/30\n",
      "784/784 [==============================] - ETA: 0s - loss: 0.5343 - accuracy: 0.75 - ETA: 0s - loss: 0.4186 - accuracy: 0.84 - ETA: 0s - loss: 0.4554 - accuracy: 0.83 - ETA: 0s - loss: 0.4438 - accuracy: 0.84 - ETA: 0s - loss: 0.4182 - accuracy: 0.86 - ETA: 0s - loss: 0.3891 - accuracy: 0.88 - ETA: 0s - loss: 0.3874 - accuracy: 0.87 - ETA: 0s - loss: 0.3745 - accuracy: 0.88 - 1s 649us/sample - loss: 0.3739 - accuracy: 0.8878\n",
      "Epoch 7/30\n",
      "784/784 [==============================] - ETA: 0s - loss: 0.2116 - accuracy: 0.96 - ETA: 0s - loss: 0.2680 - accuracy: 0.92 - ETA: 0s - loss: 0.2778 - accuracy: 0.91 - ETA: 0s - loss: 0.2670 - accuracy: 0.92 - ETA: 0s - loss: 0.2755 - accuracy: 0.93 - ETA: 0s - loss: 0.2731 - accuracy: 0.92 - ETA: 0s - loss: 0.2693 - accuracy: 0.93 - ETA: 0s - loss: 0.2748 - accuracy: 0.92 - 0s 624us/sample - loss: 0.2687 - accuracy: 0.9324\n",
      "Epoch 8/30\n",
      "784/784 [==============================] - ETA: 0s - loss: 0.1788 - accuracy: 0.96 - ETA: 0s - loss: 0.2189 - accuracy: 0.92 - ETA: 0s - loss: 0.2172 - accuracy: 0.93 - ETA: 0s - loss: 0.2169 - accuracy: 0.94 - ETA: 0s - loss: 0.2144 - accuracy: 0.93 - ETA: 0s - loss: 0.2076 - accuracy: 0.93 - ETA: 0s - loss: 0.2089 - accuracy: 0.94 - ETA: 0s - loss: 0.2130 - accuracy: 0.94 - 1s 652us/sample - loss: 0.2090 - accuracy: 0.9452\n",
      "Epoch 9/30\n",
      "784/784 [==============================] - ETA: 0s - loss: 0.1521 - accuracy: 0.96 - ETA: 0s - loss: 0.1367 - accuracy: 0.98 - ETA: 0s - loss: 0.1625 - accuracy: 0.97 - ETA: 0s - loss: 0.1563 - accuracy: 0.97 - ETA: 0s - loss: 0.1754 - accuracy: 0.95 - ETA: 0s - loss: 0.1763 - accuracy: 0.95 - ETA: 0s - loss: 0.1952 - accuracy: 0.94 - ETA: 0s - loss: 0.1824 - accuracy: 0.95 - ETA: 0s - loss: 0.1794 - accuracy: 0.94 - 1s 710us/sample - loss: 0.1774 - accuracy: 0.9503\n",
      "Epoch 10/30\n",
      "784/784 [==============================] - ETA: 0s - loss: 0.2336 - accuracy: 0.93 - ETA: 0s - loss: 0.1635 - accuracy: 0.95 - ETA: 0s - loss: 0.1367 - accuracy: 0.96 - ETA: 0s - loss: 0.1505 - accuracy: 0.96 - ETA: 0s - loss: 0.1460 - accuracy: 0.96 - ETA: 0s - loss: 0.1464 - accuracy: 0.96 - ETA: 0s - loss: 0.1468 - accuracy: 0.96 - ETA: 0s - loss: 0.1486 - accuracy: 0.97 - 1s 659us/sample - loss: 0.1424 - accuracy: 0.9719\n",
      "Epoch 11/30\n",
      "784/784 [==============================] - ETA: 0s - loss: 0.0810 - accuracy: 0.96 - ETA: 0s - loss: 0.1447 - accuracy: 0.96 - ETA: 0s - loss: 0.1389 - accuracy: 0.95 - ETA: 0s - loss: 0.1263 - accuracy: 0.96 - ETA: 0s - loss: 0.1205 - accuracy: 0.96 - ETA: 0s - loss: 0.1169 - accuracy: 0.97 - ETA: 0s - loss: 0.1177 - accuracy: 0.97 - ETA: 0s - loss: 0.1109 - accuracy: 0.97 - 0s 637us/sample - loss: 0.1088 - accuracy: 0.9745\n",
      "Epoch 12/30\n",
      "784/784 [==============================] - ETA: 0s - loss: 0.0529 - accuracy: 1.00 - ETA: 0s - loss: 0.0918 - accuracy: 0.97 - ETA: 0s - loss: 0.0973 - accuracy: 0.97 - ETA: 0s - loss: 0.0886 - accuracy: 0.97 - ETA: 0s - loss: 0.0948 - accuracy: 0.97 - ETA: 0s - loss: 0.0890 - accuracy: 0.98 - ETA: 0s - loss: 0.0902 - accuracy: 0.98 - ETA: 0s - loss: 0.0895 - accuracy: 0.98 - 0s 628us/sample - loss: 0.0867 - accuracy: 0.9821\n",
      "Epoch 13/30\n",
      "784/784 [==============================] - ETA: 0s - loss: 0.0321 - accuracy: 1.00 - ETA: 0s - loss: 0.0536 - accuracy: 0.99 - ETA: 0s - loss: 0.0664 - accuracy: 0.98 - ETA: 0s - loss: 0.0646 - accuracy: 0.99 - ETA: 0s - loss: 0.0669 - accuracy: 0.98 - ETA: 0s - loss: 0.0626 - accuracy: 0.99 - ETA: 0s - loss: 0.0625 - accuracy: 0.99 - ETA: 0s - loss: 0.0615 - accuracy: 0.99 - 0s 637us/sample - loss: 0.0619 - accuracy: 0.9898\n",
      "Epoch 14/30\n",
      "784/784 [==============================] - ETA: 0s - loss: 0.1392 - accuracy: 0.93 - ETA: 0s - loss: 0.0560 - accuracy: 0.98 - ETA: 0s - loss: 0.0523 - accuracy: 0.99 - ETA: 0s - loss: 0.0664 - accuracy: 0.98 - ETA: 0s - loss: 0.0600 - accuracy: 0.99 - ETA: 0s - loss: 0.0625 - accuracy: 0.98 - ETA: 0s - loss: 0.0633 - accuracy: 0.98 - ETA: 0s - loss: 0.0619 - accuracy: 0.99 - 0s 637us/sample - loss: 0.0598 - accuracy: 0.9911\n",
      "Epoch 15/30\n",
      "784/784 [==============================] - ETA: 0s - loss: 0.0238 - accuracy: 1.00 - ETA: 0s - loss: 0.0492 - accuracy: 1.00 - ETA: 0s - loss: 0.0453 - accuracy: 0.99 - ETA: 0s - loss: 0.0428 - accuracy: 0.99 - ETA: 0s - loss: 0.0443 - accuracy: 0.99 - ETA: 0s - loss: 0.0442 - accuracy: 0.99 - ETA: 0s - loss: 0.0439 - accuracy: 0.99 - ETA: 0s - loss: 0.0434 - accuracy: 0.99 - ETA: 0s - loss: 0.0422 - accuracy: 0.99 - 1s 654us/sample - loss: 0.0416 - accuracy: 0.9949\n",
      "Epoch 16/30\n",
      "784/784 [==============================] - ETA: 0s - loss: 0.1358 - accuracy: 0.96 - ETA: 0s - loss: 0.0657 - accuracy: 0.99 - ETA: 0s - loss: 0.0510 - accuracy: 0.99 - ETA: 0s - loss: 0.0447 - accuracy: 0.99 - ETA: 0s - loss: 0.0456 - accuracy: 0.99 - ETA: 0s - loss: 0.0400 - accuracy: 0.99 - ETA: 0s - loss: 0.0406 - accuracy: 0.99 - ETA: 0s - loss: 0.0388 - accuracy: 0.99 - 0s 634us/sample - loss: 0.0378 - accuracy: 0.9962\n",
      "Epoch 17/30\n",
      "784/784 [==============================] - ETA: 0s - loss: 0.0388 - accuracy: 1.00 - ETA: 0s - loss: 0.0356 - accuracy: 1.00 - ETA: 0s - loss: 0.0274 - accuracy: 1.00 - ETA: 0s - loss: 0.0328 - accuracy: 0.99 - ETA: 0s - loss: 0.0312 - accuracy: 0.99 - ETA: 0s - loss: 0.0313 - accuracy: 0.99 - ETA: 0s - loss: 0.0331 - accuracy: 0.99 - ETA: 0s - loss: 0.0348 - accuracy: 0.99 - 0s 625us/sample - loss: 0.0334 - accuracy: 0.9949\n",
      "Epoch 18/30\n",
      "784/784 [==============================] - ETA: 0s - loss: 0.0222 - accuracy: 1.00 - ETA: 0s - loss: 0.0209 - accuracy: 1.00 - ETA: 0s - loss: 0.0217 - accuracy: 1.00 - ETA: 0s - loss: 0.0240 - accuracy: 1.00 - ETA: 0s - loss: 0.0250 - accuracy: 0.99 - ETA: 0s - loss: 0.0277 - accuracy: 0.99 - ETA: 0s - loss: 0.0260 - accuracy: 0.99 - ETA: 0s - loss: 0.0337 - accuracy: 0.99 - 0s 628us/sample - loss: 0.0349 - accuracy: 0.9898\n",
      "Epoch 19/30\n"
     ]
    },
    {
     "name": "stdout",
     "output_type": "stream",
     "text": [
      "784/784 [==============================] - ETA: 0s - loss: 0.0704 - accuracy: 0.96 - ETA: 0s - loss: 0.0618 - accuracy: 0.97 - ETA: 0s - loss: 0.0487 - accuracy: 0.98 - ETA: 0s - loss: 0.0515 - accuracy: 0.98 - ETA: 0s - loss: 0.0541 - accuracy: 0.98 - ETA: 0s - loss: 0.0497 - accuracy: 0.98 - ETA: 0s - loss: 0.0489 - accuracy: 0.98 - ETA: 0s - loss: 0.0466 - accuracy: 0.98 - 0s 602us/sample - loss: 0.0471 - accuracy: 0.9872\n",
      "Epoch 20/30\n",
      "784/784 [==============================] - ETA: 0s - loss: 0.0872 - accuracy: 1.00 - ETA: 0s - loss: 0.0474 - accuracy: 1.00 - ETA: 0s - loss: 0.0542 - accuracy: 0.98 - ETA: 0s - loss: 0.0474 - accuracy: 0.99 - ETA: 0s - loss: 0.0583 - accuracy: 0.98 - ETA: 0s - loss: 0.0520 - accuracy: 0.98 - ETA: 0s - loss: 0.0626 - accuracy: 0.98 - ETA: 0s - loss: 0.0595 - accuracy: 0.98 - 0s 615us/sample - loss: 0.0573 - accuracy: 0.9834\n",
      "Epoch 21/30\n",
      "784/784 [==============================] - ETA: 0s - loss: 0.0438 - accuracy: 1.00 - ETA: 0s - loss: 0.0221 - accuracy: 1.00 - ETA: 0s - loss: 0.0218 - accuracy: 0.99 - ETA: 0s - loss: 0.0222 - accuracy: 0.99 - ETA: 0s - loss: 0.0193 - accuracy: 0.99 - ETA: 0s - loss: 0.0211 - accuracy: 0.99 - ETA: 0s - loss: 0.0205 - accuracy: 0.99 - ETA: 0s - loss: 0.0194 - accuracy: 0.99 - 0s 613us/sample - loss: 0.0189 - accuracy: 0.9974\n",
      "Epoch 22/30\n",
      "784/784 [==============================] - ETA: 0s - loss: 0.0087 - accuracy: 1.00 - ETA: 0s - loss: 0.0063 - accuracy: 1.00 - ETA: 0s - loss: 0.0064 - accuracy: 1.00 - ETA: 0s - loss: 0.0090 - accuracy: 1.00 - ETA: 0s - loss: 0.0100 - accuracy: 1.00 - ETA: 0s - loss: 0.0113 - accuracy: 1.00 - ETA: 0s - loss: 0.0120 - accuracy: 1.00 - ETA: 0s - loss: 0.0112 - accuracy: 1.00 - 0s 620us/sample - loss: 0.0111 - accuracy: 1.0000\n",
      "Epoch 23/30\n",
      "784/784 [==============================] - ETA: 0s - loss: 0.0083 - accuracy: 1.00 - ETA: 0s - loss: 0.0121 - accuracy: 1.00 - ETA: 0s - loss: 0.0106 - accuracy: 1.00 - ETA: 0s - loss: 0.0103 - accuracy: 1.00 - ETA: 0s - loss: 0.0093 - accuracy: 1.00 - ETA: 0s - loss: 0.0092 - accuracy: 1.00 - ETA: 0s - loss: 0.0096 - accuracy: 1.00 - ETA: 0s - loss: 0.0102 - accuracy: 1.00 - 0s 605us/sample - loss: 0.0097 - accuracy: 1.0000\n",
      "Epoch 24/30\n",
      "784/784 [==============================] - ETA: 0s - loss: 0.0011 - accuracy: 1.00 - ETA: 0s - loss: 0.0145 - accuracy: 1.00 - ETA: 0s - loss: 0.0106 - accuracy: 1.00 - ETA: 0s - loss: 0.0103 - accuracy: 1.00 - ETA: 0s - loss: 0.0096 - accuracy: 1.00 - ETA: 0s - loss: 0.0091 - accuracy: 1.00 - ETA: 0s - loss: 0.0095 - accuracy: 1.00 - ETA: 0s - loss: 0.0092 - accuracy: 1.00 - 0s 618us/sample - loss: 0.0091 - accuracy: 1.0000\n",
      "Epoch 25/30\n",
      "784/784 [==============================] - ETA: 0s - loss: 0.0041 - accuracy: 1.00 - ETA: 0s - loss: 0.0065 - accuracy: 1.00 - ETA: 0s - loss: 0.0058 - accuracy: 1.00 - ETA: 0s - loss: 0.0071 - accuracy: 1.00 - ETA: 0s - loss: 0.0064 - accuracy: 1.00 - ETA: 0s - loss: 0.0066 - accuracy: 1.00 - ETA: 0s - loss: 0.0063 - accuracy: 1.00 - ETA: 0s - loss: 0.0066 - accuracy: 1.00 - 0s 618us/sample - loss: 0.0066 - accuracy: 1.0000\n",
      "Epoch 26/30\n",
      "784/784 [==============================] - ETA: 0s - loss: 0.0019 - accuracy: 1.00 - ETA: 0s - loss: 0.0032 - accuracy: 1.00 - ETA: 0s - loss: 0.0048 - accuracy: 1.00 - ETA: 0s - loss: 0.0046 - accuracy: 1.00 - ETA: 0s - loss: 0.0048 - accuracy: 1.00 - ETA: 0s - loss: 0.0050 - accuracy: 1.00 - ETA: 0s - loss: 0.0049 - accuracy: 1.00 - ETA: 0s - loss: 0.0053 - accuracy: 1.00 - 1s 652us/sample - loss: 0.0052 - accuracy: 1.0000\n",
      "Epoch 27/30\n",
      "784/784 [==============================] - ETA: 0s - loss: 0.0025 - accuracy: 1.00 - ETA: 0s - loss: 0.0065 - accuracy: 1.00 - ETA: 0s - loss: 0.0061 - accuracy: 1.00 - ETA: 0s - loss: 0.0062 - accuracy: 1.00 - ETA: 0s - loss: 0.0064 - accuracy: 1.00 - ETA: 0s - loss: 0.0062 - accuracy: 1.00 - ETA: 0s - loss: 0.0058 - accuracy: 1.00 - ETA: 0s - loss: 0.0055 - accuracy: 1.00 - 1s 645us/sample - loss: 0.0054 - accuracy: 1.0000\n",
      "Epoch 28/30\n",
      "784/784 [==============================] - ETA: 0s - loss: 0.0036 - accuracy: 1.00 - ETA: 0s - loss: 0.0061 - accuracy: 1.00 - ETA: 0s - loss: 0.0052 - accuracy: 1.00 - ETA: 0s - loss: 0.0046 - accuracy: 1.00 - ETA: 0s - loss: 0.0044 - accuracy: 1.00 - ETA: 0s - loss: 0.0050 - accuracy: 1.00 - ETA: 0s - loss: 0.0048 - accuracy: 1.00 - ETA: 0s - loss: 0.0049 - accuracy: 1.00 - ETA: 0s - loss: 0.0047 - accuracy: 1.00 - 1s 691us/sample - loss: 0.0047 - accuracy: 1.0000\n",
      "Epoch 29/30\n",
      "784/784 [==============================] - ETA: 0s - loss: 0.0048 - accuracy: 1.00 - ETA: 0s - loss: 0.0059 - accuracy: 1.00 - ETA: 0s - loss: 0.0052 - accuracy: 1.00 - ETA: 0s - loss: 0.0050 - accuracy: 1.00 - ETA: 0s - loss: 0.0048 - accuracy: 1.00 - ETA: 0s - loss: 0.0046 - accuracy: 1.00 - ETA: 0s - loss: 0.0042 - accuracy: 1.00 - ETA: 0s - loss: 0.0040 - accuracy: 1.00 - ETA: 0s - loss: 0.0046 - accuracy: 1.00 - 1s 739us/sample - loss: 0.0045 - accuracy: 1.0000\n",
      "Epoch 30/30\n",
      "784/784 [==============================] - ETA: 0s - loss: 0.0018 - accuracy: 1.00 - ETA: 0s - loss: 0.0079 - accuracy: 1.00 - ETA: 0s - loss: 0.0062 - accuracy: 1.00 - ETA: 0s - loss: 0.0050 - accuracy: 1.00 - ETA: 0s - loss: 0.0061 - accuracy: 1.00 - ETA: 0s - loss: 0.0054 - accuracy: 1.00 - ETA: 0s - loss: 0.0051 - accuracy: 1.00 - ETA: 0s - loss: 0.0049 - accuracy: 1.00 - ETA: 0s - loss: 0.0054 - accuracy: 1.00 - 1s 688us/sample - loss: 0.0053 - accuracy: 1.0000\n",
      "197/197 [==============================] - ETA: 0s - loss: 0.0757 - accuracy: 0.96 - 0s 661us/sample - loss: 0.0497 - accuracy: 0.9848\n",
      "Train on 785 samples\n",
      "Epoch 1/30\n",
      "785/785 [==============================] - ETA: 9s - loss: 1.9467 - accuracy: 0.15 - ETA: 2s - loss: 1.8936 - accuracy: 0.20 - ETA: 1s - loss: 1.8360 - accuracy: 0.28 - ETA: 0s - loss: 1.8195 - accuracy: 0.28 - ETA: 0s - loss: 1.8081 - accuracy: 0.28 - ETA: 0s - loss: 1.8048 - accuracy: 0.28 - ETA: 0s - loss: 1.7909 - accuracy: 0.27 - ETA: 0s - loss: 1.7927 - accuracy: 0.27 - ETA: 0s - loss: 1.7866 - accuracy: 0.28 - 1s 1ms/sample - loss: 1.7851 - accuracy: 0.2854\n",
      "Epoch 2/30\n",
      "785/785 [==============================] - ETA: 0s - loss: 1.7320 - accuracy: 0.50 - ETA: 0s - loss: 1.7508 - accuracy: 0.49 - ETA: 0s - loss: 1.6770 - accuracy: 0.52 - ETA: 0s - loss: 1.6630 - accuracy: 0.52 - ETA: 0s - loss: 1.6510 - accuracy: 0.51 - ETA: 0s - loss: 1.6364 - accuracy: 0.52 - ETA: 0s - loss: 1.6251 - accuracy: 0.52 - ETA: 0s - loss: 1.5902 - accuracy: 0.53 - ETA: 0s - loss: 1.5813 - accuracy: 0.54 - 1s 709us/sample - loss: 1.5677 - accuracy: 0.5503\n",
      "Epoch 3/30\n",
      "785/785 [==============================] - ETA: 0s - loss: 1.3722 - accuracy: 0.65 - ETA: 0s - loss: 1.3606 - accuracy: 0.65 - ETA: 0s - loss: 1.3232 - accuracy: 0.66 - ETA: 0s - loss: 1.2647 - accuracy: 0.67 - ETA: 0s - loss: 1.2357 - accuracy: 0.67 - ETA: 0s - loss: 1.2092 - accuracy: 0.67 - ETA: 0s - loss: 1.1576 - accuracy: 0.68 - ETA: 0s - loss: 1.1112 - accuracy: 0.69 - ETA: 0s - loss: 1.0806 - accuracy: 0.70 - 1s 694us/sample - loss: 1.0775 - accuracy: 0.7045\n",
      "Epoch 4/30\n",
      "785/785 [==============================] - ETA: 0s - loss: 0.6009 - accuracy: 0.90 - ETA: 0s - loss: 0.6756 - accuracy: 0.84 - ETA: 0s - loss: 0.6719 - accuracy: 0.82 - ETA: 0s - loss: 0.7185 - accuracy: 0.76 - ETA: 0s - loss: 0.7166 - accuracy: 0.77 - ETA: 0s - loss: 0.7139 - accuracy: 0.77 - ETA: 0s - loss: 0.7128 - accuracy: 0.78 - ETA: 0s - loss: 0.7052 - accuracy: 0.78 - ETA: 0s - loss: 0.6992 - accuracy: 0.78 - 1s 739us/sample - loss: 0.6902 - accuracy: 0.7885\n",
      "Epoch 5/30\n",
      "785/785 [==============================] - ETA: 0s - loss: 0.5474 - accuracy: 0.87 - ETA: 0s - loss: 0.5590 - accuracy: 0.85 - ETA: 0s - loss: 0.5890 - accuracy: 0.82 - ETA: 0s - loss: 0.5413 - accuracy: 0.83 - ETA: 0s - loss: 0.5131 - accuracy: 0.84 - ETA: 0s - loss: 0.5207 - accuracy: 0.83 - ETA: 0s - loss: 0.5008 - accuracy: 0.85 - ETA: 0s - loss: 0.4822 - accuracy: 0.86 - 1s 683us/sample - loss: 0.4864 - accuracy: 0.8599\n",
      "Epoch 6/30\n"
     ]
    },
    {
     "name": "stdout",
     "output_type": "stream",
     "text": [
      "785/785 [==============================] - ETA: 0s - loss: 0.7583 - accuracy: 0.75 - ETA: 0s - loss: 0.4617 - accuracy: 0.87 - ETA: 0s - loss: 0.3654 - accuracy: 0.90 - ETA: 0s - loss: 0.3548 - accuracy: 0.90 - ETA: 0s - loss: 0.3483 - accuracy: 0.89 - ETA: 0s - loss: 0.3534 - accuracy: 0.88 - ETA: 0s - loss: 0.3451 - accuracy: 0.89 - ETA: 0s - loss: 0.3394 - accuracy: 0.89 - ETA: 0s - loss: 0.3372 - accuracy: 0.89 - 1s 744us/sample - loss: 0.3359 - accuracy: 0.8994\n",
      "Epoch 7/30\n",
      "785/785 [==============================] - ETA: 0s - loss: 0.2207 - accuracy: 0.93 - ETA: 0s - loss: 0.2677 - accuracy: 0.89 - ETA: 0s - loss: 0.2798 - accuracy: 0.89 - ETA: 0s - loss: 0.2704 - accuracy: 0.90 - ETA: 0s - loss: 0.2631 - accuracy: 0.91 - ETA: 0s - loss: 0.2512 - accuracy: 0.92 - ETA: 0s - loss: 0.2538 - accuracy: 0.92 - ETA: 0s - loss: 0.2511 - accuracy: 0.92 - 0s 635us/sample - loss: 0.2419 - accuracy: 0.9274\n",
      "Epoch 8/30\n",
      "785/785 [==============================] - ETA: 0s - loss: 0.0770 - accuracy: 1.00 - ETA: 0s - loss: 0.2186 - accuracy: 0.94 - ETA: 0s - loss: 0.2155 - accuracy: 0.94 - ETA: 0s - loss: 0.2215 - accuracy: 0.92 - ETA: 0s - loss: 0.2006 - accuracy: 0.93 - ETA: 0s - loss: 0.1962 - accuracy: 0.93 - ETA: 0s - loss: 0.2003 - accuracy: 0.93 - ETA: 0s - loss: 0.2044 - accuracy: 0.93 - 0s 614us/sample - loss: 0.2097 - accuracy: 0.9338\n",
      "Epoch 9/30\n",
      "785/785 [==============================] - ETA: 0s - loss: 0.1335 - accuracy: 0.96 - ETA: 0s - loss: 0.1455 - accuracy: 0.97 - ETA: 0s - loss: 0.1640 - accuracy: 0.97 - ETA: 0s - loss: 0.1730 - accuracy: 0.96 - ETA: 0s - loss: 0.1568 - accuracy: 0.97 - ETA: 0s - loss: 0.1571 - accuracy: 0.97 - ETA: 0s - loss: 0.1489 - accuracy: 0.97 - ETA: 0s - loss: 0.1512 - accuracy: 0.97 - 1s 640us/sample - loss: 0.1512 - accuracy: 0.9720\n",
      "Epoch 10/30\n",
      "785/785 [==============================] - ETA: 0s - loss: 0.1553 - accuracy: 0.93 - ETA: 0s - loss: 0.1207 - accuracy: 0.97 - ETA: 0s - loss: 0.1304 - accuracy: 0.96 - ETA: 0s - loss: 0.1458 - accuracy: 0.96 - ETA: 0s - loss: 0.1466 - accuracy: 0.95 - ETA: 0s - loss: 0.1379 - accuracy: 0.96 - ETA: 0s - loss: 0.1303 - accuracy: 0.97 - ETA: 0s - loss: 0.1206 - accuracy: 0.97 - 1s 637us/sample - loss: 0.1190 - accuracy: 0.9745\n",
      "Epoch 11/30\n",
      "785/785 [==============================] - ETA: 0s - loss: 0.1205 - accuracy: 0.96 - ETA: 0s - loss: 0.1031 - accuracy: 0.96 - ETA: 0s - loss: 0.0922 - accuracy: 0.97 - ETA: 0s - loss: 0.0955 - accuracy: 0.97 - ETA: 0s - loss: 0.0925 - accuracy: 0.98 - ETA: 0s - loss: 0.0971 - accuracy: 0.97 - ETA: 0s - loss: 0.0949 - accuracy: 0.97 - ETA: 0s - loss: 0.0973 - accuracy: 0.97 - 1s 644us/sample - loss: 0.0987 - accuracy: 0.9758\n",
      "Epoch 12/30\n",
      "785/785 [==============================] - ETA: 0s - loss: 0.1161 - accuracy: 0.96 - ETA: 0s - loss: 0.1301 - accuracy: 0.93 - ETA: 0s - loss: 0.0954 - accuracy: 0.96 - ETA: 0s - loss: 0.0970 - accuracy: 0.96 - ETA: 0s - loss: 0.0965 - accuracy: 0.96 - ETA: 0s - loss: 0.0983 - accuracy: 0.96 - ETA: 0s - loss: 0.0965 - accuracy: 0.97 - ETA: 0s - loss: 0.0956 - accuracy: 0.97 - ETA: 0s - loss: 0.0932 - accuracy: 0.97 - 1s 704us/sample - loss: 0.0907 - accuracy: 0.9732\n",
      "Epoch 13/30\n",
      "785/785 [==============================] - ETA: 0s - loss: 0.0204 - accuracy: 1.00 - ETA: 0s - loss: 0.0929 - accuracy: 0.97 - ETA: 0s - loss: 0.0753 - accuracy: 0.98 - ETA: 0s - loss: 0.0778 - accuracy: 0.98 - ETA: 0s - loss: 0.0740 - accuracy: 0.98 - ETA: 0s - loss: 0.0675 - accuracy: 0.98 - ETA: 0s - loss: 0.0733 - accuracy: 0.97 - ETA: 0s - loss: 0.0739 - accuracy: 0.97 - ETA: 0s - loss: 0.0755 - accuracy: 0.97 - 1s 648us/sample - loss: 0.0754 - accuracy: 0.9783\n",
      "Epoch 14/30\n",
      "785/785 [==============================] - ETA: 0s - loss: 0.0221 - accuracy: 1.00 - ETA: 0s - loss: 0.0447 - accuracy: 0.99 - ETA: 0s - loss: 0.0648 - accuracy: 0.98 - ETA: 0s - loss: 0.0642 - accuracy: 0.98 - ETA: 0s - loss: 0.0648 - accuracy: 0.98 - ETA: 0s - loss: 0.0671 - accuracy: 0.98 - ETA: 0s - loss: 0.0651 - accuracy: 0.98 - ETA: 0s - loss: 0.0698 - accuracy: 0.98 - 1s 644us/sample - loss: 0.0771 - accuracy: 0.9809\n",
      "Epoch 15/30\n",
      "785/785 [==============================] - ETA: 0s - loss: 0.1322 - accuracy: 0.90 - ETA: 0s - loss: 0.0605 - accuracy: 0.96 - ETA: 0s - loss: 0.0737 - accuracy: 0.97 - ETA: 0s - loss: 0.0622 - accuracy: 0.98 - ETA: 0s - loss: 0.0587 - accuracy: 0.98 - ETA: 0s - loss: 0.0567 - accuracy: 0.98 - ETA: 0s - loss: 0.0565 - accuracy: 0.98 - ETA: 0s - loss: 0.0536 - accuracy: 0.98 - 0s 633us/sample - loss: 0.0525 - accuracy: 0.9860\n",
      "Epoch 16/30\n",
      "785/785 [==============================] - ETA: 0s - loss: 0.0514 - accuracy: 1.00 - ETA: 0s - loss: 0.0378 - accuracy: 1.00 - ETA: 0s - loss: 0.0389 - accuracy: 1.00 - ETA: 0s - loss: 0.0404 - accuracy: 0.99 - ETA: 0s - loss: 0.0412 - accuracy: 0.99 - ETA: 0s - loss: 0.0372 - accuracy: 0.99 - ETA: 0s - loss: 0.0370 - accuracy: 0.99 - ETA: 0s - loss: 0.0372 - accuracy: 0.99 - ETA: 0s - loss: 0.0357 - accuracy: 0.99 - 1s 667us/sample - loss: 0.0362 - accuracy: 0.9962\n",
      "Epoch 17/30\n",
      "785/785 [==============================] - ETA: 0s - loss: 0.0224 - accuracy: 1.00 - ETA: 0s - loss: 0.0318 - accuracy: 0.99 - ETA: 0s - loss: 0.0269 - accuracy: 0.99 - ETA: 0s - loss: 0.0265 - accuracy: 0.99 - ETA: 0s - loss: 0.0269 - accuracy: 0.99 - ETA: 0s - loss: 0.0288 - accuracy: 0.99 - ETA: 0s - loss: 0.0281 - accuracy: 0.99 - ETA: 0s - loss: 0.0291 - accuracy: 0.99 - 0s 636us/sample - loss: 0.0295 - accuracy: 0.9962\n",
      "Epoch 18/30\n",
      "785/785 [==============================] - ETA: 0s - loss: 0.0374 - accuracy: 1.00 - ETA: 0s - loss: 0.0271 - accuracy: 1.00 - ETA: 0s - loss: 0.0267 - accuracy: 0.99 - ETA: 0s - loss: 0.0277 - accuracy: 0.99 - ETA: 0s - loss: 0.0321 - accuracy: 0.99 - ETA: 0s - loss: 0.0324 - accuracy: 0.99 - ETA: 0s - loss: 0.0323 - accuracy: 0.99 - ETA: 0s - loss: 0.0316 - accuracy: 0.99 - ETA: 0s - loss: 0.0315 - accuracy: 0.99 - 1s 682us/sample - loss: 0.0315 - accuracy: 0.9975\n",
      "Epoch 19/30\n",
      "785/785 [==============================] - ETA: 0s - loss: 0.0218 - accuracy: 1.00 - ETA: 0s - loss: 0.0227 - accuracy: 1.00 - ETA: 0s - loss: 0.0192 - accuracy: 1.00 - ETA: 0s - loss: 0.0197 - accuracy: 1.00 - ETA: 0s - loss: 0.0217 - accuracy: 1.00 - ETA: 0s - loss: 0.0227 - accuracy: 1.00 - ETA: 0s - loss: 0.0246 - accuracy: 0.99 - ETA: 0s - loss: 0.0248 - accuracy: 0.99 - 0s 630us/sample - loss: 0.0236 - accuracy: 0.9987\n",
      "Epoch 20/30\n",
      "785/785 [==============================] - ETA: 0s - loss: 0.0270 - accuracy: 1.00 - ETA: 0s - loss: 0.0215 - accuracy: 1.00 - ETA: 0s - loss: 0.0198 - accuracy: 1.00 - ETA: 0s - loss: 0.0178 - accuracy: 1.00 - ETA: 0s - loss: 0.0152 - accuracy: 1.00 - ETA: 0s - loss: 0.0143 - accuracy: 1.00 - ETA: 0s - loss: 0.0145 - accuracy: 1.00 - ETA: 0s - loss: 0.0145 - accuracy: 1.00 - 0s 617us/sample - loss: 0.0143 - accuracy: 1.0000\n",
      "Epoch 21/30\n",
      "785/785 [==============================] - ETA: 0s - loss: 0.0078 - accuracy: 1.00 - ETA: 0s - loss: 0.0097 - accuracy: 1.00 - ETA: 0s - loss: 0.0103 - accuracy: 1.00 - ETA: 0s - loss: 0.0123 - accuracy: 1.00 - ETA: 0s - loss: 0.0134 - accuracy: 1.00 - ETA: 0s - loss: 0.0120 - accuracy: 1.00 - ETA: 0s - loss: 0.0124 - accuracy: 1.00 - ETA: 0s - loss: 0.0131 - accuracy: 1.00 - 0s 619us/sample - loss: 0.0123 - accuracy: 1.0000\n",
      "Epoch 22/30\n",
      "785/785 [==============================] - ETA: 0s - loss: 0.0331 - accuracy: 1.00 - ETA: 0s - loss: 0.0169 - accuracy: 1.00 - ETA: 0s - loss: 0.0121 - accuracy: 1.00 - ETA: 0s - loss: 0.0123 - accuracy: 1.00 - ETA: 0s - loss: 0.0123 - accuracy: 1.00 - ETA: 0s - loss: 0.0130 - accuracy: 1.00 - ETA: 0s - loss: 0.0131 - accuracy: 1.00 - ETA: 0s - loss: 0.0132 - accuracy: 1.00 - 0s 617us/sample - loss: 0.0131 - accuracy: 1.0000\n",
      "Epoch 23/30\n",
      "785/785 [==============================] - ETA: 0s - loss: 0.0066 - accuracy: 1.00 - ETA: 0s - loss: 0.0119 - accuracy: 1.00 - ETA: 0s - loss: 0.0105 - accuracy: 1.00 - ETA: 0s - loss: 0.0094 - accuracy: 1.00 - ETA: 0s - loss: 0.0086 - accuracy: 1.00 - ETA: 0s - loss: 0.0092 - accuracy: 1.00 - ETA: 0s - loss: 0.0093 - accuracy: 1.00 - ETA: 0s - loss: 0.0096 - accuracy: 1.00 - 0s 631us/sample - loss: 0.0093 - accuracy: 1.0000\n",
      "Epoch 24/30\n"
     ]
    },
    {
     "name": "stdout",
     "output_type": "stream",
     "text": [
      "785/785 [==============================] - ETA: 0s - loss: 0.0039 - accuracy: 1.00 - ETA: 0s - loss: 0.0056 - accuracy: 1.00 - ETA: 0s - loss: 0.0074 - accuracy: 1.00 - ETA: 0s - loss: 0.0095 - accuracy: 1.00 - ETA: 0s - loss: 0.0096 - accuracy: 1.00 - ETA: 0s - loss: 0.0088 - accuracy: 1.00 - ETA: 0s - loss: 0.0083 - accuracy: 1.00 - ETA: 0s - loss: 0.0093 - accuracy: 1.00 - 1s 638us/sample - loss: 0.0087 - accuracy: 1.0000\n",
      "Epoch 25/30\n",
      "785/785 [==============================] - ETA: 0s - loss: 0.0086 - accuracy: 1.00 - ETA: 0s - loss: 0.0093 - accuracy: 1.00 - ETA: 0s - loss: 0.0102 - accuracy: 1.00 - ETA: 0s - loss: 0.0121 - accuracy: 1.00 - ETA: 0s - loss: 0.0107 - accuracy: 1.00 - ETA: 0s - loss: 0.0094 - accuracy: 1.00 - ETA: 0s - loss: 0.0091 - accuracy: 1.00 - ETA: 0s - loss: 0.0093 - accuracy: 1.00 - 0s 625us/sample - loss: 0.0089 - accuracy: 1.0000\n",
      "Epoch 26/30\n",
      "785/785 [==============================] - ETA: 0s - loss: 0.0077 - accuracy: 1.00 - ETA: 0s - loss: 0.0055 - accuracy: 1.00 - ETA: 0s - loss: 0.0053 - accuracy: 1.00 - ETA: 0s - loss: 0.0059 - accuracy: 1.00 - ETA: 0s - loss: 0.0061 - accuracy: 1.00 - ETA: 0s - loss: 0.0060 - accuracy: 1.00 - ETA: 0s - loss: 0.0059 - accuracy: 1.00 - ETA: 0s - loss: 0.0066 - accuracy: 1.00 - 0s 616us/sample - loss: 0.0069 - accuracy: 1.0000\n",
      "Epoch 27/30\n",
      "785/785 [==============================] - ETA: 0s - loss: 0.0094 - accuracy: 1.00 - ETA: 0s - loss: 0.0075 - accuracy: 1.00 - ETA: 0s - loss: 0.0063 - accuracy: 1.00 - ETA: 0s - loss: 0.0051 - accuracy: 1.00 - ETA: 0s - loss: 0.0051 - accuracy: 1.00 - ETA: 0s - loss: 0.0047 - accuracy: 1.00 - ETA: 0s - loss: 0.0049 - accuracy: 1.00 - ETA: 0s - loss: 0.0054 - accuracy: 1.00 - 0s 612us/sample - loss: 0.0052 - accuracy: 1.0000\n",
      "Epoch 28/30\n",
      "785/785 [==============================] - ETA: 0s - loss: 0.0037 - accuracy: 1.00 - ETA: 0s - loss: 0.0091 - accuracy: 1.00 - ETA: 0s - loss: 0.0065 - accuracy: 1.00 - ETA: 0s - loss: 0.0058 - accuracy: 1.00 - ETA: 0s - loss: 0.0070 - accuracy: 1.00 - ETA: 0s - loss: 0.0068 - accuracy: 1.00 - ETA: 0s - loss: 0.0071 - accuracy: 1.00 - ETA: 0s - loss: 0.0073 - accuracy: 1.00 - 0s 624us/sample - loss: 0.0069 - accuracy: 1.0000\n",
      "Epoch 29/30\n",
      "785/785 [==============================] - ETA: 0s - loss: 0.0070 - accuracy: 1.00 - ETA: 0s - loss: 0.0060 - accuracy: 1.00 - ETA: 0s - loss: 0.0053 - accuracy: 1.00 - ETA: 0s - loss: 0.0054 - accuracy: 1.00 - ETA: 0s - loss: 0.0061 - accuracy: 1.00 - ETA: 0s - loss: 0.0059 - accuracy: 1.00 - ETA: 0s - loss: 0.0061 - accuracy: 1.00 - ETA: 0s - loss: 0.0057 - accuracy: 1.00 - 0s 633us/sample - loss: 0.0054 - accuracy: 1.0000\n",
      "Epoch 30/30\n",
      "785/785 [==============================] - ETA: 0s - loss: 0.0030 - accuracy: 1.00 - ETA: 0s - loss: 0.0046 - accuracy: 1.00 - ETA: 0s - loss: 0.0049 - accuracy: 1.00 - ETA: 0s - loss: 0.0048 - accuracy: 1.00 - ETA: 0s - loss: 0.0047 - accuracy: 1.00 - ETA: 0s - loss: 0.0043 - accuracy: 1.00 - ETA: 0s - loss: 0.0041 - accuracy: 1.00 - ETA: 0s - loss: 0.0041 - accuracy: 1.00 - 1s 664us/sample - loss: 0.0042 - accuracy: 1.0000\n",
      "196/196 [==============================] - ETA: 0s - loss: 0.0066 - accuracy: 1.00 - 0s 658us/sample - loss: 0.0338 - accuracy: 0.9847\n",
      "Train on 785 samples\n",
      "Epoch 1/30\n",
      "785/785 [==============================] - ETA: 8s - loss: 1.9710 - accuracy: 0.09 - ETA: 2s - loss: 1.9342 - accuracy: 0.15 - ETA: 1s - loss: 1.9122 - accuracy: 0.16 - ETA: 0s - loss: 1.8774 - accuracy: 0.20 - ETA: 0s - loss: 1.8879 - accuracy: 0.21 - ETA: 0s - loss: 1.8565 - accuracy: 0.23 - ETA: 0s - loss: 1.8446 - accuracy: 0.25 - ETA: 0s - loss: 1.8335 - accuracy: 0.27 - 1s 1ms/sample - loss: 1.8185 - accuracy: 0.2828\n",
      "Epoch 2/30\n",
      "785/785 [==============================] - ETA: 0s - loss: 1.6697 - accuracy: 0.56 - ETA: 0s - loss: 1.6729 - accuracy: 0.46 - ETA: 0s - loss: 1.6860 - accuracy: 0.36 - ETA: 0s - loss: 1.6590 - accuracy: 0.45 - ETA: 0s - loss: 1.6464 - accuracy: 0.44 - ETA: 0s - loss: 1.6220 - accuracy: 0.46 - ETA: 0s - loss: 1.6117 - accuracy: 0.47 - ETA: 0s - loss: 1.5780 - accuracy: 0.50 - 1s 649us/sample - loss: 1.5494 - accuracy: 0.5159\n",
      "Epoch 3/30\n",
      "785/785 [==============================] - ETA: 0s - loss: 1.1838 - accuracy: 0.68 - ETA: 0s - loss: 1.1300 - accuracy: 0.67 - ETA: 0s - loss: 1.1169 - accuracy: 0.66 - ETA: 0s - loss: 1.0892 - accuracy: 0.65 - ETA: 0s - loss: 1.0466 - accuracy: 0.67 - ETA: 0s - loss: 1.0206 - accuracy: 0.67 - ETA: 0s - loss: 1.0007 - accuracy: 0.68 - ETA: 0s - loss: 0.9761 - accuracy: 0.69 - 0s 627us/sample - loss: 0.9509 - accuracy: 0.7070\n",
      "Epoch 4/30\n",
      "785/785 [==============================] - ETA: 0s - loss: 0.6651 - accuracy: 0.81 - ETA: 0s - loss: 0.6926 - accuracy: 0.78 - ETA: 0s - loss: 0.6461 - accuracy: 0.79 - ETA: 0s - loss: 0.6315 - accuracy: 0.80 - ETA: 0s - loss: 0.5918 - accuracy: 0.83 - ETA: 0s - loss: 0.5768 - accuracy: 0.83 - ETA: 0s - loss: 0.5701 - accuracy: 0.83 - ETA: 0s - loss: 0.5546 - accuracy: 0.82 - 1s 643us/sample - loss: 0.5424 - accuracy: 0.8331\n",
      "Epoch 5/30\n",
      "785/785 [==============================] - ETA: 0s - loss: 0.4594 - accuracy: 0.81 - ETA: 0s - loss: 0.4582 - accuracy: 0.83 - ETA: 0s - loss: 0.4710 - accuracy: 0.81 - ETA: 0s - loss: 0.4436 - accuracy: 0.83 - ETA: 0s - loss: 0.4099 - accuracy: 0.86 - ETA: 0s - loss: 0.3944 - accuracy: 0.86 - ETA: 0s - loss: 0.3986 - accuracy: 0.87 - ETA: 0s - loss: 0.3991 - accuracy: 0.87 - 1s 639us/sample - loss: 0.3868 - accuracy: 0.8828\n",
      "Epoch 6/30\n",
      "785/785 [==============================] - ETA: 0s - loss: 0.2359 - accuracy: 0.93 - ETA: 0s - loss: 0.2815 - accuracy: 0.92 - ETA: 0s - loss: 0.2636 - accuracy: 0.92 - ETA: 0s - loss: 0.2537 - accuracy: 0.93 - ETA: 0s - loss: 0.2560 - accuracy: 0.93 - ETA: 0s - loss: 0.2695 - accuracy: 0.92 - ETA: 0s - loss: 0.2568 - accuracy: 0.93 - ETA: 0s - loss: 0.2601 - accuracy: 0.93 - 0s 635us/sample - loss: 0.2532 - accuracy: 0.9389\n",
      "Epoch 7/30\n",
      "785/785 [==============================] - ETA: 0s - loss: 0.2539 - accuracy: 0.93 - ETA: 0s - loss: 0.2990 - accuracy: 0.89 - ETA: 0s - loss: 0.2698 - accuracy: 0.90 - ETA: 0s - loss: 0.2400 - accuracy: 0.92 - ETA: 0s - loss: 0.2123 - accuracy: 0.93 - ETA: 0s - loss: 0.2109 - accuracy: 0.93 - ETA: 0s - loss: 0.2029 - accuracy: 0.94 - ETA: 0s - loss: 0.1916 - accuracy: 0.94 - 0s 621us/sample - loss: 0.1941 - accuracy: 0.9529\n",
      "Epoch 8/30\n",
      "785/785 [==============================] - ETA: 0s - loss: 0.0915 - accuracy: 1.00 - ETA: 0s - loss: 0.1176 - accuracy: 0.98 - ETA: 0s - loss: 0.1395 - accuracy: 0.97 - ETA: 0s - loss: 0.1430 - accuracy: 0.96 - ETA: 0s - loss: 0.1408 - accuracy: 0.97 - ETA: 0s - loss: 0.1441 - accuracy: 0.96 - ETA: 0s - loss: 0.1500 - accuracy: 0.96 - ETA: 0s - loss: 0.1458 - accuracy: 0.96 - 1s 644us/sample - loss: 0.1472 - accuracy: 0.9694\n",
      "Epoch 9/30\n",
      "785/785 [==============================] - ETA: 0s - loss: 0.1493 - accuracy: 0.96 - ETA: 0s - loss: 0.1530 - accuracy: 0.96 - ETA: 0s - loss: 0.1339 - accuracy: 0.95 - ETA: 0s - loss: 0.1276 - accuracy: 0.96 - ETA: 0s - loss: 0.1189 - accuracy: 0.96 - ETA: 0s - loss: 0.1087 - accuracy: 0.97 - ETA: 0s - loss: 0.1252 - accuracy: 0.97 - ETA: 0s - loss: 0.1250 - accuracy: 0.96 - ETA: 0s - loss: 0.1259 - accuracy: 0.96 - 1s 728us/sample - loss: 0.1249 - accuracy: 0.9694\n",
      "Epoch 10/30\n",
      "785/785 [==============================] - ETA: 0s - loss: 0.1122 - accuracy: 1.00 - ETA: 0s - loss: 0.0688 - accuracy: 0.99 - ETA: 0s - loss: 0.0698 - accuracy: 0.99 - ETA: 0s - loss: 0.0646 - accuracy: 0.99 - ETA: 0s - loss: 0.0919 - accuracy: 0.98 - ETA: 0s - loss: 0.0972 - accuracy: 0.98 - ETA: 0s - loss: 0.0997 - accuracy: 0.97 - ETA: 0s - loss: 0.0998 - accuracy: 0.98 - 1s 670us/sample - loss: 0.0974 - accuracy: 0.9822\n",
      "Epoch 11/30\n",
      "785/785 [==============================] - ETA: 0s - loss: 0.0443 - accuracy: 1.00 - ETA: 0s - loss: 0.0608 - accuracy: 0.99 - ETA: 0s - loss: 0.0577 - accuracy: 0.98 - ETA: 0s - loss: 0.0727 - accuracy: 0.97 - ETA: 0s - loss: 0.0698 - accuracy: 0.98 - ETA: 0s - loss: 0.0828 - accuracy: 0.97 - ETA: 0s - loss: 0.0994 - accuracy: 0.96 - ETA: 0s - loss: 0.1055 - accuracy: 0.96 - 0s 611us/sample - loss: 0.1063 - accuracy: 0.9643\n",
      "Epoch 12/30\n"
     ]
    },
    {
     "name": "stdout",
     "output_type": "stream",
     "text": [
      "785/785 [==============================] - ETA: 0s - loss: 0.0579 - accuracy: 1.00 - ETA: 0s - loss: 0.0883 - accuracy: 0.97 - ETA: 0s - loss: 0.0738 - accuracy: 0.98 - ETA: 0s - loss: 0.0874 - accuracy: 0.97 - ETA: 0s - loss: 0.0792 - accuracy: 0.98 - ETA: 0s - loss: 0.0940 - accuracy: 0.97 - ETA: 0s - loss: 0.0851 - accuracy: 0.98 - ETA: 0s - loss: 0.0851 - accuracy: 0.98 - 0s 626us/sample - loss: 0.0814 - accuracy: 0.9809\n",
      "Epoch 13/30\n",
      "785/785 [==============================] - ETA: 0s - loss: 0.0570 - accuracy: 0.96 - ETA: 0s - loss: 0.0553 - accuracy: 0.99 - ETA: 0s - loss: 0.0635 - accuracy: 0.99 - ETA: 0s - loss: 0.0632 - accuracy: 0.99 - ETA: 0s - loss: 0.0599 - accuracy: 0.99 - ETA: 0s - loss: 0.0600 - accuracy: 0.99 - ETA: 0s - loss: 0.0549 - accuracy: 0.99 - ETA: 0s - loss: 0.0566 - accuracy: 0.99 - 0s 623us/sample - loss: 0.0533 - accuracy: 0.9924\n",
      "Epoch 14/30\n",
      "785/785 [==============================] - ETA: 0s - loss: 0.0179 - accuracy: 1.00 - ETA: 0s - loss: 0.0313 - accuracy: 0.99 - ETA: 0s - loss: 0.0331 - accuracy: 0.99 - ETA: 0s - loss: 0.0342 - accuracy: 0.99 - ETA: 0s - loss: 0.0366 - accuracy: 0.99 - ETA: 0s - loss: 0.0390 - accuracy: 0.99 - ETA: 0s - loss: 0.0372 - accuracy: 0.99 - ETA: 0s - loss: 0.0387 - accuracy: 0.99 - 0s 634us/sample - loss: 0.0373 - accuracy: 0.9949\n",
      "Epoch 15/30\n",
      "785/785 [==============================] - ETA: 0s - loss: 0.0213 - accuracy: 1.00 - ETA: 0s - loss: 0.0288 - accuracy: 0.99 - ETA: 0s - loss: 0.0314 - accuracy: 0.99 - ETA: 0s - loss: 0.0288 - accuracy: 0.99 - ETA: 0s - loss: 0.0275 - accuracy: 0.99 - ETA: 0s - loss: 0.0304 - accuracy: 0.99 - ETA: 0s - loss: 0.0293 - accuracy: 0.99 - ETA: 0s - loss: 0.0284 - accuracy: 0.99 - 1s 648us/sample - loss: 0.0284 - accuracy: 0.9975\n",
      "Epoch 16/30\n",
      "785/785 [==============================] - ETA: 0s - loss: 0.0324 - accuracy: 1.00 - ETA: 0s - loss: 0.0273 - accuracy: 1.00 - ETA: 0s - loss: 0.0225 - accuracy: 1.00 - ETA: 0s - loss: 0.0219 - accuracy: 1.00 - ETA: 0s - loss: 0.0236 - accuracy: 0.99 - ETA: 0s - loss: 0.0224 - accuracy: 0.99 - ETA: 0s - loss: 0.0226 - accuracy: 0.99 - ETA: 0s - loss: 0.0222 - accuracy: 0.99 - 0s 614us/sample - loss: 0.0215 - accuracy: 0.9987\n",
      "Epoch 17/30\n",
      "785/785 [==============================] - ETA: 0s - loss: 0.0164 - accuracy: 1.00 - ETA: 0s - loss: 0.0179 - accuracy: 1.00 - ETA: 0s - loss: 0.0224 - accuracy: 1.00 - ETA: 0s - loss: 0.0272 - accuracy: 0.99 - ETA: 0s - loss: 0.0259 - accuracy: 0.99 - ETA: 0s - loss: 0.0241 - accuracy: 0.99 - ETA: 0s - loss: 0.0220 - accuracy: 0.99 - ETA: 0s - loss: 0.0218 - accuracy: 0.99 - 0s 599us/sample - loss: 0.0205 - accuracy: 0.9987\n",
      "Epoch 18/30\n",
      "785/785 [==============================] - ETA: 0s - loss: 0.0075 - accuracy: 1.00 - ETA: 0s - loss: 0.0201 - accuracy: 1.00 - ETA: 0s - loss: 0.0179 - accuracy: 1.00 - ETA: 0s - loss: 0.0187 - accuracy: 1.00 - ETA: 0s - loss: 0.0172 - accuracy: 1.00 - ETA: 0s - loss: 0.0167 - accuracy: 1.00 - ETA: 0s - loss: 0.0168 - accuracy: 1.00 - ETA: 0s - loss: 0.0161 - accuracy: 1.00 - 0s 613us/sample - loss: 0.0161 - accuracy: 1.0000\n",
      "Epoch 19/30\n",
      "785/785 [==============================] - ETA: 0s - loss: 0.0175 - accuracy: 1.00 - ETA: 0s - loss: 0.0129 - accuracy: 1.00 - ETA: 0s - loss: 0.0139 - accuracy: 1.00 - ETA: 0s - loss: 0.0137 - accuracy: 1.00 - ETA: 0s - loss: 0.0136 - accuracy: 1.00 - ETA: 0s - loss: 0.0125 - accuracy: 1.00 - ETA: 0s - loss: 0.0117 - accuracy: 1.00 - ETA: 0s - loss: 0.0118 - accuracy: 1.00 - 0s 613us/sample - loss: 0.0117 - accuracy: 1.0000\n",
      "Epoch 20/30\n",
      "785/785 [==============================] - ETA: 0s - loss: 0.0108 - accuracy: 1.00 - ETA: 0s - loss: 0.0104 - accuracy: 1.00 - ETA: 0s - loss: 0.0118 - accuracy: 1.00 - ETA: 0s - loss: 0.0121 - accuracy: 1.00 - ETA: 0s - loss: 0.0103 - accuracy: 1.00 - ETA: 0s - loss: 0.0101 - accuracy: 1.00 - ETA: 0s - loss: 0.0100 - accuracy: 1.00 - ETA: 0s - loss: 0.0100 - accuracy: 1.00 - 1s 672us/sample - loss: 0.0100 - accuracy: 1.0000\n",
      "Epoch 21/30\n",
      "785/785 [==============================] - ETA: 0s - loss: 0.0038 - accuracy: 1.00 - ETA: 0s - loss: 0.0091 - accuracy: 1.00 - ETA: 0s - loss: 0.0096 - accuracy: 1.00 - ETA: 0s - loss: 0.0085 - accuracy: 1.00 - ETA: 0s - loss: 0.0091 - accuracy: 1.00 - ETA: 0s - loss: 0.0085 - accuracy: 1.00 - ETA: 0s - loss: 0.0087 - accuracy: 1.00 - ETA: 0s - loss: 0.0083 - accuracy: 1.00 - 0s 605us/sample - loss: 0.0079 - accuracy: 1.0000\n",
      "Epoch 22/30\n",
      "785/785 [==============================] - ETA: 0s - loss: 0.0050 - accuracy: 1.00 - ETA: 0s - loss: 0.0083 - accuracy: 1.00 - ETA: 0s - loss: 0.0097 - accuracy: 1.00 - ETA: 0s - loss: 0.0091 - accuracy: 1.00 - ETA: 0s - loss: 0.0092 - accuracy: 1.00 - ETA: 0s - loss: 0.0087 - accuracy: 1.00 - ETA: 0s - loss: 0.0094 - accuracy: 1.00 - ETA: 0s - loss: 0.0094 - accuracy: 1.00 - 1s 640us/sample - loss: 0.0093 - accuracy: 1.0000\n",
      "Epoch 23/30\n",
      "785/785 [==============================] - ETA: 0s - loss: 0.0175 - accuracy: 1.00 - ETA: 0s - loss: 0.0120 - accuracy: 1.00 - ETA: 0s - loss: 0.0112 - accuracy: 1.00 - ETA: 0s - loss: 0.0104 - accuracy: 1.00 - ETA: 0s - loss: 0.0103 - accuracy: 1.00 - ETA: 0s - loss: 0.0095 - accuracy: 1.00 - ETA: 0s - loss: 0.0085 - accuracy: 1.00 - ETA: 0s - loss: 0.0086 - accuracy: 1.00 - 1s 648us/sample - loss: 0.0091 - accuracy: 1.0000\n",
      "Epoch 24/30\n",
      "785/785 [==============================] - ETA: 0s - loss: 0.0046 - accuracy: 1.00 - ETA: 0s - loss: 0.0095 - accuracy: 1.00 - ETA: 0s - loss: 0.0070 - accuracy: 1.00 - ETA: 0s - loss: 0.0074 - accuracy: 1.00 - ETA: 0s - loss: 0.0068 - accuracy: 1.00 - ETA: 0s - loss: 0.0067 - accuracy: 1.00 - ETA: 0s - loss: 0.0067 - accuracy: 1.00 - ETA: 0s - loss: 0.0065 - accuracy: 1.00 - 1s 639us/sample - loss: 0.0065 - accuracy: 1.0000\n",
      "Epoch 25/30\n",
      "785/785 [==============================] - ETA: 0s - loss: 0.0029 - accuracy: 1.00 - ETA: 0s - loss: 0.0067 - accuracy: 1.00 - ETA: 0s - loss: 0.0064 - accuracy: 1.00 - ETA: 0s - loss: 0.0056 - accuracy: 1.00 - ETA: 0s - loss: 0.0058 - accuracy: 1.00 - ETA: 0s - loss: 0.0055 - accuracy: 1.00 - ETA: 0s - loss: 0.0055 - accuracy: 1.00 - ETA: 0s - loss: 0.0056 - accuracy: 1.00 - 0s 628us/sample - loss: 0.0054 - accuracy: 1.0000\n",
      "Epoch 26/30\n",
      "785/785 [==============================] - ETA: 0s - loss: 0.0059 - accuracy: 1.00 - ETA: 0s - loss: 0.0038 - accuracy: 1.00 - ETA: 0s - loss: 0.0037 - accuracy: 1.00 - ETA: 0s - loss: 0.0034 - accuracy: 1.00 - ETA: 0s - loss: 0.0041 - accuracy: 1.00 - ETA: 0s - loss: 0.0041 - accuracy: 1.00 - ETA: 0s - loss: 0.0042 - accuracy: 1.00 - ETA: 0s - loss: 0.0042 - accuracy: 1.00 - 0s 624us/sample - loss: 0.0044 - accuracy: 1.0000\n",
      "Epoch 27/30\n",
      "785/785 [==============================] - ETA: 0s - loss: 0.0037 - accuracy: 1.00 - ETA: 0s - loss: 0.0043 - accuracy: 1.00 - ETA: 0s - loss: 0.0038 - accuracy: 1.00 - ETA: 0s - loss: 0.0041 - accuracy: 1.00 - ETA: 0s - loss: 0.0042 - accuracy: 1.00 - ETA: 0s - loss: 0.0040 - accuracy: 1.00 - ETA: 0s - loss: 0.0040 - accuracy: 1.00 - ETA: 0s - loss: 0.0040 - accuracy: 1.00 - 0s 617us/sample - loss: 0.0042 - accuracy: 1.0000\n",
      "Epoch 28/30\n",
      "785/785 [==============================] - ETA: 0s - loss: 0.0049 - accuracy: 1.00 - ETA: 0s - loss: 0.0036 - accuracy: 1.00 - ETA: 0s - loss: 0.0034 - accuracy: 1.00 - ETA: 0s - loss: 0.0032 - accuracy: 1.00 - ETA: 0s - loss: 0.0035 - accuracy: 1.00 - ETA: 0s - loss: 0.0036 - accuracy: 1.00 - ETA: 0s - loss: 0.0036 - accuracy: 1.00 - ETA: 0s - loss: 0.0035 - accuracy: 1.00 - 1s 652us/sample - loss: 0.0037 - accuracy: 1.0000\n",
      "Epoch 29/30\n",
      "785/785 [==============================] - ETA: 0s - loss: 0.0014 - accuracy: 1.00 - ETA: 0s - loss: 0.0033 - accuracy: 1.00 - ETA: 0s - loss: 0.0028 - accuracy: 1.00 - ETA: 0s - loss: 0.0026 - accuracy: 1.00 - ETA: 0s - loss: 0.0034 - accuracy: 1.00 - ETA: 0s - loss: 0.0033 - accuracy: 1.00 - ETA: 0s - loss: 0.0039 - accuracy: 1.00 - ETA: 0s - loss: 0.0039 - accuracy: 1.00 - 0s 627us/sample - loss: 0.0037 - accuracy: 1.0000\n",
      "Epoch 30/30\n"
     ]
    },
    {
     "name": "stdout",
     "output_type": "stream",
     "text": [
      "785/785 [==============================] - ETA: 0s - loss: 0.0011 - accuracy: 1.00 - ETA: 0s - loss: 0.0030 - accuracy: 1.00 - ETA: 0s - loss: 0.0032 - accuracy: 1.00 - ETA: 0s - loss: 0.0032 - accuracy: 1.00 - ETA: 0s - loss: 0.0030 - accuracy: 1.00 - ETA: 0s - loss: 0.0034 - accuracy: 1.00 - ETA: 0s - loss: 0.0033 - accuracy: 1.00 - ETA: 0s - loss: 0.0032 - accuracy: 1.00 - 0s 628us/sample - loss: 0.0034 - accuracy: 1.0000\n",
      "196/196 [==============================] - ETA: 0s - loss: 0.0137 - accuracy: 1.00 - 0s 651us/sample - loss: 0.0230 - accuracy: 0.9898\n",
      "Train on 785 samples\n",
      "Epoch 1/30\n",
      "785/785 [==============================] - ETA: 8s - loss: 1.9199 - accuracy: 0.21 - ETA: 2s - loss: 1.8599 - accuracy: 0.27 - ETA: 1s - loss: 1.8336 - accuracy: 0.27 - ETA: 0s - loss: 1.8509 - accuracy: 0.26 - ETA: 0s - loss: 1.8425 - accuracy: 0.29 - ETA: 0s - loss: 1.8243 - accuracy: 0.32 - ETA: 0s - loss: 1.8047 - accuracy: 0.35 - ETA: 0s - loss: 1.7890 - accuracy: 0.36 - 1s 1ms/sample - loss: 1.7749 - accuracy: 0.3694\n",
      "Epoch 2/30\n",
      "785/785 [==============================] - ETA: 0s - loss: 1.6061 - accuracy: 0.46 - ETA: 0s - loss: 1.5629 - accuracy: 0.52 - ETA: 0s - loss: 1.5739 - accuracy: 0.48 - ETA: 0s - loss: 1.5428 - accuracy: 0.48 - ETA: 0s - loss: 1.5361 - accuracy: 0.47 - ETA: 0s - loss: 1.5023 - accuracy: 0.50 - ETA: 0s - loss: 1.4804 - accuracy: 0.52 - ETA: 0s - loss: 1.4480 - accuracy: 0.52 - 0s 606us/sample - loss: 1.4267 - accuracy: 0.5350\n",
      "Epoch 3/30\n",
      "785/785 [==============================] - ETA: 0s - loss: 1.1483 - accuracy: 0.75 - ETA: 0s - loss: 1.0206 - accuracy: 0.72 - ETA: 0s - loss: 1.0342 - accuracy: 0.66 - ETA: 0s - loss: 1.0519 - accuracy: 0.65 - ETA: 0s - loss: 1.0488 - accuracy: 0.67 - ETA: 0s - loss: 1.0500 - accuracy: 0.67 - ETA: 0s - loss: 1.0194 - accuracy: 0.68 - ETA: 0s - loss: 1.0115 - accuracy: 0.69 - 1s 641us/sample - loss: 0.9763 - accuracy: 0.6981\n",
      "Epoch 4/30\n",
      "785/785 [==============================] - ETA: 0s - loss: 0.6015 - accuracy: 0.84 - ETA: 0s - loss: 0.8277 - accuracy: 0.77 - ETA: 0s - loss: 0.7489 - accuracy: 0.79 - ETA: 0s - loss: 0.7245 - accuracy: 0.79 - ETA: 0s - loss: 0.7136 - accuracy: 0.79 - ETA: 0s - loss: 0.6974 - accuracy: 0.79 - ETA: 0s - loss: 0.6869 - accuracy: 0.79 - ETA: 0s - loss: 0.6621 - accuracy: 0.80 - ETA: 0s - loss: 0.6434 - accuracy: 0.81 - 1s 661us/sample - loss: 0.6361 - accuracy: 0.8178\n",
      "Epoch 5/30\n",
      "785/785 [==============================] - ETA: 0s - loss: 0.4193 - accuracy: 0.90 - ETA: 0s - loss: 0.4430 - accuracy: 0.85 - ETA: 0s - loss: 0.4596 - accuracy: 0.86 - ETA: 0s - loss: 0.4172 - accuracy: 0.88 - ETA: 0s - loss: 0.4292 - accuracy: 0.87 - ETA: 0s - loss: 0.4319 - accuracy: 0.87 - ETA: 0s - loss: 0.4080 - accuracy: 0.88 - ETA: 0s - loss: 0.3980 - accuracy: 0.88 - 1s 637us/sample - loss: 0.3998 - accuracy: 0.8841\n",
      "Epoch 6/30\n",
      "785/785 [==============================] - ETA: 0s - loss: 0.3174 - accuracy: 0.96 - ETA: 0s - loss: 0.3841 - accuracy: 0.92 - ETA: 0s - loss: 0.3804 - accuracy: 0.91 - ETA: 0s - loss: 0.3523 - accuracy: 0.91 - ETA: 0s - loss: 0.3275 - accuracy: 0.92 - ETA: 0s - loss: 0.3087 - accuracy: 0.92 - ETA: 0s - loss: 0.3081 - accuracy: 0.92 - ETA: 0s - loss: 0.2962 - accuracy: 0.92 - 1s 645us/sample - loss: 0.2924 - accuracy: 0.9287\n",
      "Epoch 7/30\n",
      "785/785 [==============================] - ETA: 0s - loss: 0.3133 - accuracy: 0.90 - ETA: 0s - loss: 0.2739 - accuracy: 0.93 - ETA: 0s - loss: 0.2633 - accuracy: 0.94 - ETA: 0s - loss: 0.2915 - accuracy: 0.93 - ETA: 0s - loss: 0.2877 - accuracy: 0.92 - ETA: 0s - loss: 0.2753 - accuracy: 0.92 - ETA: 0s - loss: 0.2692 - accuracy: 0.92 - ETA: 0s - loss: 0.2615 - accuracy: 0.92 - 0s 621us/sample - loss: 0.2612 - accuracy: 0.9287\n",
      "Epoch 8/30\n",
      "785/785 [==============================] - ETA: 0s - loss: 0.2062 - accuracy: 0.93 - ETA: 0s - loss: 0.2427 - accuracy: 0.94 - ETA: 0s - loss: 0.2353 - accuracy: 0.94 - ETA: 0s - loss: 0.2477 - accuracy: 0.93 - ETA: 0s - loss: 0.2366 - accuracy: 0.93 - ETA: 0s - loss: 0.2516 - accuracy: 0.92 - ETA: 0s - loss: 0.2310 - accuracy: 0.93 - ETA: 0s - loss: 0.2256 - accuracy: 0.93 - 0s 613us/sample - loss: 0.2262 - accuracy: 0.9338\n",
      "Epoch 9/30\n",
      "785/785 [==============================] - ETA: 0s - loss: 0.1081 - accuracy: 1.00 - ETA: 0s - loss: 0.1533 - accuracy: 0.97 - ETA: 0s - loss: 0.1458 - accuracy: 0.96 - ETA: 0s - loss: 0.1289 - accuracy: 0.96 - ETA: 0s - loss: 0.1336 - accuracy: 0.97 - ETA: 0s - loss: 0.1275 - accuracy: 0.97 - ETA: 0s - loss: 0.1254 - accuracy: 0.97 - ETA: 0s - loss: 0.1254 - accuracy: 0.97 - 0s 636us/sample - loss: 0.1208 - accuracy: 0.9745\n",
      "Epoch 10/30\n",
      "785/785 [==============================] - ETA: 0s - loss: 0.0325 - accuracy: 1.00 - ETA: 0s - loss: 0.0720 - accuracy: 0.98 - ETA: 0s - loss: 0.0756 - accuracy: 0.98 - ETA: 0s - loss: 0.0816 - accuracy: 0.98 - ETA: 0s - loss: 0.0868 - accuracy: 0.98 - ETA: 0s - loss: 0.0916 - accuracy: 0.98 - ETA: 0s - loss: 0.0889 - accuracy: 0.98 - ETA: 0s - loss: 0.0939 - accuracy: 0.98 - 0s 622us/sample - loss: 0.0999 - accuracy: 0.9783\n",
      "Epoch 11/30\n",
      "785/785 [==============================] - ETA: 0s - loss: 0.1607 - accuracy: 0.93 - ETA: 0s - loss: 0.0897 - accuracy: 0.97 - ETA: 0s - loss: 0.0780 - accuracy: 0.98 - ETA: 0s - loss: 0.0873 - accuracy: 0.97 - ETA: 0s - loss: 0.0847 - accuracy: 0.97 - ETA: 0s - loss: 0.0816 - accuracy: 0.98 - ETA: 0s - loss: 0.0829 - accuracy: 0.98 - ETA: 0s - loss: 0.0840 - accuracy: 0.98 - 0s 629us/sample - loss: 0.0798 - accuracy: 0.9834\n",
      "Epoch 12/30\n",
      "785/785 [==============================] - ETA: 0s - loss: 0.0409 - accuracy: 1.00 - ETA: 0s - loss: 0.0755 - accuracy: 0.97 - ETA: 0s - loss: 0.0824 - accuracy: 0.97 - ETA: 0s - loss: 0.0658 - accuracy: 0.98 - ETA: 0s - loss: 0.0603 - accuracy: 0.98 - ETA: 0s - loss: 0.0617 - accuracy: 0.98 - ETA: 0s - loss: 0.0587 - accuracy: 0.99 - ETA: 0s - loss: 0.0598 - accuracy: 0.98 - 0s 615us/sample - loss: 0.0578 - accuracy: 0.9898\n",
      "Epoch 13/30\n",
      "785/785 [==============================] - ETA: 0s - loss: 0.0686 - accuracy: 1.00 - ETA: 0s - loss: 0.0542 - accuracy: 1.00 - ETA: 0s - loss: 0.0568 - accuracy: 0.99 - ETA: 0s - loss: 0.0539 - accuracy: 0.99 - ETA: 0s - loss: 0.0542 - accuracy: 0.99 - ETA: 0s - loss: 0.0564 - accuracy: 0.99 - ETA: 0s - loss: 0.0541 - accuracy: 0.99 - ETA: 0s - loss: 0.0505 - accuracy: 0.99 - 0s 630us/sample - loss: 0.0489 - accuracy: 0.9949\n",
      "Epoch 14/30\n",
      "785/785 [==============================] - ETA: 0s - loss: 0.0360 - accuracy: 0.96 - ETA: 0s - loss: 0.0350 - accuracy: 0.99 - ETA: 0s - loss: 0.0326 - accuracy: 0.99 - ETA: 0s - loss: 0.0385 - accuracy: 0.98 - ETA: 0s - loss: 0.0379 - accuracy: 0.99 - ETA: 0s - loss: 0.0367 - accuracy: 0.99 - ETA: 0s - loss: 0.0350 - accuracy: 0.99 - ETA: 0s - loss: 0.0382 - accuracy: 0.99 - 0s 621us/sample - loss: 0.0387 - accuracy: 0.9936\n",
      "Epoch 15/30\n",
      "785/785 [==============================] - ETA: 0s - loss: 0.0627 - accuracy: 1.00 - ETA: 0s - loss: 0.0467 - accuracy: 0.98 - ETA: 0s - loss: 0.0342 - accuracy: 0.99 - ETA: 0s - loss: 0.0303 - accuracy: 0.99 - ETA: 0s - loss: 0.0318 - accuracy: 0.99 - ETA: 0s - loss: 0.0303 - accuracy: 0.99 - ETA: 0s - loss: 0.0319 - accuracy: 0.99 - ETA: 0s - loss: 0.0319 - accuracy: 0.99 - 0s 621us/sample - loss: 0.0319 - accuracy: 0.9962\n",
      "Epoch 16/30\n",
      "785/785 [==============================] - ETA: 0s - loss: 0.0204 - accuracy: 1.00 - ETA: 0s - loss: 0.0357 - accuracy: 1.00 - ETA: 0s - loss: 0.0301 - accuracy: 1.00 - ETA: 0s - loss: 0.0306 - accuracy: 1.00 - ETA: 0s - loss: 0.0271 - accuracy: 1.00 - ETA: 0s - loss: 0.0262 - accuracy: 1.00 - ETA: 0s - loss: 0.0249 - accuracy: 1.00 - ETA: 0s - loss: 0.0239 - accuracy: 1.00 - 0s 614us/sample - loss: 0.0229 - accuracy: 1.0000\n",
      "Epoch 17/30\n",
      "785/785 [==============================] - ETA: 0s - loss: 0.0145 - accuracy: 1.00 - ETA: 0s - loss: 0.0232 - accuracy: 1.00 - ETA: 0s - loss: 0.0184 - accuracy: 1.00 - ETA: 0s - loss: 0.0221 - accuracy: 1.00 - ETA: 0s - loss: 0.0204 - accuracy: 1.00 - ETA: 0s - loss: 0.0190 - accuracy: 1.00 - ETA: 0s - loss: 0.0202 - accuracy: 0.99 - ETA: 0s - loss: 0.0190 - accuracy: 0.99 - 0s 623us/sample - loss: 0.0193 - accuracy: 0.9987\n",
      "Epoch 18/30\n"
     ]
    },
    {
     "name": "stdout",
     "output_type": "stream",
     "text": [
      "785/785 [==============================] - ETA: 0s - loss: 0.0238 - accuracy: 1.00 - ETA: 0s - loss: 0.0155 - accuracy: 1.00 - ETA: 0s - loss: 0.0140 - accuracy: 1.00 - ETA: 0s - loss: 0.0178 - accuracy: 1.00 - ETA: 0s - loss: 0.0171 - accuracy: 1.00 - ETA: 0s - loss: 0.0193 - accuracy: 1.00 - ETA: 0s - loss: 0.0192 - accuracy: 1.00 - ETA: 0s - loss: 0.0190 - accuracy: 1.00 - 0s 613us/sample - loss: 0.0181 - accuracy: 1.0000\n",
      "Epoch 19/30\n",
      "785/785 [==============================] - ETA: 0s - loss: 0.0353 - accuracy: 1.00 - ETA: 0s - loss: 0.0175 - accuracy: 1.00 - ETA: 0s - loss: 0.0163 - accuracy: 1.00 - ETA: 0s - loss: 0.0164 - accuracy: 1.00 - ETA: 0s - loss: 0.0154 - accuracy: 1.00 - ETA: 0s - loss: 0.0139 - accuracy: 1.00 - ETA: 0s - loss: 0.0143 - accuracy: 1.00 - ETA: 0s - loss: 0.0134 - accuracy: 1.00 - 0s 611us/sample - loss: 0.0136 - accuracy: 1.0000\n",
      "Epoch 20/30\n",
      "785/785 [==============================] - ETA: 0s - loss: 0.0099 - accuracy: 1.00 - ETA: 0s - loss: 0.0094 - accuracy: 1.00 - ETA: 0s - loss: 0.0105 - accuracy: 1.00 - ETA: 0s - loss: 0.0126 - accuracy: 0.99 - ETA: 0s - loss: 0.0115 - accuracy: 0.99 - ETA: 0s - loss: 0.0123 - accuracy: 0.99 - ETA: 0s - loss: 0.0118 - accuracy: 0.99 - ETA: 0s - loss: 0.0115 - accuracy: 0.99 - 0s 620us/sample - loss: 0.0110 - accuracy: 0.9987\n",
      "Epoch 21/30\n",
      "785/785 [==============================] - ETA: 0s - loss: 0.0062 - accuracy: 1.00 - ETA: 0s - loss: 0.0068 - accuracy: 1.00 - ETA: 0s - loss: 0.0088 - accuracy: 1.00 - ETA: 0s - loss: 0.0085 - accuracy: 1.00 - ETA: 0s - loss: 0.0091 - accuracy: 1.00 - ETA: 0s - loss: 0.0106 - accuracy: 1.00 - ETA: 0s - loss: 0.0104 - accuracy: 1.00 - ETA: 0s - loss: 0.0099 - accuracy: 1.00 - 0s 629us/sample - loss: 0.0102 - accuracy: 1.0000\n",
      "Epoch 22/30\n",
      "785/785 [==============================] - ETA: 0s - loss: 0.0072 - accuracy: 1.00 - ETA: 0s - loss: 0.0069 - accuracy: 1.00 - ETA: 0s - loss: 0.0066 - accuracy: 1.00 - ETA: 0s - loss: 0.0081 - accuracy: 1.00 - ETA: 0s - loss: 0.0078 - accuracy: 1.00 - ETA: 0s - loss: 0.0074 - accuracy: 1.00 - ETA: 0s - loss: 0.0081 - accuracy: 1.00 - ETA: 0s - loss: 0.0080 - accuracy: 1.00 - 0s 634us/sample - loss: 0.0082 - accuracy: 1.0000\n",
      "Epoch 23/30\n",
      "785/785 [==============================] - ETA: 0s - loss: 0.0050 - accuracy: 1.00 - ETA: 0s - loss: 0.0082 - accuracy: 1.00 - ETA: 0s - loss: 0.0089 - accuracy: 1.00 - ETA: 0s - loss: 0.0081 - accuracy: 1.00 - ETA: 0s - loss: 0.0084 - accuracy: 1.00 - ETA: 0s - loss: 0.0090 - accuracy: 1.00 - ETA: 0s - loss: 0.0080 - accuracy: 1.00 - ETA: 0s - loss: 0.0078 - accuracy: 1.00 - 0s 629us/sample - loss: 0.0078 - accuracy: 1.0000\n",
      "Epoch 24/30\n",
      "785/785 [==============================] - ETA: 0s - loss: 0.0118 - accuracy: 1.00 - ETA: 0s - loss: 0.0067 - accuracy: 1.00 - ETA: 0s - loss: 0.0061 - accuracy: 1.00 - ETA: 0s - loss: 0.0059 - accuracy: 1.00 - ETA: 0s - loss: 0.0057 - accuracy: 1.00 - ETA: 0s - loss: 0.0060 - accuracy: 1.00 - ETA: 0s - loss: 0.0056 - accuracy: 1.00 - ETA: 0s - loss: 0.0054 - accuracy: 1.00 - 1s 644us/sample - loss: 0.0058 - accuracy: 1.0000\n",
      "Epoch 25/30\n",
      "785/785 [==============================] - ETA: 0s - loss: 0.0076 - accuracy: 1.00 - ETA: 0s - loss: 0.0069 - accuracy: 1.00 - ETA: 0s - loss: 0.0055 - accuracy: 1.00 - ETA: 0s - loss: 0.0053 - accuracy: 1.00 - ETA: 0s - loss: 0.0052 - accuracy: 1.00 - ETA: 0s - loss: 0.0051 - accuracy: 1.00 - ETA: 0s - loss: 0.0053 - accuracy: 1.00 - ETA: 0s - loss: 0.0053 - accuracy: 1.00 - 1s 673us/sample - loss: 0.0051 - accuracy: 1.0000\n",
      "Epoch 26/30\n",
      "785/785 [==============================] - ETA: 0s - loss: 0.0073 - accuracy: 1.00 - ETA: 0s - loss: 0.0049 - accuracy: 1.00 - ETA: 0s - loss: 0.0054 - accuracy: 1.00 - ETA: 0s - loss: 0.0049 - accuracy: 1.00 - ETA: 0s - loss: 0.0046 - accuracy: 1.00 - ETA: 0s - loss: 0.0044 - accuracy: 1.00 - ETA: 0s - loss: 0.0046 - accuracy: 1.00 - ETA: 0s - loss: 0.0045 - accuracy: 1.00 - 0s 633us/sample - loss: 0.0044 - accuracy: 1.0000\n",
      "Epoch 27/30\n",
      "785/785 [==============================] - ETA: 0s - loss: 0.0061 - accuracy: 1.00 - ETA: 0s - loss: 0.0045 - accuracy: 1.00 - ETA: 0s - loss: 0.0056 - accuracy: 1.00 - ETA: 0s - loss: 0.0059 - accuracy: 1.00 - ETA: 0s - loss: 0.0057 - accuracy: 1.00 - ETA: 0s - loss: 0.0053 - accuracy: 1.00 - ETA: 0s - loss: 0.0049 - accuracy: 1.00 - ETA: 0s - loss: 0.0048 - accuracy: 1.00 - 1s 656us/sample - loss: 0.0047 - accuracy: 1.0000\n",
      "Epoch 28/30\n",
      "785/785 [==============================] - ETA: 0s - loss: 0.0041 - accuracy: 1.00 - ETA: 0s - loss: 0.0022 - accuracy: 1.00 - ETA: 0s - loss: 0.0034 - accuracy: 1.00 - ETA: 0s - loss: 0.0045 - accuracy: 1.00 - ETA: 0s - loss: 0.0042 - accuracy: 1.00 - ETA: 0s - loss: 0.0040 - accuracy: 1.00 - ETA: 0s - loss: 0.0044 - accuracy: 1.00 - ETA: 0s - loss: 0.0043 - accuracy: 1.00 - 0s 615us/sample - loss: 0.0041 - accuracy: 1.0000\n",
      "Epoch 29/30\n",
      "785/785 [==============================] - ETA: 0s - loss: 0.0036 - accuracy: 1.00 - ETA: 0s - loss: 0.0041 - accuracy: 1.00 - ETA: 0s - loss: 0.0036 - accuracy: 1.00 - ETA: 0s - loss: 0.0035 - accuracy: 1.00 - ETA: 0s - loss: 0.0037 - accuracy: 1.00 - ETA: 0s - loss: 0.0035 - accuracy: 1.00 - ETA: 0s - loss: 0.0034 - accuracy: 1.00 - ETA: 0s - loss: 0.0035 - accuracy: 1.00 - ETA: 0s - loss: 0.0035 - accuracy: 1.00 - 1s 658us/sample - loss: 0.0035 - accuracy: 1.0000\n",
      "Epoch 30/30\n",
      "785/785 [==============================] - ETA: 0s - loss: 0.0032 - accuracy: 1.00 - ETA: 0s - loss: 0.0039 - accuracy: 1.00 - ETA: 0s - loss: 0.0039 - accuracy: 1.00 - ETA: 0s - loss: 0.0034 - accuracy: 1.00 - ETA: 0s - loss: 0.0035 - accuracy: 1.00 - ETA: 0s - loss: 0.0036 - accuracy: 1.00 - ETA: 0s - loss: 0.0034 - accuracy: 1.00 - ETA: 0s - loss: 0.0035 - accuracy: 1.00 - 0s 632us/sample - loss: 0.0033 - accuracy: 1.0000\n",
      "196/196 [==============================] - ETA: 0s - loss: 0.0259 - accuracy: 1.00 - 0s 674us/sample - loss: 0.0197 - accuracy: 0.9898\n",
      "Train on 785 samples\n",
      "Epoch 1/30\n",
      "785/785 [==============================] - ETA: 8s - loss: 1.9845 - accuracy: 0.09 - ETA: 2s - loss: 1.9550 - accuracy: 0.17 - ETA: 1s - loss: 1.9204 - accuracy: 0.23 - ETA: 0s - loss: 1.8943 - accuracy: 0.21 - ETA: 0s - loss: 1.8662 - accuracy: 0.23 - ETA: 0s - loss: 1.8607 - accuracy: 0.24 - ETA: 0s - loss: 1.8519 - accuracy: 0.23 - ETA: 0s - loss: 1.8402 - accuracy: 0.26 - ETA: 0s - loss: 1.8232 - accuracy: 0.29 - 1s 1ms/sample - loss: 1.8193 - accuracy: 0.3019\n",
      "Epoch 2/30\n",
      "785/785 [==============================] - ETA: 0s - loss: 1.6356 - accuracy: 0.40 - ETA: 0s - loss: 1.6446 - accuracy: 0.26 - ETA: 0s - loss: 1.6491 - accuracy: 0.34 - ETA: 0s - loss: 1.6926 - accuracy: 0.39 - ETA: 0s - loss: 1.6484 - accuracy: 0.43 - ETA: 0s - loss: 1.6380 - accuracy: 0.44 - ETA: 0s - loss: 1.6352 - accuracy: 0.44 - ETA: 0s - loss: 1.6086 - accuracy: 0.47 - 0s 616us/sample - loss: 1.5938 - accuracy: 0.4866\n",
      "Epoch 3/30\n",
      "785/785 [==============================] - ETA: 0s - loss: 1.4053 - accuracy: 0.59 - ETA: 0s - loss: 1.3650 - accuracy: 0.60 - ETA: 0s - loss: 1.3563 - accuracy: 0.61 - ETA: 0s - loss: 1.2908 - accuracy: 0.63 - ETA: 0s - loss: 1.2739 - accuracy: 0.63 - ETA: 0s - loss: 1.2389 - accuracy: 0.62 - ETA: 0s - loss: 1.2433 - accuracy: 0.62 - ETA: 0s - loss: 1.2228 - accuracy: 0.63 - 0s 614us/sample - loss: 1.2060 - accuracy: 0.6306\n",
      "Epoch 4/30\n",
      "785/785 [==============================] - ETA: 0s - loss: 1.3162 - accuracy: 0.50 - ETA: 0s - loss: 1.0343 - accuracy: 0.64 - ETA: 0s - loss: 1.0573 - accuracy: 0.64 - ETA: 0s - loss: 1.0148 - accuracy: 0.67 - ETA: 0s - loss: 0.9877 - accuracy: 0.67 - ETA: 0s - loss: 0.9704 - accuracy: 0.67 - ETA: 0s - loss: 0.9384 - accuracy: 0.67 - ETA: 0s - loss: 0.9180 - accuracy: 0.67 - 0s 635us/sample - loss: 0.8918 - accuracy: 0.6866\n",
      "Epoch 5/30\n",
      "785/785 [==============================] - ETA: 0s - loss: 0.7274 - accuracy: 0.81 - ETA: 0s - loss: 0.7157 - accuracy: 0.77 - ETA: 0s - loss: 0.7226 - accuracy: 0.76 - ETA: 0s - loss: 0.7158 - accuracy: 0.76 - ETA: 0s - loss: 0.6998 - accuracy: 0.77 - ETA: 0s - loss: 0.6834 - accuracy: 0.78 - ETA: 0s - loss: 0.6775 - accuracy: 0.77 - ETA: 0s - loss: 0.6579 - accuracy: 0.78 - 0s 623us/sample - loss: 0.6563 - accuracy: 0.7796\n",
      "Epoch 6/30\n"
     ]
    },
    {
     "name": "stdout",
     "output_type": "stream",
     "text": [
      "785/785 [==============================] - ETA: 0s - loss: 0.5220 - accuracy: 0.81 - ETA: 0s - loss: 0.5208 - accuracy: 0.79 - ETA: 0s - loss: 0.4923 - accuracy: 0.81 - ETA: 0s - loss: 0.4930 - accuracy: 0.81 - ETA: 0s - loss: 0.4869 - accuracy: 0.82 - ETA: 0s - loss: 0.4803 - accuracy: 0.83 - ETA: 0s - loss: 0.4833 - accuracy: 0.83 - ETA: 0s - loss: 0.4675 - accuracy: 0.84 - 0s 631us/sample - loss: 0.4588 - accuracy: 0.8459\n",
      "Epoch 7/30\n",
      "785/785 [==============================] - ETA: 0s - loss: 0.4303 - accuracy: 0.81 - ETA: 0s - loss: 0.3568 - accuracy: 0.85 - ETA: 0s - loss: 0.3550 - accuracy: 0.87 - ETA: 0s - loss: 0.3414 - accuracy: 0.89 - ETA: 0s - loss: 0.3176 - accuracy: 0.90 - ETA: 0s - loss: 0.3086 - accuracy: 0.90 - ETA: 0s - loss: 0.3050 - accuracy: 0.90 - ETA: 0s - loss: 0.2978 - accuracy: 0.91 - 0s 616us/sample - loss: 0.2914 - accuracy: 0.9159\n",
      "Epoch 8/30\n",
      "785/785 [==============================] - ETA: 0s - loss: 0.1238 - accuracy: 1.00 - ETA: 0s - loss: 0.1600 - accuracy: 0.98 - ETA: 0s - loss: 0.2017 - accuracy: 0.95 - ETA: 0s - loss: 0.2348 - accuracy: 0.93 - ETA: 0s - loss: 0.2367 - accuracy: 0.93 - ETA: 0s - loss: 0.2318 - accuracy: 0.93 - ETA: 0s - loss: 0.2210 - accuracy: 0.94 - ETA: 0s - loss: 0.2343 - accuracy: 0.93 - 1s 664us/sample - loss: 0.2375 - accuracy: 0.9389\n",
      "Epoch 9/30\n",
      "785/785 [==============================] - ETA: 0s - loss: 0.2889 - accuracy: 0.84 - ETA: 0s - loss: 0.2647 - accuracy: 0.91 - ETA: 0s - loss: 0.2249 - accuracy: 0.92 - ETA: 0s - loss: 0.2243 - accuracy: 0.93 - ETA: 0s - loss: 0.2148 - accuracy: 0.93 - ETA: 0s - loss: 0.1915 - accuracy: 0.94 - ETA: 0s - loss: 0.1960 - accuracy: 0.94 - ETA: 0s - loss: 0.1872 - accuracy: 0.94 - ETA: 0s - loss: 0.1901 - accuracy: 0.94 - 1s 682us/sample - loss: 0.1907 - accuracy: 0.9465\n",
      "Epoch 10/30\n",
      "785/785 [==============================] - ETA: 0s - loss: 0.0762 - accuracy: 1.00 - ETA: 0s - loss: 0.1158 - accuracy: 0.98 - ETA: 0s - loss: 0.1408 - accuracy: 0.96 - ETA: 0s - loss: 0.1435 - accuracy: 0.96 - ETA: 0s - loss: 0.1433 - accuracy: 0.96 - ETA: 0s - loss: 0.1369 - accuracy: 0.96 - ETA: 0s - loss: 0.1335 - accuracy: 0.97 - ETA: 0s - loss: 0.1349 - accuracy: 0.96 - 0s 631us/sample - loss: 0.1384 - accuracy: 0.9669\n",
      "Epoch 11/30\n",
      "785/785 [==============================] - ETA: 0s - loss: 0.1262 - accuracy: 0.96 - ETA: 0s - loss: 0.1193 - accuracy: 0.97 - ETA: 0s - loss: 0.1033 - accuracy: 0.97 - ETA: 0s - loss: 0.1076 - accuracy: 0.97 - ETA: 0s - loss: 0.1068 - accuracy: 0.97 - ETA: 0s - loss: 0.1076 - accuracy: 0.98 - ETA: 0s - loss: 0.1058 - accuracy: 0.98 - ETA: 0s - loss: 0.1033 - accuracy: 0.98 - 1s 643us/sample - loss: 0.1093 - accuracy: 0.9796\n",
      "Epoch 12/30\n",
      "785/785 [==============================] - ETA: 0s - loss: 0.0830 - accuracy: 1.00 - ETA: 0s - loss: 0.0639 - accuracy: 0.99 - ETA: 0s - loss: 0.0766 - accuracy: 0.98 - ETA: 0s - loss: 0.0882 - accuracy: 0.98 - ETA: 0s - loss: 0.0888 - accuracy: 0.98 - ETA: 0s - loss: 0.0828 - accuracy: 0.98 - ETA: 0s - loss: 0.0825 - accuracy: 0.98 - ETA: 0s - loss: 0.0868 - accuracy: 0.98 - 1s 660us/sample - loss: 0.0855 - accuracy: 0.9809\n",
      "Epoch 13/30\n",
      "785/785 [==============================] - ETA: 0s - loss: 0.0360 - accuracy: 1.00 - ETA: 0s - loss: 0.0553 - accuracy: 0.98 - ETA: 0s - loss: 0.0667 - accuracy: 0.97 - ETA: 0s - loss: 0.0844 - accuracy: 0.97 - ETA: 0s - loss: 0.0765 - accuracy: 0.97 - ETA: 0s - loss: 0.0705 - accuracy: 0.98 - ETA: 0s - loss: 0.0686 - accuracy: 0.98 - ETA: 0s - loss: 0.0659 - accuracy: 0.98 - 0s 632us/sample - loss: 0.0641 - accuracy: 0.9860\n",
      "Epoch 14/30\n",
      "785/785 [==============================] - ETA: 0s - loss: 0.0469 - accuracy: 1.00 - ETA: 0s - loss: 0.0527 - accuracy: 0.98 - ETA: 0s - loss: 0.0602 - accuracy: 0.98 - ETA: 0s - loss: 0.0561 - accuracy: 0.99 - ETA: 0s - loss: 0.0531 - accuracy: 0.99 - ETA: 0s - loss: 0.0502 - accuracy: 0.99 - ETA: 0s - loss: 0.0490 - accuracy: 0.99 - ETA: 0s - loss: 0.0507 - accuracy: 0.99 - 1s 638us/sample - loss: 0.0570 - accuracy: 0.9911\n",
      "Epoch 15/30\n",
      "785/785 [==============================] - ETA: 0s - loss: 0.0313 - accuracy: 1.00 - ETA: 0s - loss: 0.0532 - accuracy: 0.99 - ETA: 0s - loss: 0.0652 - accuracy: 0.97 - ETA: 0s - loss: 0.0664 - accuracy: 0.97 - ETA: 0s - loss: 0.0632 - accuracy: 0.97 - ETA: 0s - loss: 0.0563 - accuracy: 0.98 - ETA: 0s - loss: 0.0595 - accuracy: 0.98 - ETA: 0s - loss: 0.0662 - accuracy: 0.97 - 0s 633us/sample - loss: 0.0671 - accuracy: 0.9783\n",
      "Epoch 16/30\n",
      "785/785 [==============================] - ETA: 0s - loss: 0.0577 - accuracy: 0.96 - ETA: 0s - loss: 0.0492 - accuracy: 0.99 - ETA: 0s - loss: 0.0746 - accuracy: 0.98 - ETA: 0s - loss: 0.0651 - accuracy: 0.98 - ETA: 0s - loss: 0.0683 - accuracy: 0.98 - ETA: 0s - loss: 0.0618 - accuracy: 0.98 - ETA: 0s - loss: 0.0613 - accuracy: 0.98 - ETA: 0s - loss: 0.0598 - accuracy: 0.98 - 0s 623us/sample - loss: 0.0578 - accuracy: 0.9898\n",
      "Epoch 17/30\n",
      "785/785 [==============================] - ETA: 0s - loss: 0.0401 - accuracy: 1.00 - ETA: 0s - loss: 0.0465 - accuracy: 0.99 - ETA: 0s - loss: 0.0460 - accuracy: 0.99 - ETA: 0s - loss: 0.0448 - accuracy: 0.99 - ETA: 0s - loss: 0.0446 - accuracy: 0.99 - ETA: 0s - loss: 0.0407 - accuracy: 0.99 - ETA: 0s - loss: 0.0447 - accuracy: 0.99 - ETA: 0s - loss: 0.0423 - accuracy: 0.99 - 0s 620us/sample - loss: 0.0404 - accuracy: 0.9949\n",
      "Epoch 18/30\n",
      "785/785 [==============================] - ETA: 0s - loss: 0.0454 - accuracy: 1.00 - ETA: 0s - loss: 0.0246 - accuracy: 1.00 - ETA: 0s - loss: 0.0279 - accuracy: 1.00 - ETA: 0s - loss: 0.0295 - accuracy: 0.99 - ETA: 0s - loss: 0.0269 - accuracy: 0.99 - ETA: 0s - loss: 0.0265 - accuracy: 0.99 - ETA: 0s - loss: 0.0322 - accuracy: 0.99 - ETA: 0s - loss: 0.0323 - accuracy: 0.99 - 1s 650us/sample - loss: 0.0311 - accuracy: 0.9962\n",
      "Epoch 19/30\n",
      "785/785 [==============================] - ETA: 0s - loss: 0.0235 - accuracy: 1.00 - ETA: 0s - loss: 0.0340 - accuracy: 1.00 - ETA: 0s - loss: 0.0289 - accuracy: 1.00 - ETA: 0s - loss: 0.0334 - accuracy: 1.00 - ETA: 0s - loss: 0.0313 - accuracy: 1.00 - ETA: 0s - loss: 0.0319 - accuracy: 1.00 - ETA: 0s - loss: 0.0371 - accuracy: 0.99 - ETA: 0s - loss: 0.0356 - accuracy: 0.99 - 0s 636us/sample - loss: 0.0343 - accuracy: 0.9987\n",
      "Epoch 20/30\n",
      "785/785 [==============================] - ETA: 0s - loss: 0.0410 - accuracy: 0.96 - ETA: 0s - loss: 0.0335 - accuracy: 0.98 - ETA: 0s - loss: 0.0314 - accuracy: 0.98 - ETA: 0s - loss: 0.0243 - accuracy: 0.98 - ETA: 0s - loss: 0.0235 - accuracy: 0.99 - ETA: 0s - loss: 0.0252 - accuracy: 0.99 - ETA: 0s - loss: 0.0323 - accuracy: 0.99 - ETA: 0s - loss: 0.0306 - accuracy: 0.99 - ETA: 0s - loss: 0.0299 - accuracy: 0.99 - 1s 714us/sample - loss: 0.0286 - accuracy: 0.9949\n",
      "Epoch 21/30\n",
      "785/785 [==============================] - ETA: 0s - loss: 0.0260 - accuracy: 1.00 - ETA: 0s - loss: 0.0193 - accuracy: 1.00 - ETA: 0s - loss: 0.0168 - accuracy: 1.00 - ETA: 0s - loss: 0.0169 - accuracy: 1.00 - ETA: 0s - loss: 0.0165 - accuracy: 1.00 - ETA: 0s - loss: 0.0154 - accuracy: 1.00 - ETA: 0s - loss: 0.0218 - accuracy: 0.99 - ETA: 0s - loss: 0.0205 - accuracy: 0.99 - ETA: 0s - loss: 0.0197 - accuracy: 0.99 - 1s 657us/sample - loss: 0.0197 - accuracy: 0.9987\n",
      "Epoch 22/30\n",
      "785/785 [==============================] - ETA: 0s - loss: 0.0128 - accuracy: 1.00 - ETA: 0s - loss: 0.0178 - accuracy: 1.00 - ETA: 0s - loss: 0.0179 - accuracy: 1.00 - ETA: 0s - loss: 0.0146 - accuracy: 1.00 - ETA: 0s - loss: 0.0141 - accuracy: 1.00 - ETA: 0s - loss: 0.0137 - accuracy: 1.00 - ETA: 0s - loss: 0.0146 - accuracy: 1.00 - ETA: 0s - loss: 0.0186 - accuracy: 0.99 - ETA: 0s - loss: 0.0188 - accuracy: 0.99 - 1s 705us/sample - loss: 0.0187 - accuracy: 0.9987\n",
      "Epoch 23/30\n",
      "785/785 [==============================] - ETA: 0s - loss: 0.0118 - accuracy: 1.00 - ETA: 0s - loss: 0.0224 - accuracy: 0.99 - ETA: 0s - loss: 0.0176 - accuracy: 0.99 - ETA: 0s - loss: 0.0190 - accuracy: 0.99 - ETA: 0s - loss: 0.0204 - accuracy: 0.99 - ETA: 0s - loss: 0.0211 - accuracy: 0.99 - ETA: 0s - loss: 0.0192 - accuracy: 0.99 - ETA: 0s - loss: 0.0197 - accuracy: 0.99 - 1s 670us/sample - loss: 0.0185 - accuracy: 0.9975\n",
      "Epoch 24/30\n"
     ]
    },
    {
     "name": "stdout",
     "output_type": "stream",
     "text": [
      "785/785 [==============================] - ETA: 0s - loss: 0.0048 - accuracy: 1.00 - ETA: 0s - loss: 0.0135 - accuracy: 1.00 - ETA: 0s - loss: 0.0160 - accuracy: 0.99 - ETA: 0s - loss: 0.0144 - accuracy: 0.99 - ETA: 0s - loss: 0.0134 - accuracy: 0.99 - ETA: 0s - loss: 0.0141 - accuracy: 0.99 - ETA: 0s - loss: 0.0128 - accuracy: 0.99 - ETA: 0s - loss: 0.0116 - accuracy: 0.99 - ETA: 0s - loss: 0.0118 - accuracy: 0.99 - 1s 720us/sample - loss: 0.0118 - accuracy: 0.9987\n",
      "Epoch 25/30\n",
      "785/785 [==============================] - ETA: 0s - loss: 0.0392 - accuracy: 1.00 - ETA: 0s - loss: 0.0163 - accuracy: 1.00 - ETA: 0s - loss: 0.0107 - accuracy: 1.00 - ETA: 0s - loss: 0.0107 - accuracy: 1.00 - ETA: 0s - loss: 0.0094 - accuracy: 1.00 - ETA: 0s - loss: 0.0084 - accuracy: 1.00 - ETA: 0s - loss: 0.0089 - accuracy: 1.00 - ETA: 0s - loss: 0.0090 - accuracy: 1.00 - ETA: 0s - loss: 0.0086 - accuracy: 1.00 - 1s 712us/sample - loss: 0.0085 - accuracy: 1.0000\n",
      "Epoch 26/30\n",
      "785/785 [==============================] - ETA: 0s - loss: 0.0037 - accuracy: 1.00 - ETA: 0s - loss: 0.0068 - accuracy: 1.00 - ETA: 0s - loss: 0.0077 - accuracy: 1.00 - ETA: 0s - loss: 0.0087 - accuracy: 1.00 - ETA: 0s - loss: 0.0092 - accuracy: 1.00 - ETA: 0s - loss: 0.0089 - accuracy: 1.00 - ETA: 0s - loss: 0.0084 - accuracy: 1.00 - ETA: 0s - loss: 0.0081 - accuracy: 1.00 - 0s 619us/sample - loss: 0.0079 - accuracy: 1.0000\n",
      "Epoch 27/30\n",
      "785/785 [==============================] - ETA: 0s - loss: 0.0112 - accuracy: 1.00 - ETA: 0s - loss: 0.0076 - accuracy: 1.00 - ETA: 0s - loss: 0.0081 - accuracy: 1.00 - ETA: 0s - loss: 0.0080 - accuracy: 1.00 - ETA: 0s - loss: 0.0074 - accuracy: 1.00 - ETA: 0s - loss: 0.0076 - accuracy: 1.00 - ETA: 0s - loss: 0.0071 - accuracy: 1.00 - ETA: 0s - loss: 0.0073 - accuracy: 1.00 - 0s 624us/sample - loss: 0.0070 - accuracy: 1.0000\n",
      "Epoch 28/30\n",
      "785/785 [==============================] - ETA: 0s - loss: 0.0060 - accuracy: 1.00 - ETA: 0s - loss: 0.0074 - accuracy: 1.00 - ETA: 0s - loss: 0.0059 - accuracy: 1.00 - ETA: 0s - loss: 0.0062 - accuracy: 1.00 - ETA: 0s - loss: 0.0059 - accuracy: 1.00 - ETA: 0s - loss: 0.0060 - accuracy: 1.00 - ETA: 0s - loss: 0.0058 - accuracy: 1.00 - ETA: 0s - loss: 0.0056 - accuracy: 1.00 - ETA: 0s - loss: 0.0060 - accuracy: 1.00 - 1s 692us/sample - loss: 0.0061 - accuracy: 1.0000\n",
      "Epoch 29/30\n",
      "785/785 [==============================] - ETA: 0s - loss: 0.0041 - accuracy: 1.00 - ETA: 0s - loss: 0.0033 - accuracy: 1.00 - ETA: 0s - loss: 0.0062 - accuracy: 1.00 - ETA: 0s - loss: 0.0063 - accuracy: 1.00 - ETA: 0s - loss: 0.0075 - accuracy: 1.00 - ETA: 0s - loss: 0.0070 - accuracy: 1.00 - ETA: 0s - loss: 0.0067 - accuracy: 1.00 - ETA: 0s - loss: 0.0061 - accuracy: 1.00 - 1s 700us/sample - loss: 0.0058 - accuracy: 1.0000\n",
      "Epoch 30/30\n",
      "785/785 [==============================] - ETA: 0s - loss: 0.0020 - accuracy: 1.00 - ETA: 0s - loss: 0.0044 - accuracy: 1.00 - ETA: 0s - loss: 0.0037 - accuracy: 1.00 - ETA: 0s - loss: 0.0036 - accuracy: 1.00 - ETA: 0s - loss: 0.0044 - accuracy: 1.00 - ETA: 0s - loss: 0.0041 - accuracy: 1.00 - ETA: 0s - loss: 0.0039 - accuracy: 1.00 - ETA: 0s - loss: 0.0041 - accuracy: 1.00 - ETA: 0s - loss: 0.0042 - accuracy: 1.00 - 1s 727us/sample - loss: 0.0043 - accuracy: 1.0000\n",
      "196/196 [==============================] - ETA: 0s - loss: 0.0131 - accuracy: 1.00 - 0s 686us/sample - loss: 0.0101 - accuracy: 1.0000\n"
     ]
    }
   ],
   "source": [
    "kfold = KFold(n_splits=5, shuffle=True)\n",
    "\n",
    "inputs = np.concatenate((train_data, test_data), axis=0)\n",
    "targets = np.concatenate((train_target, test_target), axis=0)\n",
    "\n",
    "accuracy = []\n",
    "loss = []\n",
    "\n",
    "for train, test in kfold.split(inputs, targets):\n",
    "    cnn_f = models.Sequential([\n",
    "        layers.Conv2D(filters=16, kernel_size=(3, 3), activation='relu', input_shape=(48, 48, 1)),\n",
    "        layers.MaxPooling2D((2, 2)),\n",
    "\n",
    "        layers.Conv2D(filters=32, kernel_size=(3, 3), activation=relu'),\n",
    "        layers.MaxPooling2D((2, 2)),\n",
    "\n",
    "        layers.Flatten(),\n",
    "        layers.Dense(64, activation='relu'),\n",
    "        layers.Dense(len(emotions), activation='softmax')\n",
    "    ])\n",
    "    cnn_f.compile(optimizer='adam',\n",
    "              loss='sparse_categorical_crossentropy',\n",
    "              metrics=['accuracy'])\n",
    "\n",
    "    cnn_f.fit(inputs[train], targets[train], epochs=30)\n",
    "    \n",
    "    scores = cnn_f.evaluate(inputs[test], targets[test])\n",
    "    \n",
    "    loss.append(scores[0])\n",
    "    accuracy.append(scores[1])"
   ]
  },
  {
   "cell_type": "code",
   "execution_count": 58,
   "metadata": {},
   "outputs": [
    {
     "name": "stdout",
     "output_type": "stream",
     "text": [
      "Model average accuracy:  0.9898114562034607\n",
      "Model average validation loss:  0.02724104280314482\n"
     ]
    }
   ],
   "source": [
    "print('Model average accuracy: ', sum(accuracy)/len(accuracy))\n",
    "print('Model average validation loss: ', sum(loss)/len(loss))"
   ]
  },
  {
   "cell_type": "code",
   "execution_count": 47,
   "metadata": {},
   "outputs": [
    {
     "name": "stdout",
     "output_type": "stream",
     "text": [
      "Train on 882 samples, validate on 99 samples\n",
      "Epoch 1/30\n",
      "882/882 [==============================] - ETA: 10s - loss: 1.9638 - accuracy: 0.250 - ETA: 2s - loss: 1.8952 - accuracy: 0.250 - ETA: 1s - loss: 1.8846 - accuracy: 0.25 - ETA: 1s - loss: 1.8924 - accuracy: 0.24 - ETA: 0s - loss: 1.8855 - accuracy: 0.26 - ETA: 0s - loss: 1.8747 - accuracy: 0.25 - ETA: 0s - loss: 1.8654 - accuracy: 0.27 - ETA: 0s - loss: 1.8485 - accuracy: 0.28 - ETA: 0s - loss: 1.8508 - accuracy: 0.28 - 1s 1ms/sample - loss: 1.8442 - accuracy: 0.2857 - val_loss: 1.8220 - val_accuracy: 0.4040\n",
      "Epoch 2/30\n",
      "882/882 [==============================] - ETA: 0s - loss: 1.8617 - accuracy: 0.34 - ETA: 0s - loss: 1.7474 - accuracy: 0.37 - ETA: 0s - loss: 1.7798 - accuracy: 0.35 - ETA: 0s - loss: 1.7619 - accuracy: 0.35 - ETA: 0s - loss: 1.7406 - accuracy: 0.34 - ETA: 0s - loss: 1.7429 - accuracy: 0.34 - ETA: 0s - loss: 1.7242 - accuracy: 0.37 - ETA: 0s - loss: 1.7056 - accuracy: 0.39 - ETA: 0s - loss: 1.6864 - accuracy: 0.39 - ETA: 0s - loss: 1.6780 - accuracy: 0.40 - 1s 775us/sample - loss: 1.6696 - accuracy: 0.4036 - val_loss: 1.5800 - val_accuracy: 0.4747\n",
      "Epoch 3/30\n",
      "882/882 [==============================] - ETA: 0s - loss: 1.5335 - accuracy: 0.43 - ETA: 0s - loss: 1.5091 - accuracy: 0.46 - ETA: 0s - loss: 1.4855 - accuracy: 0.49 - ETA: 0s - loss: 1.4787 - accuracy: 0.49 - ETA: 0s - loss: 1.4247 - accuracy: 0.50 - ETA: 0s - loss: 1.4275 - accuracy: 0.49 - ETA: 0s - loss: 1.4057 - accuracy: 0.51 - ETA: 0s - loss: 1.3706 - accuracy: 0.53 - ETA: 0s - loss: 1.3550 - accuracy: 0.53 - ETA: 0s - loss: 1.3559 - accuracy: 0.53 - 1s 767us/sample - loss: 1.3520 - accuracy: 0.5397 - val_loss: 1.3067 - val_accuracy: 0.4949\n",
      "Epoch 4/30\n",
      "882/882 [==============================] - ETA: 0s - loss: 1.3669 - accuracy: 0.59 - ETA: 0s - loss: 1.2258 - accuracy: 0.57 - ETA: 0s - loss: 1.2211 - accuracy: 0.56 - ETA: 0s - loss: 1.1786 - accuracy: 0.58 - ETA: 0s - loss: 1.1514 - accuracy: 0.60 - ETA: 0s - loss: 1.1224 - accuracy: 0.61 - ETA: 0s - loss: 1.1060 - accuracy: 0.62 - ETA: 0s - loss: 1.0889 - accuracy: 0.63 - ETA: 0s - loss: 1.0780 - accuracy: 0.63 - ETA: 0s - loss: 1.0683 - accuracy: 0.63 - 1s 776us/sample - loss: 1.0682 - accuracy: 0.6372 - val_loss: 1.0037 - val_accuracy: 0.6566\n",
      "Epoch 5/30\n",
      "882/882 [==============================] - ETA: 0s - loss: 1.0651 - accuracy: 0.62 - ETA: 0s - loss: 0.9794 - accuracy: 0.61 - ETA: 0s - loss: 0.9847 - accuracy: 0.63 - ETA: 0s - loss: 0.9682 - accuracy: 0.65 - ETA: 0s - loss: 0.9431 - accuracy: 0.67 - ETA: 0s - loss: 0.9119 - accuracy: 0.68 - ETA: 0s - loss: 0.8917 - accuracy: 0.68 - ETA: 0s - loss: 0.8541 - accuracy: 0.70 - ETA: 0s - loss: 0.8441 - accuracy: 0.70 - 1s 758us/sample - loss: 0.8255 - accuracy: 0.7120 - val_loss: 0.8128 - val_accuracy: 0.7475\n",
      "Epoch 6/30\n",
      "882/882 [==============================] - ETA: 0s - loss: 0.7003 - accuracy: 0.71 - ETA: 0s - loss: 0.7964 - accuracy: 0.70 - ETA: 0s - loss: 0.7708 - accuracy: 0.72 - ETA: 0s - loss: 0.7725 - accuracy: 0.72 - ETA: 0s - loss: 0.7425 - accuracy: 0.74 - ETA: 0s - loss: 0.7237 - accuracy: 0.75 - ETA: 0s - loss: 0.7093 - accuracy: 0.75 - ETA: 0s - loss: 0.6901 - accuracy: 0.76 - ETA: 0s - loss: 0.6593 - accuracy: 0.77 - ETA: 0s - loss: 0.6540 - accuracy: 0.77 - 1s 777us/sample - loss: 0.6590 - accuracy: 0.7721 - val_loss: 0.6704 - val_accuracy: 0.8081\n",
      "Epoch 7/30\n",
      "882/882 [==============================] - ETA: 0s - loss: 0.5449 - accuracy: 0.84 - ETA: 0s - loss: 0.5671 - accuracy: 0.82 - ETA: 0s - loss: 0.6035 - accuracy: 0.79 - ETA: 0s - loss: 0.6080 - accuracy: 0.79 - ETA: 0s - loss: 0.5977 - accuracy: 0.78 - ETA: 0s - loss: 0.5859 - accuracy: 0.78 - ETA: 0s - loss: 0.5803 - accuracy: 0.79 - ETA: 0s - loss: 0.5717 - accuracy: 0.79 - ETA: 0s - loss: 0.5677 - accuracy: 0.79 - ETA: 0s - loss: 0.5658 - accuracy: 0.80 - 1s 781us/sample - loss: 0.5611 - accuracy: 0.8027 - val_loss: 0.5421 - val_accuracy: 0.8384\n",
      "Epoch 8/30\n",
      "882/882 [==============================] - ETA: 0s - loss: 0.3913 - accuracy: 0.84 - ETA: 0s - loss: 0.4997 - accuracy: 0.78 - ETA: 0s - loss: 0.5293 - accuracy: 0.78 - ETA: 0s - loss: 0.4968 - accuracy: 0.80 - ETA: 0s - loss: 0.5020 - accuracy: 0.80 - ETA: 0s - loss: 0.4918 - accuracy: 0.81 - ETA: 0s - loss: 0.4874 - accuracy: 0.81 - ETA: 0s - loss: 0.4884 - accuracy: 0.81 - ETA: 0s - loss: 0.4875 - accuracy: 0.81 - ETA: 0s - loss: 0.4727 - accuracy: 0.82 - 1s 781us/sample - loss: 0.4739 - accuracy: 0.8254 - val_loss: 0.4585 - val_accuracy: 0.8990\n",
      "Epoch 9/30\n",
      "882/882 [==============================] - ETA: 0s - loss: 0.3864 - accuracy: 0.93 - ETA: 0s - loss: 0.4421 - accuracy: 0.87 - ETA: 0s - loss: 0.4977 - accuracy: 0.84 - ETA: 0s - loss: 0.4777 - accuracy: 0.85 - ETA: 0s - loss: 0.4709 - accuracy: 0.84 - ETA: 0s - loss: 0.4361 - accuracy: 0.86 - ETA: 0s - loss: 0.4280 - accuracy: 0.86 - ETA: 0s - loss: 0.4139 - accuracy: 0.86 - ETA: 0s - loss: 0.4089 - accuracy: 0.87 - ETA: 0s - loss: 0.3994 - accuracy: 0.87 - ETA: 0s - loss: 0.3959 - accuracy: 0.87 - ETA: 0s - loss: 0.3991 - accuracy: 0.87 - ETA: 0s - loss: 0.3948 - accuracy: 0.87 - 1s 914us/sample - loss: 0.3999 - accuracy: 0.8696 - val_loss: 0.3750 - val_accuracy: 0.9192\n",
      "Epoch 10/30\n",
      "882/882 [==============================] - ETA: 0s - loss: 0.3703 - accuracy: 0.87 - ETA: 0s - loss: 0.3956 - accuracy: 0.85 - ETA: 0s - loss: 0.3765 - accuracy: 0.86 - ETA: 0s - loss: 0.3465 - accuracy: 0.87 - ETA: 0s - loss: 0.3291 - accuracy: 0.87 - ETA: 0s - loss: 0.3302 - accuracy: 0.87 - ETA: 0s - loss: 0.3317 - accuracy: 0.87 - ETA: 0s - loss: 0.3345 - accuracy: 0.88 - ETA: 0s - loss: 0.3417 - accuracy: 0.88 - ETA: 0s - loss: 0.3383 - accuracy: 0.88 - ETA: 0s - loss: 0.3337 - accuracy: 0.88 - ETA: 0s - loss: 0.3308 - accuracy: 0.88 - 1s 917us/sample - loss: 0.3333 - accuracy: 0.8787 - val_loss: 0.3365 - val_accuracy: 0.9192\n",
      "Epoch 11/30\n",
      "882/882 [==============================] - ETA: 0s - loss: 0.2078 - accuracy: 0.93 - ETA: 0s - loss: 0.2250 - accuracy: 0.92 - ETA: 0s - loss: 0.2425 - accuracy: 0.93 - ETA: 0s - loss: 0.2328 - accuracy: 0.91 - ETA: 0s - loss: 0.2551 - accuracy: 0.90 - ETA: 0s - loss: 0.2597 - accuracy: 0.90 - ETA: 0s - loss: 0.2614 - accuracy: 0.90 - ETA: 0s - loss: 0.2650 - accuracy: 0.90 - ETA: 0s - loss: 0.2716 - accuracy: 0.90 - ETA: 0s - loss: 0.2680 - accuracy: 0.90 - ETA: 0s - loss: 0.2671 - accuracy: 0.90 - ETA: 0s - loss: 0.2800 - accuracy: 0.89 - ETA: 0s - loss: 0.2811 - accuracy: 0.90 - 1s 865us/sample - loss: 0.2864 - accuracy: 0.8980 - val_loss: 0.3155 - val_accuracy: 0.9192\n",
      "Epoch 12/30\n",
      "882/882 [==============================] - ETA: 0s - loss: 0.2520 - accuracy: 0.84 - ETA: 0s - loss: 0.2789 - accuracy: 0.88 - ETA: 0s - loss: 0.2644 - accuracy: 0.90 - ETA: 0s - loss: 0.3007 - accuracy: 0.89 - ETA: 0s - loss: 0.3145 - accuracy: 0.89 - ETA: 0s - loss: 0.3296 - accuracy: 0.88 - ETA: 0s - loss: 0.3215 - accuracy: 0.88 - ETA: 0s - loss: 0.3206 - accuracy: 0.88 - ETA: 0s - loss: 0.3086 - accuracy: 0.89 - ETA: 0s - loss: 0.3089 - accuracy: 0.89 - 1s 783us/sample - loss: 0.3079 - accuracy: 0.8912 - val_loss: 0.2683 - val_accuracy: 0.9293\n",
      "Epoch 13/30\n",
      "882/882 [==============================] - ETA: 0s - loss: 0.1909 - accuracy: 0.93 - ETA: 0s - loss: 0.2156 - accuracy: 0.93 - ETA: 0s - loss: 0.1918 - accuracy: 0.94 - ETA: 0s - loss: 0.1958 - accuracy: 0.94 - ETA: 0s - loss: 0.2228 - accuracy: 0.93 - ETA: 0s - loss: 0.2184 - accuracy: 0.93 - ETA: 0s - loss: 0.2355 - accuracy: 0.92 - ETA: 0s - loss: 0.2391 - accuracy: 0.92 - ETA: 0s - loss: 0.2399 - accuracy: 0.92 - ETA: 0s - loss: 0.2441 - accuracy: 0.92 - ETA: 0s - loss: 0.2350 - accuracy: 0.92 - ETA: 0s - loss: 0.2363 - accuracy: 0.92 - ETA: 0s - loss: 0.2441 - accuracy: 0.92 - 1s 888us/sample - loss: 0.2486 - accuracy: 0.9184 - val_loss: 0.2587 - val_accuracy: 0.9192\n",
      "Epoch 14/30\n"
     ]
    },
    {
     "name": "stdout",
     "output_type": "stream",
     "text": [
      "882/882 [==============================] - ETA: 0s - loss: 0.0865 - accuracy: 1.00 - ETA: 0s - loss: 0.1813 - accuracy: 0.93 - ETA: 0s - loss: 0.2162 - accuracy: 0.92 - ETA: 0s - loss: 0.2238 - accuracy: 0.92 - ETA: 0s - loss: 0.2187 - accuracy: 0.92 - ETA: 0s - loss: 0.2488 - accuracy: 0.91 - ETA: 0s - loss: 0.2619 - accuracy: 0.91 - ETA: 0s - loss: 0.2538 - accuracy: 0.91 - ETA: 0s - loss: 0.2553 - accuracy: 0.91 - ETA: 0s - loss: 0.2554 - accuracy: 0.91 - ETA: 0s - loss: 0.2475 - accuracy: 0.91 - ETA: 0s - loss: 0.2513 - accuracy: 0.91 - 1s 853us/sample - loss: 0.2486 - accuracy: 0.9218 - val_loss: 0.2483 - val_accuracy: 0.9495\n",
      "Epoch 15/30\n",
      "882/882 [==============================] - ETA: 0s - loss: 0.2514 - accuracy: 0.96 - ETA: 0s - loss: 0.2138 - accuracy: 0.94 - ETA: 0s - loss: 0.2346 - accuracy: 0.92 - ETA: 0s - loss: 0.2193 - accuracy: 0.93 - ETA: 0s - loss: 0.2065 - accuracy: 0.93 - ETA: 0s - loss: 0.2188 - accuracy: 0.92 - ETA: 0s - loss: 0.2373 - accuracy: 0.91 - ETA: 0s - loss: 0.2321 - accuracy: 0.92 - ETA: 0s - loss: 0.2250 - accuracy: 0.92 - ETA: 0s - loss: 0.2369 - accuracy: 0.91 - ETA: 0s - loss: 0.2318 - accuracy: 0.92 - 1s 807us/sample - loss: 0.2265 - accuracy: 0.9218 - val_loss: 0.2220 - val_accuracy: 0.9495\n",
      "Epoch 16/30\n",
      "882/882 [==============================] - ETA: 0s - loss: 0.1741 - accuracy: 0.93 - ETA: 0s - loss: 0.1927 - accuracy: 0.93 - ETA: 0s - loss: 0.1958 - accuracy: 0.93 - ETA: 0s - loss: 0.1976 - accuracy: 0.94 - ETA: 0s - loss: 0.1855 - accuracy: 0.95 - ETA: 0s - loss: 0.1837 - accuracy: 0.94 - ETA: 0s - loss: 0.1822 - accuracy: 0.94 - ETA: 0s - loss: 0.1816 - accuracy: 0.94 - ETA: 0s - loss: 0.1925 - accuracy: 0.93 - ETA: 0s - loss: 0.1927 - accuracy: 0.94 - ETA: 0s - loss: 0.1961 - accuracy: 0.93 - ETA: 0s - loss: 0.2035 - accuracy: 0.93 - 1s 849us/sample - loss: 0.2047 - accuracy: 0.9376 - val_loss: 0.2195 - val_accuracy: 0.9394\n",
      "Epoch 17/30\n",
      "882/882 [==============================] - ETA: 0s - loss: 0.2357 - accuracy: 0.90 - ETA: 0s - loss: 0.1975 - accuracy: 0.91 - ETA: 0s - loss: 0.1881 - accuracy: 0.91 - ETA: 0s - loss: 0.2099 - accuracy: 0.91 - ETA: 0s - loss: 0.1972 - accuracy: 0.92 - ETA: 0s - loss: 0.1888 - accuracy: 0.93 - ETA: 0s - loss: 0.1900 - accuracy: 0.92 - ETA: 0s - loss: 0.1930 - accuracy: 0.92 - ETA: 0s - loss: 0.1822 - accuracy: 0.93 - ETA: 0s - loss: 0.1792 - accuracy: 0.93 - 1s 781us/sample - loss: 0.1843 - accuracy: 0.9331 - val_loss: 0.1877 - val_accuracy: 0.9596\n",
      "Epoch 18/30\n",
      "882/882 [==============================] - ETA: 0s - loss: 0.1003 - accuracy: 0.96 - ETA: 0s - loss: 0.1090 - accuracy: 0.96 - ETA: 0s - loss: 0.1314 - accuracy: 0.95 - ETA: 0s - loss: 0.1743 - accuracy: 0.93 - ETA: 0s - loss: 0.1643 - accuracy: 0.94 - ETA: 0s - loss: 0.1670 - accuracy: 0.94 - ETA: 0s - loss: 0.1620 - accuracy: 0.94 - ETA: 0s - loss: 0.1628 - accuracy: 0.95 - ETA: 0s - loss: 0.1631 - accuracy: 0.95 - ETA: 0s - loss: 0.1570 - accuracy: 0.95 - 1s 780us/sample - loss: 0.1590 - accuracy: 0.9501 - val_loss: 0.1649 - val_accuracy: 0.9596\n",
      "Epoch 19/30\n",
      "882/882 [==============================] - ETA: 0s - loss: 0.0826 - accuracy: 1.00 - ETA: 0s - loss: 0.1603 - accuracy: 0.97 - ETA: 0s - loss: 0.1921 - accuracy: 0.95 - ETA: 0s - loss: 0.1755 - accuracy: 0.94 - ETA: 0s - loss: 0.1689 - accuracy: 0.94 - ETA: 0s - loss: 0.1883 - accuracy: 0.92 - ETA: 0s - loss: 0.1832 - accuracy: 0.93 - ETA: 0s - loss: 0.1748 - accuracy: 0.93 - ETA: 0s - loss: 0.1815 - accuracy: 0.93 - ETA: 0s - loss: 0.1855 - accuracy: 0.93 - 1s 773us/sample - loss: 0.1839 - accuracy: 0.9320 - val_loss: 0.1407 - val_accuracy: 0.9495\n",
      "Epoch 20/30\n",
      "882/882 [==============================] - ETA: 0s - loss: 0.1841 - accuracy: 0.90 - ETA: 0s - loss: 0.1232 - accuracy: 0.95 - ETA: 0s - loss: 0.1223 - accuracy: 0.95 - ETA: 0s - loss: 0.1516 - accuracy: 0.95 - ETA: 0s - loss: 0.1369 - accuracy: 0.95 - ETA: 0s - loss: 0.1444 - accuracy: 0.94 - ETA: 0s - loss: 0.1509 - accuracy: 0.94 - ETA: 0s - loss: 0.1503 - accuracy: 0.94 - ETA: 0s - loss: 0.1541 - accuracy: 0.94 - ETA: 0s - loss: 0.1536 - accuracy: 0.94 - 1s 760us/sample - loss: 0.1536 - accuracy: 0.9433 - val_loss: 0.1433 - val_accuracy: 0.9798\n",
      "Epoch 21/30\n",
      "882/882 [==============================] - ETA: 0s - loss: 0.0653 - accuracy: 1.00 - ETA: 0s - loss: 0.1370 - accuracy: 0.95 - ETA: 0s - loss: 0.1423 - accuracy: 0.95 - ETA: 0s - loss: 0.1533 - accuracy: 0.94 - ETA: 0s - loss: 0.1516 - accuracy: 0.95 - ETA: 0s - loss: 0.1488 - accuracy: 0.95 - ETA: 0s - loss: 0.1439 - accuracy: 0.95 - ETA: 0s - loss: 0.1433 - accuracy: 0.95 - ETA: 0s - loss: 0.1367 - accuracy: 0.95 - 1s 749us/sample - loss: 0.1356 - accuracy: 0.9580 - val_loss: 0.0953 - val_accuracy: 0.9596\n",
      "Epoch 22/30\n",
      "882/882 [==============================] - ETA: 0s - loss: 0.1133 - accuracy: 0.96 - ETA: 0s - loss: 0.1187 - accuracy: 0.95 - ETA: 0s - loss: 0.1076 - accuracy: 0.95 - ETA: 0s - loss: 0.0947 - accuracy: 0.96 - ETA: 0s - loss: 0.1046 - accuracy: 0.95 - ETA: 0s - loss: 0.1033 - accuracy: 0.96 - ETA: 0s - loss: 0.1158 - accuracy: 0.96 - ETA: 0s - loss: 0.1129 - accuracy: 0.96 - ETA: 0s - loss: 0.1189 - accuracy: 0.95 - 1s 752us/sample - loss: 0.1185 - accuracy: 0.9603 - val_loss: 0.1028 - val_accuracy: 0.9596\n",
      "Epoch 23/30\n",
      "882/882 [==============================] - ETA: 0s - loss: 0.2875 - accuracy: 0.93 - ETA: 0s - loss: 0.2058 - accuracy: 0.94 - ETA: 0s - loss: 0.1676 - accuracy: 0.94 - ETA: 0s - loss: 0.1685 - accuracy: 0.94 - ETA: 0s - loss: 0.1649 - accuracy: 0.93 - ETA: 0s - loss: 0.1618 - accuracy: 0.94 - ETA: 0s - loss: 0.1709 - accuracy: 0.94 - ETA: 0s - loss: 0.1623 - accuracy: 0.95 - ETA: 0s - loss: 0.1664 - accuracy: 0.94 - ETA: 0s - loss: 0.1616 - accuracy: 0.94 - 1s 758us/sample - loss: 0.1605 - accuracy: 0.9478 - val_loss: 0.1208 - val_accuracy: 0.9697\n",
      "Epoch 24/30\n",
      "882/882 [==============================] - ETA: 0s - loss: 0.0836 - accuracy: 0.96 - ETA: 0s - loss: 0.1276 - accuracy: 0.96 - ETA: 0s - loss: 0.1214 - accuracy: 0.96 - ETA: 0s - loss: 0.1077 - accuracy: 0.97 - ETA: 0s - loss: 0.1020 - accuracy: 0.97 - ETA: 0s - loss: 0.1125 - accuracy: 0.97 - ETA: 0s - loss: 0.1136 - accuracy: 0.97 - ETA: 0s - loss: 0.1149 - accuracy: 0.96 - ETA: 0s - loss: 0.1098 - accuracy: 0.96 - ETA: 0s - loss: 0.1250 - accuracy: 0.96 - 1s 745us/sample - loss: 0.1238 - accuracy: 0.9637 - val_loss: 0.0938 - val_accuracy: 0.9697\n",
      "Epoch 25/30\n",
      "882/882 [==============================] - ETA: 0s - loss: 0.1813 - accuracy: 0.96 - ETA: 0s - loss: 0.1705 - accuracy: 0.96 - ETA: 0s - loss: 0.1355 - accuracy: 0.97 - ETA: 0s - loss: 0.1196 - accuracy: 0.97 - ETA: 0s - loss: 0.1218 - accuracy: 0.97 - ETA: 0s - loss: 0.1172 - accuracy: 0.97 - ETA: 0s - loss: 0.1188 - accuracy: 0.97 - ETA: 0s - loss: 0.1120 - accuracy: 0.97 - ETA: 0s - loss: 0.1113 - accuracy: 0.97 - ETA: 0s - loss: 0.1062 - accuracy: 0.97 - 1s 750us/sample - loss: 0.1066 - accuracy: 0.9762 - val_loss: 0.0911 - val_accuracy: 0.9798\n",
      "Epoch 26/30\n",
      "882/882 [==============================] - ETA: 0s - loss: 0.1575 - accuracy: 0.93 - ETA: 0s - loss: 0.1241 - accuracy: 0.94 - ETA: 0s - loss: 0.1393 - accuracy: 0.93 - ETA: 0s - loss: 0.1189 - accuracy: 0.95 - ETA: 0s - loss: 0.1060 - accuracy: 0.95 - ETA: 0s - loss: 0.1154 - accuracy: 0.95 - ETA: 0s - loss: 0.1147 - accuracy: 0.95 - ETA: 0s - loss: 0.1053 - accuracy: 0.96 - ETA: 0s - loss: 0.1037 - accuracy: 0.96 - 1s 740us/sample - loss: 0.1027 - accuracy: 0.9637 - val_loss: 0.0653 - val_accuracy: 0.9798\n",
      "Epoch 27/30\n",
      "882/882 [==============================] - ETA: 0s - loss: 0.0696 - accuracy: 1.00 - ETA: 0s - loss: 0.0953 - accuracy: 0.96 - ETA: 0s - loss: 0.0693 - accuracy: 0.97 - ETA: 0s - loss: 0.0695 - accuracy: 0.97 - ETA: 0s - loss: 0.0760 - accuracy: 0.97 - ETA: 0s - loss: 0.0847 - accuracy: 0.97 - ETA: 0s - loss: 0.0913 - accuracy: 0.96 - ETA: 0s - loss: 0.0891 - accuracy: 0.96 - ETA: 0s - loss: 0.0897 - accuracy: 0.96 - 1s 741us/sample - loss: 0.0949 - accuracy: 0.9637 - val_loss: 0.0565 - val_accuracy: 0.9899\n",
      "Epoch 28/30\n"
     ]
    },
    {
     "name": "stdout",
     "output_type": "stream",
     "text": [
      "882/882 [==============================] - ETA: 0s - loss: 0.1456 - accuracy: 0.93 - ETA: 0s - loss: 0.1087 - accuracy: 0.96 - ETA: 0s - loss: 0.1139 - accuracy: 0.96 - ETA: 0s - loss: 0.1132 - accuracy: 0.96 - ETA: 0s - loss: 0.1089 - accuracy: 0.96 - ETA: 0s - loss: 0.1150 - accuracy: 0.96 - ETA: 0s - loss: 0.1136 - accuracy: 0.96 - ETA: 0s - loss: 0.1110 - accuracy: 0.96 - ETA: 0s - loss: 0.1061 - accuracy: 0.96 - ETA: 0s - loss: 0.1006 - accuracy: 0.96 - 1s 780us/sample - loss: 0.0981 - accuracy: 0.9671 - val_loss: 0.0615 - val_accuracy: 0.9899\n",
      "Epoch 29/30\n",
      "882/882 [==============================] - ETA: 0s - loss: 0.1593 - accuracy: 0.93 - ETA: 0s - loss: 0.1203 - accuracy: 0.94 - ETA: 0s - loss: 0.1185 - accuracy: 0.95 - ETA: 0s - loss: 0.1005 - accuracy: 0.96 - ETA: 0s - loss: 0.1000 - accuracy: 0.96 - ETA: 0s - loss: 0.0953 - accuracy: 0.96 - ETA: 0s - loss: 0.0972 - accuracy: 0.96 - ETA: 0s - loss: 0.0918 - accuracy: 0.96 - ETA: 0s - loss: 0.0924 - accuracy: 0.96 - ETA: 0s - loss: 0.0935 - accuracy: 0.96 - ETA: 0s - loss: 0.0910 - accuracy: 0.96 - 1s 811us/sample - loss: 0.0921 - accuracy: 0.9694 - val_loss: 0.0436 - val_accuracy: 1.0000\n",
      "Epoch 30/30\n",
      "882/882 [==============================] - ETA: 0s - loss: 0.0938 - accuracy: 0.96 - ETA: 0s - loss: 0.1008 - accuracy: 0.97 - ETA: 0s - loss: 0.0960 - accuracy: 0.97 - ETA: 0s - loss: 0.0860 - accuracy: 0.97 - ETA: 0s - loss: 0.0799 - accuracy: 0.97 - ETA: 0s - loss: 0.0729 - accuracy: 0.97 - ETA: 0s - loss: 0.0812 - accuracy: 0.97 - ETA: 0s - loss: 0.0818 - accuracy: 0.97 - ETA: 0s - loss: 0.0809 - accuracy: 0.97 - ETA: 0s - loss: 0.0781 - accuracy: 0.97 - 1s 749us/sample - loss: 0.0770 - accuracy: 0.9739 - val_loss: 0.0377 - val_accuracy: 1.0000\n"
     ]
    }
   ],
   "source": [
    "cnn_d = models.Sequential([\n",
    "    layers.Conv2D(filters=16, kernel_size=(3, 3), activation='relu', input_shape=(48, 48, 1)),\n",
    "    layers.MaxPooling2D((2, 2)),\n",
    "    layers.Dropout(0.15),\n",
    "    \n",
    "    layers.Conv2D(filters=32, kernel_size=(3, 3), activation='relu'),\n",
    "    layers.MaxPooling2D((2, 2)),\n",
    "    \n",
    "    layers.Flatten(),\n",
    "    layers.Dense(64, activation='relu'),\n",
    "    layers.Dropout(0.25),\n",
    "    layers.Dense(len(emotions), activation='softmax')\n",
    "])\n",
    "\n",
    "cnn_d.compile(optimizer='adam',\n",
    "              loss='sparse_categorical_crossentropy',\n",
    "              metrics=['accuracy'])\n",
    "\n",
    "run_hist_d = cnn_d.fit(train_data, train_target, epochs=30, validation_data=(test_data, test_target), shuffle=True, \n",
    "                          verbose=1)"
   ]
  },
  {
   "cell_type": "code",
   "execution_count": 50,
   "metadata": {},
   "outputs": [
    {
     "data": {
      "image/png": "[encoded data removed]",
      "text/plain": [
       "<Figure size 432x288 with 1 Axes>"
      ]
     },
     "metadata": {
      "needs_background": "light"
     },
     "output_type": "display_data"
    }
   ],
   "source": [
    "plt.plot(run_hist_d.history[\"loss\"], 'r', marker='.', label=\"Train Loss\")\n",
    "plt.plot(run_hist_d.history[\"val_loss\"], 'b', marker='.', label=\"Validation Loss\")\n",
    "plt.title(\"CNN learning with dropouts\")\n",
    "plt.legend()\n",
    "plt.grid()"
   ]
  },
  {
   "cell_type": "code",
   "execution_count": 40,
   "metadata": {},
   "outputs": [
    {
     "data": {
      "text/plain": [
       "<AxesSubplot:>"
      ]
     },
     "execution_count": 40,
     "metadata": {},
     "output_type": "execute_result"
    },
    {
     "data": {
      "image/png": "[encoded data removed]",
      "text/plain": [
       "<Figure size 432x288 with 2 Axes>"
      ]
     },
     "metadata": {
      "needs_background": "light"
     },
     "output_type": "display_data"
    }
   ],
   "source": [
    "cnn_d_predictions = cnn_d.predict(test_data)\n",
    "emotions_predictions_d = [np.argmax(prediction) for prediction in cnn_d_predictions]\n",
    "\n",
    "confusion_matrix_d = metrics.confusion_matrix(y_true=test_target, y_pred=emotions_predictions_d)\n",
    "\n",
    "sns.heatmap(confusion_matrix_d)"
   ]
  },
  {
   "cell_type": "code",
   "execution_count": 48,
   "metadata": {},
   "outputs": [
    {
     "name": "stdout",
     "output_type": "stream",
     "text": [
      "99/99 [==============================] - ETA: 0s - loss: 0.0298 - accuracy: 1.00 - 0s 261us/sample - loss: 0.0377 - accuracy: 1.0000\n"
     ]
    }
   ],
   "source": [
    "score_d = cnn_d.evaluate(test_data, test_target)"
   ]
  },
  {
   "cell_type": "code",
   "execution_count": 49,
   "metadata": {},
   "outputs": [
    {
     "name": "stdout",
     "output_type": "stream",
     "text": [
      "Model accuracy rate:  1.0\n",
      "Model validation loss:  0.03770411116155711\n"
     ]
    }
   ],
   "source": [
    "print('Model accuracy rate: ', score_d[1])\n",
    "print('Model validation loss: ',score_d[0])"
   ]
  },
  {
   "cell_type": "code",
   "execution_count": 61,
   "metadata": {},
   "outputs": [
    {
     "name": "stdout",
     "output_type": "stream",
     "text": [
      "ERROR! Session/line number was not unique in database. History logging moved to new session 199\n",
      "Train on 784 samples\n",
      "Epoch 1/30\n",
      "784/784 [==============================] - ETA: 13s - loss: 1.9004 - accuracy: 0.281 - ETA: 3s - loss: 1.9404 - accuracy: 0.296 - ETA: 2s - loss: 1.9501 - accuracy: 0.25 - ETA: 1s - loss: 1.9290 - accuracy: 0.23 - ETA: 0s - loss: 1.9048 - accuracy: 0.23 - ETA: 0s - loss: 1.8890 - accuracy: 0.24 - ETA: 0s - loss: 1.8881 - accuracy: 0.26 - ETA: 0s - loss: 1.8830 - accuracy: 0.26 - ETA: 0s - loss: 1.8828 - accuracy: 0.26 - 1s 1ms/sample - loss: 1.8819 - accuracy: 0.2615\n",
      "Epoch 2/30\n",
      "784/784 [==============================] - ETA: 0s - loss: 1.8094 - accuracy: 0.18 - ETA: 0s - loss: 1.8033 - accuracy: 0.28 - ETA: 0s - loss: 1.7795 - accuracy: 0.29 - ETA: 0s - loss: 1.7738 - accuracy: 0.27 - ETA: 0s - loss: 1.8015 - accuracy: 0.27 - ETA: 0s - loss: 1.7977 - accuracy: 0.29 - ETA: 0s - loss: 1.7857 - accuracy: 0.30 - ETA: 0s - loss: 1.7765 - accuracy: 0.31 - ETA: 0s - loss: 1.7600 - accuracy: 0.32 - 1s 738us/sample - loss: 1.7531 - accuracy: 0.3329\n",
      "Epoch 3/30\n",
      "784/784 [==============================] - ETA: 0s - loss: 1.8089 - accuracy: 0.34 - ETA: 0s - loss: 1.6073 - accuracy: 0.45 - ETA: 0s - loss: 1.5807 - accuracy: 0.43 - ETA: 0s - loss: 1.5775 - accuracy: 0.44 - ETA: 0s - loss: 1.5646 - accuracy: 0.44 - ETA: 0s - loss: 1.5464 - accuracy: 0.46 - ETA: 0s - loss: 1.5250 - accuracy: 0.47 - ETA: 0s - loss: 1.4971 - accuracy: 0.48 - 1s 735us/sample - loss: 1.4912 - accuracy: 0.4949\n",
      "Epoch 4/30\n",
      "784/784 [==============================] - ETA: 0s - loss: 1.2803 - accuracy: 0.56 - ETA: 0s - loss: 1.2344 - accuracy: 0.59 - ETA: 0s - loss: 1.3149 - accuracy: 0.52 - ETA: 0s - loss: 1.2636 - accuracy: 0.55 - ETA: 0s - loss: 1.2482 - accuracy: 0.56 - ETA: 0s - loss: 1.2244 - accuracy: 0.57 - ETA: 0s - loss: 1.2029 - accuracy: 0.58 - ETA: 0s - loss: 1.1891 - accuracy: 0.58 - ETA: 0s - loss: 1.1799 - accuracy: 0.59 - 1s 737us/sample - loss: 1.1732 - accuracy: 0.5969\n",
      "Epoch 5/30\n",
      "784/784 [==============================] - ETA: 0s - loss: 0.8385 - accuracy: 0.71 - ETA: 0s - loss: 1.0302 - accuracy: 0.62 - ETA: 0s - loss: 1.0965 - accuracy: 0.59 - ETA: 0s - loss: 1.0989 - accuracy: 0.59 - ETA: 0s - loss: 1.0714 - accuracy: 0.62 - ETA: 0s - loss: 1.0568 - accuracy: 0.63 - ETA: 0s - loss: 1.0348 - accuracy: 0.64 - ETA: 0s - loss: 1.0260 - accuracy: 0.64 - ETA: 0s - loss: 0.9977 - accuracy: 0.65 - ETA: 0s - loss: 0.9954 - accuracy: 0.64 - 1s 780us/sample - loss: 0.9770 - accuracy: 0.6556\n",
      "Epoch 6/30\n",
      "784/784 [==============================] - ETA: 0s - loss: 0.8716 - accuracy: 0.71 - ETA: 0s - loss: 0.7566 - accuracy: 0.72 - ETA: 0s - loss: 0.7986 - accuracy: 0.70 - ETA: 0s - loss: 0.7928 - accuracy: 0.71 - ETA: 0s - loss: 0.8364 - accuracy: 0.69 - ETA: 0s - loss: 0.8432 - accuracy: 0.68 - ETA: 0s - loss: 0.8186 - accuracy: 0.69 - ETA: 0s - loss: 0.8213 - accuracy: 0.69 - ETA: 0s - loss: 0.8113 - accuracy: 0.69 - ETA: 0s - loss: 0.8072 - accuracy: 0.69 - 1s 775us/sample - loss: 0.7983 - accuracy: 0.7003\n",
      "Epoch 7/30\n",
      "784/784 [==============================] - ETA: 0s - loss: 1.0878 - accuracy: 0.53 - ETA: 0s - loss: 0.8695 - accuracy: 0.64 - ETA: 0s - loss: 0.7943 - accuracy: 0.68 - ETA: 0s - loss: 0.7764 - accuracy: 0.69 - ETA: 0s - loss: 0.7360 - accuracy: 0.71 - ETA: 0s - loss: 0.7789 - accuracy: 0.70 - ETA: 0s - loss: 0.7649 - accuracy: 0.70 - ETA: 0s - loss: 0.7383 - accuracy: 0.72 - ETA: 0s - loss: 0.7148 - accuracy: 0.73 - 1s 742us/sample - loss: 0.7090 - accuracy: 0.7411\n",
      "Epoch 8/30\n",
      "784/784 [==============================] - ETA: 0s - loss: 0.7437 - accuracy: 0.68 - ETA: 0s - loss: 0.5406 - accuracy: 0.80 - ETA: 0s - loss: 0.5723 - accuracy: 0.78 - ETA: 0s - loss: 0.6201 - accuracy: 0.76 - ETA: 0s - loss: 0.6073 - accuracy: 0.76 - ETA: 0s - loss: 0.6357 - accuracy: 0.76 - ETA: 0s - loss: 0.6507 - accuracy: 0.75 - ETA: 0s - loss: 0.6446 - accuracy: 0.75 - ETA: 0s - loss: 0.6259 - accuracy: 0.77 - ETA: 0s - loss: 0.6234 - accuracy: 0.77 - 1s 802us/sample - loss: 0.6298 - accuracy: 0.7717\n",
      "Epoch 9/30\n",
      "784/784 [==============================] - ETA: 0s - loss: 0.5348 - accuracy: 0.81 - ETA: 0s - loss: 0.6702 - accuracy: 0.67 - ETA: 0s - loss: 0.6740 - accuracy: 0.71 - ETA: 1s - loss: 0.6396 - accuracy: 0.73 - ETA: 0s - loss: 0.5737 - accuracy: 0.79 - ETA: 0s - loss: 0.5725 - accuracy: 0.79 - ETA: 0s - loss: 0.5826 - accuracy: 0.79 - ETA: 0s - loss: 0.5887 - accuracy: 0.79 - ETA: 0s - loss: 0.5796 - accuracy: 0.79 - ETA: 0s - loss: 0.5653 - accuracy: 0.79 - ETA: 0s - loss: 0.5513 - accuracy: 0.80 - ETA: 0s - loss: 0.5342 - accuracy: 0.80 - 1s 1ms/sample - loss: 0.5361 - accuracy: 0.8074\n",
      "Epoch 10/30\n",
      "784/784 [==============================] - ETA: 0s - loss: 0.4632 - accuracy: 0.81 - ETA: 0s - loss: 0.4551 - accuracy: 0.86 - ETA: 0s - loss: 0.4701 - accuracy: 0.85 - ETA: 0s - loss: 0.4738 - accuracy: 0.85 - ETA: 0s - loss: 0.4704 - accuracy: 0.85 - ETA: 0s - loss: 0.4656 - accuracy: 0.85 - ETA: 0s - loss: 0.4608 - accuracy: 0.84 - ETA: 0s - loss: 0.4423 - accuracy: 0.85 - ETA: 0s - loss: 0.4371 - accuracy: 0.85 - 1s 755us/sample - loss: 0.4371 - accuracy: 0.8546\n",
      "Epoch 11/30\n",
      "784/784 [==============================] - ETA: 0s - loss: 0.2797 - accuracy: 0.93 - ETA: 0s - loss: 0.3805 - accuracy: 0.88 - ETA: 0s - loss: 0.4045 - accuracy: 0.87 - ETA: 0s - loss: 0.4247 - accuracy: 0.85 - ETA: 0s - loss: 0.4305 - accuracy: 0.84 - ETA: 0s - loss: 0.4470 - accuracy: 0.83 - ETA: 0s - loss: 0.4304 - accuracy: 0.84 - ETA: 0s - loss: 0.4138 - accuracy: 0.85 - 1s 687us/sample - loss: 0.4163 - accuracy: 0.8495\n",
      "Epoch 12/30\n",
      "784/784 [==============================] - ETA: 0s - loss: 0.5232 - accuracy: 0.84 - ETA: 0s - loss: 0.3679 - accuracy: 0.88 - ETA: 0s - loss: 0.3822 - accuracy: 0.87 - ETA: 0s - loss: 0.3893 - accuracy: 0.85 - ETA: 0s - loss: 0.3857 - accuracy: 0.86 - ETA: 0s - loss: 0.3702 - accuracy: 0.86 - ETA: 0s - loss: 0.3665 - accuracy: 0.87 - ETA: 0s - loss: 0.3663 - accuracy: 0.87 - 1s 682us/sample - loss: 0.3600 - accuracy: 0.8699\n",
      "Epoch 13/30\n",
      "784/784 [==============================] - ETA: 0s - loss: 0.4338 - accuracy: 0.87 - ETA: 0s - loss: 0.3610 - accuracy: 0.89 - ETA: 0s - loss: 0.2841 - accuracy: 0.92 - ETA: 0s - loss: 0.3129 - accuracy: 0.90 - ETA: 0s - loss: 0.3007 - accuracy: 0.90 - ETA: 0s - loss: 0.3076 - accuracy: 0.90 - ETA: 0s - loss: 0.3186 - accuracy: 0.89 - ETA: 0s - loss: 0.3310 - accuracy: 0.89 - 1s 680us/sample - loss: 0.3365 - accuracy: 0.8890\n",
      "Epoch 14/30\n",
      "784/784 [==============================] - ETA: 0s - loss: 0.3113 - accuracy: 0.90 - ETA: 0s - loss: 0.3272 - accuracy: 0.89 - ETA: 0s - loss: 0.3188 - accuracy: 0.87 - ETA: 0s - loss: 0.3425 - accuracy: 0.87 - ETA: 0s - loss: 0.3481 - accuracy: 0.86 - ETA: 0s - loss: 0.3465 - accuracy: 0.87 - ETA: 0s - loss: 0.3295 - accuracy: 0.88 - ETA: 0s - loss: 0.3204 - accuracy: 0.88 - ETA: 0s - loss: 0.3115 - accuracy: 0.89 - 1s 707us/sample - loss: 0.3070 - accuracy: 0.8929\n",
      "Epoch 15/30\n",
      "784/784 [==============================] - ETA: 0s - loss: 0.2942 - accuracy: 0.87 - ETA: 0s - loss: 0.2550 - accuracy: 0.89 - ETA: 0s - loss: 0.2651 - accuracy: 0.88 - ETA: 0s - loss: 0.2983 - accuracy: 0.87 - ETA: 0s - loss: 0.2961 - accuracy: 0.87 - ETA: 0s - loss: 0.3083 - accuracy: 0.87 - ETA: 0s - loss: 0.3088 - accuracy: 0.88 - ETA: 0s - loss: 0.3040 - accuracy: 0.88 - ETA: 0s - loss: 0.3069 - accuracy: 0.88 - ETA: 0s - loss: 0.3058 - accuracy: 0.89 - 1s 796us/sample - loss: 0.3028 - accuracy: 0.8941\n",
      "Epoch 16/30\n",
      "784/784 [==============================] - ETA: 0s - loss: 0.2785 - accuracy: 0.93 - ETA: 0s - loss: 0.3053 - accuracy: 0.90 - ETA: 0s - loss: 0.2761 - accuracy: 0.90 - ETA: 0s - loss: 0.2707 - accuracy: 0.91 - ETA: 0s - loss: 0.2707 - accuracy: 0.90 - ETA: 0s - loss: 0.2621 - accuracy: 0.91 - ETA: 0s - loss: 0.2448 - accuracy: 0.92 - ETA: 0s - loss: 0.2432 - accuracy: 0.92 - ETA: 0s - loss: 0.2539 - accuracy: 0.92 - ETA: 0s - loss: 0.2506 - accuracy: 0.92 - ETA: 0s - loss: 0.2474 - accuracy: 0.91 - ETA: 0s - loss: 0.2459 - accuracy: 0.91 - 1s 918us/sample - loss: 0.2469 - accuracy: 0.9184\n",
      "Epoch 17/30\n"
     ]
    },
    {
     "name": "stdout",
     "output_type": "stream",
     "text": [
      "784/784 [==============================] - ETA: 0s - loss: 0.1956 - accuracy: 0.90 - ETA: 0s - loss: 0.3010 - accuracy: 0.89 - ETA: 0s - loss: 0.2710 - accuracy: 0.90 - ETA: 0s - loss: 0.2536 - accuracy: 0.91 - ETA: 0s - loss: 0.2425 - accuracy: 0.91 - ETA: 0s - loss: 0.2602 - accuracy: 0.90 - ETA: 0s - loss: 0.2680 - accuracy: 0.90 - ETA: 0s - loss: 0.2525 - accuracy: 0.91 - ETA: 0s - loss: 0.2491 - accuracy: 0.91 - 1s 765us/sample - loss: 0.2486 - accuracy: 0.9133\n",
      "Epoch 18/30\n",
      "784/784 [==============================] - ETA: 0s - loss: 0.1471 - accuracy: 0.90 - ETA: 0s - loss: 0.2584 - accuracy: 0.87 - ETA: 0s - loss: 0.2119 - accuracy: 0.90 - ETA: 0s - loss: 0.2021 - accuracy: 0.91 - ETA: 0s - loss: 0.2129 - accuracy: 0.91 - ETA: 0s - loss: 0.2039 - accuracy: 0.92 - ETA: 0s - loss: 0.2059 - accuracy: 0.92 - ETA: 0s - loss: 0.1974 - accuracy: 0.93 - ETA: 0s - loss: 0.2119 - accuracy: 0.92 - ETA: 0s - loss: 0.2164 - accuracy: 0.92 - 1s 777us/sample - loss: 0.2141 - accuracy: 0.9247\n",
      "Epoch 19/30\n",
      "784/784 [==============================] - ETA: 0s - loss: 0.1521 - accuracy: 0.93 - ETA: 0s - loss: 0.2104 - accuracy: 0.91 - ETA: 0s - loss: 0.2018 - accuracy: 0.92 - ETA: 0s - loss: 0.2177 - accuracy: 0.93 - ETA: 0s - loss: 0.2047 - accuracy: 0.93 - ETA: 0s - loss: 0.2115 - accuracy: 0.93 - ETA: 0s - loss: 0.2235 - accuracy: 0.92 - ETA: 0s - loss: 0.2147 - accuracy: 0.92 - ETA: 0s - loss: 0.2100 - accuracy: 0.92 - ETA: 0s - loss: 0.2078 - accuracy: 0.92 - 1s 796us/sample - loss: 0.2090 - accuracy: 0.9273\n",
      "Epoch 20/30\n",
      "784/784 [==============================] - ETA: 0s - loss: 0.1827 - accuracy: 0.93 - ETA: 0s - loss: 0.1083 - accuracy: 0.96 - ETA: 0s - loss: 0.1494 - accuracy: 0.94 - ETA: 0s - loss: 0.1801 - accuracy: 0.93 - ETA: 0s - loss: 0.1860 - accuracy: 0.93 - ETA: 0s - loss: 0.1810 - accuracy: 0.93 - ETA: 0s - loss: 0.1723 - accuracy: 0.93 - ETA: 0s - loss: 0.1813 - accuracy: 0.93 - ETA: 0s - loss: 0.1828 - accuracy: 0.93 - ETA: 0s - loss: 0.1796 - accuracy: 0.93 - 1s 786us/sample - loss: 0.1801 - accuracy: 0.9362\n",
      "Epoch 21/30\n",
      "784/784 [==============================] - ETA: 0s - loss: 0.1450 - accuracy: 0.96 - ETA: 0s - loss: 0.1654 - accuracy: 0.93 - ETA: 0s - loss: 0.1419 - accuracy: 0.95 - ETA: 0s - loss: 0.1538 - accuracy: 0.94 - ETA: 0s - loss: 0.1475 - accuracy: 0.94 - ETA: 0s - loss: 0.1589 - accuracy: 0.93 - ETA: 0s - loss: 0.1540 - accuracy: 0.94 - ETA: 0s - loss: 0.1606 - accuracy: 0.94 - ETA: 0s - loss: 0.1567 - accuracy: 0.94 - ETA: 0s - loss: 0.1542 - accuracy: 0.94 - ETA: 0s - loss: 0.1581 - accuracy: 0.94 - 1s 808us/sample - loss: 0.1586 - accuracy: 0.9413\n",
      "Epoch 22/30\n",
      "784/784 [==============================] - ETA: 0s - loss: 0.1473 - accuracy: 0.96 - ETA: 0s - loss: 0.1237 - accuracy: 0.97 - ETA: 0s - loss: 0.1361 - accuracy: 0.97 - ETA: 0s - loss: 0.1392 - accuracy: 0.96 - ETA: 0s - loss: 0.1440 - accuracy: 0.96 - ETA: 0s - loss: 0.1489 - accuracy: 0.96 - ETA: 0s - loss: 0.1484 - accuracy: 0.96 - ETA: 0s - loss: 0.1497 - accuracy: 0.95 - ETA: 0s - loss: 0.1535 - accuracy: 0.95 - ETA: 0s - loss: 0.1531 - accuracy: 0.95 - ETA: 0s - loss: 0.1553 - accuracy: 0.95 - ETA: 0s - loss: 0.1507 - accuracy: 0.95 - 1s 922us/sample - loss: 0.1583 - accuracy: 0.9528\n",
      "Epoch 23/30\n",
      "784/784 [==============================] - ETA: 0s - loss: 0.2827 - accuracy: 0.90 - ETA: 0s - loss: 0.1878 - accuracy: 0.93 - ETA: 0s - loss: 0.1927 - accuracy: 0.92 - ETA: 0s - loss: 0.1932 - accuracy: 0.91 - ETA: 0s - loss: 0.1917 - accuracy: 0.92 - ETA: 0s - loss: 0.1939 - accuracy: 0.92 - ETA: 0s - loss: 0.1882 - accuracy: 0.92 - ETA: 0s - loss: 0.1886 - accuracy: 0.92 - ETA: 0s - loss: 0.1791 - accuracy: 0.93 - ETA: 0s - loss: 0.1729 - accuracy: 0.93 - ETA: 0s - loss: 0.1661 - accuracy: 0.93 - ETA: 0s - loss: 0.1661 - accuracy: 0.93 - 1s 906us/sample - loss: 0.1632 - accuracy: 0.9401\n",
      "Epoch 24/30\n",
      "784/784 [==============================] - ETA: 0s - loss: 0.1570 - accuracy: 0.96 - ETA: 0s - loss: 0.1275 - accuracy: 0.95 - ETA: 0s - loss: 0.1688 - accuracy: 0.93 - ETA: 0s - loss: 0.1614 - accuracy: 0.94 - ETA: 0s - loss: 0.1533 - accuracy: 0.94 - ETA: 0s - loss: 0.1589 - accuracy: 0.94 - ETA: 0s - loss: 0.1645 - accuracy: 0.93 - ETA: 0s - loss: 0.1574 - accuracy: 0.94 - ETA: 0s - loss: 0.1565 - accuracy: 0.93 - ETA: 0s - loss: 0.1496 - accuracy: 0.94 - ETA: 0s - loss: 0.1564 - accuracy: 0.93 - ETA: 0s - loss: 0.1651 - accuracy: 0.93 - 1s 1ms/sample - loss: 0.1620 - accuracy: 0.9388\n",
      "Epoch 25/30\n",
      "784/784 [==============================] - ETA: 0s - loss: 0.1280 - accuracy: 0.96 - ETA: 0s - loss: 0.1170 - accuracy: 0.96 - ETA: 0s - loss: 0.1712 - accuracy: 0.95 - ETA: 0s - loss: 0.1629 - accuracy: 0.94 - ETA: 0s - loss: 0.1717 - accuracy: 0.93 - ETA: 0s - loss: 0.1607 - accuracy: 0.94 - ETA: 0s - loss: 0.1518 - accuracy: 0.94 - ETA: 0s - loss: 0.1467 - accuracy: 0.95 - ETA: 0s - loss: 0.1529 - accuracy: 0.94 - ETA: 0s - loss: 0.1507 - accuracy: 0.94 - ETA: 0s - loss: 0.1469 - accuracy: 0.95 - ETA: 0s - loss: 0.1447 - accuracy: 0.95 - 1s 1ms/sample - loss: 0.1419 - accuracy: 0.9528\n",
      "Epoch 26/30\n",
      "784/784 [==============================] - ETA: 0s - loss: 0.1544 - accuracy: 0.96 - ETA: 0s - loss: 0.1618 - accuracy: 0.94 - ETA: 0s - loss: 0.1651 - accuracy: 0.94 - ETA: 0s - loss: 0.1662 - accuracy: 0.94 - ETA: 0s - loss: 0.1553 - accuracy: 0.95 - ETA: 0s - loss: 0.1527 - accuracy: 0.95 - ETA: 0s - loss: 0.1504 - accuracy: 0.95 - ETA: 0s - loss: 0.1416 - accuracy: 0.96 - ETA: 0s - loss: 0.1348 - accuracy: 0.96 - ETA: 0s - loss: 0.1418 - accuracy: 0.95 - ETA: 0s - loss: 0.1332 - accuracy: 0.96 - 1s 841us/sample - loss: 0.1341 - accuracy: 0.9617\n",
      "Epoch 27/30\n",
      "784/784 [==============================] - ETA: 0s - loss: 0.1314 - accuracy: 1.00 - ETA: 0s - loss: 0.0773 - accuracy: 0.97 - ETA: 0s - loss: 0.1019 - accuracy: 0.96 - ETA: 0s - loss: 0.1330 - accuracy: 0.95 - ETA: 0s - loss: 0.1253 - accuracy: 0.95 - ETA: 0s - loss: 0.1202 - accuracy: 0.96 - ETA: 0s - loss: 0.1244 - accuracy: 0.96 - ETA: 0s - loss: 0.1246 - accuracy: 0.96 - ETA: 0s - loss: 0.1254 - accuracy: 0.96 - ETA: 0s - loss: 0.1198 - accuracy: 0.96 - ETA: 0s - loss: 0.1191 - accuracy: 0.96 - 1s 819us/sample - loss: 0.1169 - accuracy: 0.9668\n",
      "Epoch 28/30\n",
      "784/784 [==============================] - ETA: 0s - loss: 0.1385 - accuracy: 0.93 - ETA: 0s - loss: 0.1058 - accuracy: 0.96 - ETA: 0s - loss: 0.1088 - accuracy: 0.95 - ETA: 0s - loss: 0.0944 - accuracy: 0.95 - ETA: 0s - loss: 0.1007 - accuracy: 0.95 - ETA: 0s - loss: 0.1120 - accuracy: 0.95 - ETA: 0s - loss: 0.1015 - accuracy: 0.96 - ETA: 0s - loss: 0.1137 - accuracy: 0.95 - ETA: 0s - loss: 0.1074 - accuracy: 0.96 - ETA: 0s - loss: 0.1106 - accuracy: 0.96 - ETA: 0s - loss: 0.1089 - accuracy: 0.96 - 1s 860us/sample - loss: 0.1088 - accuracy: 0.9643\n",
      "Epoch 29/30\n",
      "784/784 [==============================] - ETA: 0s - loss: 0.1238 - accuracy: 0.96 - ETA: 0s - loss: 0.1252 - accuracy: 0.96 - ETA: 0s - loss: 0.1123 - accuracy: 0.96 - ETA: 0s - loss: 0.0901 - accuracy: 0.97 - ETA: 0s - loss: 0.1018 - accuracy: 0.96 - ETA: 0s - loss: 0.0917 - accuracy: 0.97 - ETA: 0s - loss: 0.0962 - accuracy: 0.97 - ETA: 0s - loss: 0.0892 - accuracy: 0.97 - ETA: 0s - loss: 0.0874 - accuracy: 0.97 - ETA: 0s - loss: 0.0974 - accuracy: 0.97 - ETA: 0s - loss: 0.0971 - accuracy: 0.97 - ETA: 0s - loss: 0.0981 - accuracy: 0.97 - 1s 903us/sample - loss: 0.0958 - accuracy: 0.9745\n",
      "Epoch 30/30\n",
      "784/784 [==============================] - ETA: 0s - loss: 0.0976 - accuracy: 0.96 - ETA: 0s - loss: 0.1386 - accuracy: 0.94 - ETA: 0s - loss: 0.1291 - accuracy: 0.95 - ETA: 0s - loss: 0.1264 - accuracy: 0.95 - ETA: 0s - loss: 0.1203 - accuracy: 0.95 - ETA: 0s - loss: 0.1203 - accuracy: 0.95 - ETA: 0s - loss: 0.1179 - accuracy: 0.95 - ETA: 0s - loss: 0.1144 - accuracy: 0.96 - ETA: 0s - loss: 0.1234 - accuracy: 0.95 - ETA: 0s - loss: 0.1194 - accuracy: 0.95 - ETA: 0s - loss: 0.1233 - accuracy: 0.95 - 1s 833us/sample - loss: 0.1204 - accuracy: 0.9592\n",
      "197/197 [==============================] - ETA: 0s - loss: 0.2765 - accuracy: 0.93 - 0s 706us/sample - loss: 0.1096 - accuracy: 0.9746\n",
      "Train on 785 samples\n",
      "Epoch 1/30\n"
     ]
    },
    {
     "name": "stdout",
     "output_type": "stream",
     "text": [
      "785/785 [==============================] - ETA: 10s - loss: 1.9368 - accuracy: 0.125 - ETA: 3s - loss: 1.9776 - accuracy: 0.125 - ETA: 2s - loss: 1.9317 - accuracy: 0.15 - ETA: 1s - loss: 1.9241 - accuracy: 0.15 - ETA: 0s - loss: 1.9134 - accuracy: 0.17 - ETA: 0s - loss: 1.8956 - accuracy: 0.19 - ETA: 0s - loss: 1.8860 - accuracy: 0.19 - ETA: 0s - loss: 1.8699 - accuracy: 0.21 - ETA: 0s - loss: 1.8582 - accuracy: 0.23 - ETA: 0s - loss: 1.8618 - accuracy: 0.22 - 1s 1ms/sample - loss: 1.8656 - accuracy: 0.2255\n",
      "Epoch 2/30\n",
      "785/785 [==============================] - ETA: 0s - loss: 1.6009 - accuracy: 0.40 - ETA: 0s - loss: 1.8059 - accuracy: 0.32 - ETA: 0s - loss: 1.8052 - accuracy: 0.31 - ETA: 0s - loss: 1.7988 - accuracy: 0.27 - ETA: 0s - loss: 1.7999 - accuracy: 0.26 - ETA: 0s - loss: 1.7992 - accuracy: 0.26 - ETA: 0s - loss: 1.7932 - accuracy: 0.27 - ETA: 0s - loss: 1.7889 - accuracy: 0.28 - ETA: 0s - loss: 1.7952 - accuracy: 0.27 - ETA: 0s - loss: 1.7919 - accuracy: 0.27 - ETA: 0s - loss: 1.7840 - accuracy: 0.27 - 1s 844us/sample - loss: 1.7777 - accuracy: 0.2828\n",
      "Epoch 3/30\n",
      "785/785 [==============================] - ETA: 0s - loss: 1.6564 - accuracy: 0.28 - ETA: 0s - loss: 1.6652 - accuracy: 0.35 - ETA: 0s - loss: 1.6534 - accuracy: 0.38 - ETA: 0s - loss: 1.6765 - accuracy: 0.39 - ETA: 0s - loss: 1.6801 - accuracy: 0.40 - ETA: 0s - loss: 1.6544 - accuracy: 0.42 - ETA: 0s - loss: 1.6367 - accuracy: 0.44 - ETA: 0s - loss: 1.6287 - accuracy: 0.44 - ETA: 0s - loss: 1.6442 - accuracy: 0.43 - ETA: 0s - loss: 1.6487 - accuracy: 0.42 - ETA: 0s - loss: 1.6345 - accuracy: 0.43 - 1s 839us/sample - loss: 1.6253 - accuracy: 0.4471\n",
      "Epoch 4/30\n",
      "785/785 [==============================] - ETA: 0s - loss: 1.5631 - accuracy: 0.46 - ETA: 0s - loss: 1.4674 - accuracy: 0.52 - ETA: 0s - loss: 1.4452 - accuracy: 0.51 - ETA: 0s - loss: 1.4122 - accuracy: 0.51 - ETA: 0s - loss: 1.3965 - accuracy: 0.52 - ETA: 0s - loss: 1.3655 - accuracy: 0.54 - ETA: 0s - loss: 1.3374 - accuracy: 0.55 - ETA: 0s - loss: 1.3176 - accuracy: 0.55 - ETA: 0s - loss: 1.2826 - accuracy: 0.56 - 1s 770us/sample - loss: 1.2740 - accuracy: 0.5669\n",
      "Epoch 5/30\n",
      "785/785 [==============================] - ETA: 0s - loss: 1.1596 - accuracy: 0.65 - ETA: 0s - loss: 1.1758 - accuracy: 0.63 - ETA: 0s - loss: 1.1004 - accuracy: 0.64 - ETA: 0s - loss: 1.0625 - accuracy: 0.65 - ETA: 0s - loss: 1.0110 - accuracy: 0.66 - ETA: 0s - loss: 1.0162 - accuracy: 0.66 - ETA: 0s - loss: 0.9954 - accuracy: 0.68 - ETA: 0s - loss: 0.9935 - accuracy: 0.67 - ETA: 0s - loss: 0.9819 - accuracy: 0.68 - ETA: 0s - loss: 0.9773 - accuracy: 0.68 - 1s 765us/sample - loss: 0.9725 - accuracy: 0.6892\n",
      "Epoch 6/30\n",
      "785/785 [==============================] - ETA: 0s - loss: 0.7979 - accuracy: 0.71 - ETA: 0s - loss: 0.8168 - accuracy: 0.71 - ETA: 0s - loss: 0.7913 - accuracy: 0.73 - ETA: 0s - loss: 0.8263 - accuracy: 0.72 - ETA: 0s - loss: 0.7889 - accuracy: 0.74 - ETA: 0s - loss: 0.7822 - accuracy: 0.74 - ETA: 0s - loss: 0.8074 - accuracy: 0.73 - ETA: 0s - loss: 0.8203 - accuracy: 0.72 - ETA: 0s - loss: 0.8101 - accuracy: 0.73 - ETA: 0s - loss: 0.8064 - accuracy: 0.72 - 1s 781us/sample - loss: 0.8188 - accuracy: 0.7236\n",
      "Epoch 7/30\n",
      "785/785 [==============================] - ETA: 0s - loss: 0.8658 - accuracy: 0.71 - ETA: 0s - loss: 0.7652 - accuracy: 0.75 - ETA: 0s - loss: 0.7473 - accuracy: 0.76 - ETA: 0s - loss: 0.7055 - accuracy: 0.77 - ETA: 0s - loss: 0.6895 - accuracy: 0.78 - ETA: 0s - loss: 0.6977 - accuracy: 0.77 - ETA: 0s - loss: 0.6977 - accuracy: 0.77 - ETA: 0s - loss: 0.6974 - accuracy: 0.77 - ETA: 0s - loss: 0.7098 - accuracy: 0.76 - 1s 753us/sample - loss: 0.7070 - accuracy: 0.7605\n",
      "Epoch 8/30\n",
      "785/785 [==============================] - ETA: 0s - loss: 0.8805 - accuracy: 0.68 - ETA: 0s - loss: 0.6266 - accuracy: 0.79 - ETA: 0s - loss: 0.6473 - accuracy: 0.78 - ETA: 0s - loss: 0.6518 - accuracy: 0.78 - ETA: 0s - loss: 0.6703 - accuracy: 0.76 - ETA: 0s - loss: 0.6369 - accuracy: 0.78 - ETA: 0s - loss: 0.6250 - accuracy: 0.78 - ETA: 0s - loss: 0.6144 - accuracy: 0.79 - ETA: 0s - loss: 0.6054 - accuracy: 0.79 - 1s 774us/sample - loss: 0.6034 - accuracy: 0.7924\n",
      "Epoch 9/30\n",
      "785/785 [==============================] - ETA: 0s - loss: 0.5007 - accuracy: 0.87 - ETA: 0s - loss: 0.4489 - accuracy: 0.86 - ETA: 0s - loss: 0.4854 - accuracy: 0.85 - ETA: 0s - loss: 0.5033 - accuracy: 0.83 - ETA: 0s - loss: 0.5090 - accuracy: 0.83 - ETA: 0s - loss: 0.5120 - accuracy: 0.82 - ETA: 0s - loss: 0.5039 - accuracy: 0.82 - ETA: 0s - loss: 0.5119 - accuracy: 0.82 - ETA: 0s - loss: 0.5170 - accuracy: 0.82 - ETA: 0s - loss: 0.5085 - accuracy: 0.82 - 1s 786us/sample - loss: 0.5110 - accuracy: 0.8229\n",
      "Epoch 10/30\n",
      "785/785 [==============================] - ETA: 0s - loss: 0.6033 - accuracy: 0.78 - ETA: 0s - loss: 0.4234 - accuracy: 0.85 - ETA: 0s - loss: 0.4429 - accuracy: 0.84 - ETA: 0s - loss: 0.4842 - accuracy: 0.81 - ETA: 0s - loss: 0.4619 - accuracy: 0.83 - ETA: 0s - loss: 0.4706 - accuracy: 0.82 - ETA: 0s - loss: 0.4726 - accuracy: 0.83 - ETA: 0s - loss: 0.4647 - accuracy: 0.83 - ETA: 0s - loss: 0.4722 - accuracy: 0.83 - ETA: 0s - loss: 0.4794 - accuracy: 0.82 - 1s 780us/sample - loss: 0.4791 - accuracy: 0.8306\n",
      "Epoch 11/30\n",
      "785/785 [==============================] - ETA: 0s - loss: 0.5942 - accuracy: 0.75 - ETA: 0s - loss: 0.4750 - accuracy: 0.83 - ETA: 0s - loss: 0.4437 - accuracy: 0.86 - ETA: 0s - loss: 0.4323 - accuracy: 0.86 - ETA: 0s - loss: 0.4338 - accuracy: 0.85 - ETA: 0s - loss: 0.4150 - accuracy: 0.86 - ETA: 0s - loss: 0.4192 - accuracy: 0.86 - ETA: 0s - loss: 0.4194 - accuracy: 0.86 - ETA: 0s - loss: 0.4048 - accuracy: 0.87 - ETA: 0s - loss: 0.4159 - accuracy: 0.86 - ETA: 0s - loss: 0.4097 - accuracy: 0.86 - 1s 807us/sample - loss: 0.4124 - accuracy: 0.8662\n",
      "Epoch 12/30\n",
      "785/785 [==============================] - ETA: 0s - loss: 0.6272 - accuracy: 0.71 - ETA: 0s - loss: 0.4890 - accuracy: 0.79 - ETA: 0s - loss: 0.4388 - accuracy: 0.83 - ETA: 0s - loss: 0.4770 - accuracy: 0.82 - ETA: 0s - loss: 0.4493 - accuracy: 0.83 - ETA: 0s - loss: 0.4469 - accuracy: 0.83 - ETA: 0s - loss: 0.4436 - accuracy: 0.83 - ETA: 0s - loss: 0.4280 - accuracy: 0.84 - ETA: 0s - loss: 0.4066 - accuracy: 0.85 - ETA: 0s - loss: 0.4090 - accuracy: 0.84 - ETA: 0s - loss: 0.4063 - accuracy: 0.84 - ETA: 0s - loss: 0.4048 - accuracy: 0.84 - 1s 848us/sample - loss: 0.3981 - accuracy: 0.8535\n",
      "Epoch 13/30\n",
      "785/785 [==============================] - ETA: 0s - loss: 0.5728 - accuracy: 0.75 - ETA: 0s - loss: 0.5412 - accuracy: 0.78 - ETA: 0s - loss: 0.4551 - accuracy: 0.81 - ETA: 0s - loss: 0.4473 - accuracy: 0.82 - ETA: 0s - loss: 0.4090 - accuracy: 0.84 - ETA: 0s - loss: 0.4040 - accuracy: 0.84 - ETA: 0s - loss: 0.3840 - accuracy: 0.85 - ETA: 0s - loss: 0.3790 - accuracy: 0.86 - ETA: 0s - loss: 0.3627 - accuracy: 0.86 - ETA: 0s - loss: 0.3685 - accuracy: 0.86 - ETA: 0s - loss: 0.3567 - accuracy: 0.86 - ETA: 0s - loss: 0.3521 - accuracy: 0.87 - 1s 799us/sample - loss: 0.3473 - accuracy: 0.8752\n",
      "Epoch 14/30\n",
      "785/785 [==============================] - ETA: 0s - loss: 0.1880 - accuracy: 0.90 - ETA: 0s - loss: 0.2505 - accuracy: 0.90 - ETA: 0s - loss: 0.2539 - accuracy: 0.90 - ETA: 0s - loss: 0.2661 - accuracy: 0.88 - ETA: 0s - loss: 0.2840 - accuracy: 0.88 - ETA: 0s - loss: 0.2935 - accuracy: 0.88 - ETA: 0s - loss: 0.3078 - accuracy: 0.87 - ETA: 0s - loss: 0.3000 - accuracy: 0.87 - ETA: 0s - loss: 0.3045 - accuracy: 0.87 - ETA: 0s - loss: 0.3157 - accuracy: 0.87 - ETA: 0s - loss: 0.3192 - accuracy: 0.87 - 1s 799us/sample - loss: 0.3297 - accuracy: 0.8713\n",
      "Epoch 15/30\n",
      "785/785 [==============================] - ETA: 0s - loss: 0.1452 - accuracy: 0.96 - ETA: 0s - loss: 0.2772 - accuracy: 0.90 - ETA: 0s - loss: 0.2583 - accuracy: 0.92 - ETA: 0s - loss: 0.2694 - accuracy: 0.90 - ETA: 0s - loss: 0.2901 - accuracy: 0.89 - ETA: 0s - loss: 0.3043 - accuracy: 0.88 - ETA: 0s - loss: 0.2918 - accuracy: 0.89 - ETA: 0s - loss: 0.3033 - accuracy: 0.89 - ETA: 0s - loss: 0.2931 - accuracy: 0.89 - ETA: 0s - loss: 0.3095 - accuracy: 0.89 - 1s 780us/sample - loss: 0.3127 - accuracy: 0.8930\n",
      "Epoch 16/30\n"
     ]
    },
    {
     "name": "stdout",
     "output_type": "stream",
     "text": [
      "785/785 [==============================] - ETA: 0s - loss: 0.2111 - accuracy: 0.93 - ETA: 0s - loss: 0.2751 - accuracy: 0.91 - ETA: 0s - loss: 0.3032 - accuracy: 0.89 - ETA: 0s - loss: 0.2913 - accuracy: 0.89 - ETA: 0s - loss: 0.3098 - accuracy: 0.88 - ETA: 0s - loss: 0.2957 - accuracy: 0.88 - ETA: 0s - loss: 0.2967 - accuracy: 0.89 - ETA: 0s - loss: 0.2988 - accuracy: 0.89 - ETA: 0s - loss: 0.3041 - accuracy: 0.89 - ETA: 0s - loss: 0.3038 - accuracy: 0.89 - 1s 783us/sample - loss: 0.3042 - accuracy: 0.8879\n",
      "Epoch 17/30\n",
      "785/785 [==============================] - ETA: 0s - loss: 0.2596 - accuracy: 0.87 - ETA: 0s - loss: 0.2226 - accuracy: 0.89 - ETA: 0s - loss: 0.2054 - accuracy: 0.91 - ETA: 0s - loss: 0.2393 - accuracy: 0.89 - ETA: 0s - loss: 0.2445 - accuracy: 0.89 - ETA: 0s - loss: 0.2525 - accuracy: 0.90 - ETA: 0s - loss: 0.2528 - accuracy: 0.90 - ETA: 0s - loss: 0.2562 - accuracy: 0.90 - ETA: 0s - loss: 0.2595 - accuracy: 0.90 - ETA: 0s - loss: 0.2503 - accuracy: 0.90 - ETA: 0s - loss: 0.2640 - accuracy: 0.90 - 1s 796us/sample - loss: 0.2607 - accuracy: 0.9045\n",
      "Epoch 18/30\n",
      "785/785 [==============================] - ETA: 0s - loss: 0.1598 - accuracy: 0.90 - ETA: 0s - loss: 0.3061 - accuracy: 0.83 - ETA: 0s - loss: 0.2985 - accuracy: 0.85 - ETA: 0s - loss: 0.2679 - accuracy: 0.87 - ETA: 0s - loss: 0.2725 - accuracy: 0.87 - ETA: 0s - loss: 0.2661 - accuracy: 0.88 - ETA: 0s - loss: 0.2566 - accuracy: 0.88 - ETA: 0s - loss: 0.2623 - accuracy: 0.88 - ETA: 0s - loss: 0.2679 - accuracy: 0.88 - ETA: 0s - loss: 0.2787 - accuracy: 0.88 - 1s 778us/sample - loss: 0.2770 - accuracy: 0.8841\n",
      "Epoch 19/30\n",
      "785/785 [==============================] - ETA: 0s - loss: 0.2497 - accuracy: 0.87 - ETA: 0s - loss: 0.3055 - accuracy: 0.88 - ETA: 0s - loss: 0.2804 - accuracy: 0.90 - ETA: 0s - loss: 0.2793 - accuracy: 0.89 - ETA: 0s - loss: 0.2807 - accuracy: 0.90 - ETA: 0s - loss: 0.2765 - accuracy: 0.90 - ETA: 0s - loss: 0.2664 - accuracy: 0.90 - ETA: 0s - loss: 0.2668 - accuracy: 0.89 - ETA: 0s - loss: 0.2665 - accuracy: 0.89 - 1s 773us/sample - loss: 0.2662 - accuracy: 0.8968\n",
      "Epoch 20/30\n",
      "785/785 [==============================] - ETA: 0s - loss: 0.2864 - accuracy: 0.87 - ETA: 0s - loss: 0.1957 - accuracy: 0.92 - ETA: 0s - loss: 0.1892 - accuracy: 0.92 - ETA: 0s - loss: 0.2005 - accuracy: 0.91 - ETA: 0s - loss: 0.2051 - accuracy: 0.91 - ETA: 0s - loss: 0.1952 - accuracy: 0.92 - ETA: 0s - loss: 0.2224 - accuracy: 0.90 - ETA: 0s - loss: 0.2248 - accuracy: 0.90 - ETA: 0s - loss: 0.2158 - accuracy: 0.91 - 1s 758us/sample - loss: 0.2149 - accuracy: 0.9146\n",
      "Epoch 21/30\n",
      "785/785 [==============================] - ETA: 0s - loss: 0.2085 - accuracy: 0.96 - ETA: 0s - loss: 0.2482 - accuracy: 0.91 - ETA: 0s - loss: 0.2518 - accuracy: 0.91 - ETA: 0s - loss: 0.2502 - accuracy: 0.92 - ETA: 0s - loss: 0.2287 - accuracy: 0.93 - ETA: 0s - loss: 0.2139 - accuracy: 0.93 - ETA: 0s - loss: 0.2150 - accuracy: 0.93 - ETA: 0s - loss: 0.2079 - accuracy: 0.93 - ETA: 0s - loss: 0.2194 - accuracy: 0.92 - ETA: 0s - loss: 0.2136 - accuracy: 0.92 - 1s 784us/sample - loss: 0.2072 - accuracy: 0.9312\n",
      "Epoch 22/30\n",
      "785/785 [==============================] - ETA: 0s - loss: 0.1717 - accuracy: 0.93 - ETA: 0s - loss: 0.2160 - accuracy: 0.91 - ETA: 0s - loss: 0.2165 - accuracy: 0.92 - ETA: 0s - loss: 0.2034 - accuracy: 0.93 - ETA: 0s - loss: 0.2019 - accuracy: 0.94 - ETA: 0s - loss: 0.1906 - accuracy: 0.94 - ETA: 0s - loss: 0.1978 - accuracy: 0.93 - ETA: 0s - loss: 0.2078 - accuracy: 0.92 - ETA: 0s - loss: 0.2006 - accuracy: 0.92 - ETA: 0s - loss: 0.2041 - accuracy: 0.92 - ETA: 0s - loss: 0.2144 - accuracy: 0.92 - 1s 794us/sample - loss: 0.2207 - accuracy: 0.9248\n",
      "Epoch 23/30\n",
      "785/785 [==============================] - ETA: 0s - loss: 0.0740 - accuracy: 0.96 - ETA: 0s - loss: 0.1097 - accuracy: 0.96 - ETA: 0s - loss: 0.1753 - accuracy: 0.94 - ETA: 0s - loss: 0.1696 - accuracy: 0.95 - ETA: 0s - loss: 0.1598 - accuracy: 0.95 - ETA: 0s - loss: 0.1788 - accuracy: 0.94 - ETA: 0s - loss: 0.1686 - accuracy: 0.94 - ETA: 0s - loss: 0.1860 - accuracy: 0.94 - ETA: 0s - loss: 0.1875 - accuracy: 0.94 - ETA: 0s - loss: 0.1901 - accuracy: 0.94 - 1s 821us/sample - loss: 0.1814 - accuracy: 0.9452\n",
      "Epoch 24/30\n",
      "785/785 [==============================] - ETA: 0s - loss: 0.2137 - accuracy: 0.87 - ETA: 0s - loss: 0.1743 - accuracy: 0.92 - ETA: 0s - loss: 0.1883 - accuracy: 0.92 - ETA: 0s - loss: 0.1733 - accuracy: 0.93 - ETA: 0s - loss: 0.1876 - accuracy: 0.92 - ETA: 0s - loss: 0.1825 - accuracy: 0.92 - ETA: 0s - loss: 0.1818 - accuracy: 0.92 - ETA: 0s - loss: 0.1740 - accuracy: 0.93 - ETA: 0s - loss: 0.1793 - accuracy: 0.93 - 1s 767us/sample - loss: 0.1791 - accuracy: 0.9338\n",
      "Epoch 25/30\n",
      "785/785 [==============================] - ETA: 0s - loss: 0.0458 - accuracy: 1.00 - ETA: 0s - loss: 0.1470 - accuracy: 0.94 - ETA: 0s - loss: 0.1672 - accuracy: 0.95 - ETA: 0s - loss: 0.1820 - accuracy: 0.94 - ETA: 0s - loss: 0.1955 - accuracy: 0.93 - ETA: 0s - loss: 0.1851 - accuracy: 0.93 - ETA: 0s - loss: 0.1796 - accuracy: 0.94 - ETA: 0s - loss: 0.1750 - accuracy: 0.94 - ETA: 0s - loss: 0.1729 - accuracy: 0.94 - 1s 736us/sample - loss: 0.1721 - accuracy: 0.9439\n",
      "Epoch 26/30\n",
      "785/785 [==============================] - ETA: 1s - loss: 0.1261 - accuracy: 0.96 - ETA: 1s - loss: 0.1469 - accuracy: 0.95 - ETA: 0s - loss: 0.1730 - accuracy: 0.95 - ETA: 0s - loss: 0.1486 - accuracy: 0.95 - ETA: 0s - loss: 0.1559 - accuracy: 0.94 - ETA: 0s - loss: 0.1743 - accuracy: 0.93 - ETA: 0s - loss: 0.1644 - accuracy: 0.94 - ETA: 0s - loss: 0.1743 - accuracy: 0.93 - ETA: 0s - loss: 0.1704 - accuracy: 0.93 - ETA: 0s - loss: 0.1773 - accuracy: 0.93 - ETA: 0s - loss: 0.1792 - accuracy: 0.94 - ETA: 0s - loss: 0.1815 - accuracy: 0.93 - 1s 1ms/sample - loss: 0.1857 - accuracy: 0.9338\n",
      "Epoch 27/30\n",
      "785/785 [==============================] - ETA: 0s - loss: 0.2363 - accuracy: 0.90 - ETA: 0s - loss: 0.2166 - accuracy: 0.91 - ETA: 0s - loss: 0.2192 - accuracy: 0.91 - ETA: 0s - loss: 0.2180 - accuracy: 0.92 - ETA: 0s - loss: 0.1994 - accuracy: 0.92 - ETA: 0s - loss: 0.1935 - accuracy: 0.92 - ETA: 0s - loss: 0.1909 - accuracy: 0.93 - ETA: 0s - loss: 0.1842 - accuracy: 0.94 - 1s 746us/sample - loss: 0.1764 - accuracy: 0.9439\n",
      "Epoch 28/30\n",
      "785/785 [==============================] - ETA: 0s - loss: 0.0969 - accuracy: 0.96 - ETA: 0s - loss: 0.1940 - accuracy: 0.95 - ETA: 0s - loss: 0.1894 - accuracy: 0.93 - ETA: 0s - loss: 0.1649 - accuracy: 0.94 - ETA: 0s - loss: 0.1541 - accuracy: 0.94 - ETA: 0s - loss: 0.1540 - accuracy: 0.93 - ETA: 0s - loss: 0.1532 - accuracy: 0.94 - ETA: 0s - loss: 0.1509 - accuracy: 0.94 - ETA: 0s - loss: 0.1550 - accuracy: 0.94 - ETA: 0s - loss: 0.1525 - accuracy: 0.94 - 1s 772us/sample - loss: 0.1512 - accuracy: 0.9439\n",
      "Epoch 29/30\n",
      "785/785 [==============================] - ETA: 0s - loss: 0.1241 - accuracy: 0.93 - ETA: 0s - loss: 0.1597 - accuracy: 0.91 - ETA: 0s - loss: 0.1516 - accuracy: 0.92 - ETA: 0s - loss: 0.1608 - accuracy: 0.92 - ETA: 0s - loss: 0.1635 - accuracy: 0.93 - ETA: 0s - loss: 0.1569 - accuracy: 0.94 - ETA: 0s - loss: 0.1595 - accuracy: 0.94 - ETA: 0s - loss: 0.1487 - accuracy: 0.94 - ETA: 0s - loss: 0.1493 - accuracy: 0.94 - ETA: 0s - loss: 0.1558 - accuracy: 0.93 - 1s 762us/sample - loss: 0.1549 - accuracy: 0.9389\n",
      "Epoch 30/30\n",
      "785/785 [==============================] - ETA: 0s - loss: 0.1683 - accuracy: 0.90 - ETA: 0s - loss: 0.1012 - accuracy: 0.96 - ETA: 0s - loss: 0.1013 - accuracy: 0.96 - ETA: 0s - loss: 0.1300 - accuracy: 0.96 - ETA: 0s - loss: 0.1188 - accuracy: 0.96 - ETA: 0s - loss: 0.1238 - accuracy: 0.96 - ETA: 0s - loss: 0.1320 - accuracy: 0.96 - ETA: 0s - loss: 0.1259 - accuracy: 0.96 - ETA: 0s - loss: 0.1225 - accuracy: 0.96 - 1s 747us/sample - loss: 0.1241 - accuracy: 0.9618\n",
      "196/196 [==============================] - ETA: 0s - loss: 0.1376 - accuracy: 0.96 - 0s 655us/sample - loss: 0.0828 - accuracy: 0.9847\n",
      "Train on 785 samples\n",
      "Epoch 1/30\n"
     ]
    },
    {
     "name": "stdout",
     "output_type": "stream",
     "text": [
      "785/785 [==============================] - ETA: 10s - loss: 1.9246 - accuracy: 0.156 - ETA: 3s - loss: 1.8702 - accuracy: 0.156 - ETA: 2s - loss: 1.8361 - accuracy: 0.16 - ETA: 1s - loss: 1.8728 - accuracy: 0.19 - ETA: 0s - loss: 1.8542 - accuracy: 0.20 - ETA: 0s - loss: 1.8505 - accuracy: 0.21 - ETA: 0s - loss: 1.8349 - accuracy: 0.23 - ETA: 0s - loss: 1.8289 - accuracy: 0.23 - ETA: 0s - loss: 1.8090 - accuracy: 0.25 - ETA: 0s - loss: 1.8088 - accuracy: 0.25 - 1s 1ms/sample - loss: 1.8029 - accuracy: 0.2637\n",
      "Epoch 2/30\n",
      "785/785 [==============================] - ETA: 0s - loss: 1.7643 - accuracy: 0.34 - ETA: 0s - loss: 1.7272 - accuracy: 0.32 - ETA: 0s - loss: 1.7548 - accuracy: 0.28 - ETA: 0s - loss: 1.7163 - accuracy: 0.30 - ETA: 0s - loss: 1.6993 - accuracy: 0.33 - ETA: 0s - loss: 1.7121 - accuracy: 0.35 - ETA: 0s - loss: 1.7135 - accuracy: 0.36 - ETA: 0s - loss: 1.7053 - accuracy: 0.35 - ETA: 0s - loss: 1.6920 - accuracy: 0.35 - ETA: 0s - loss: 1.6880 - accuracy: 0.36 - 1s 775us/sample - loss: 1.6847 - accuracy: 0.3694\n",
      "Epoch 3/30\n",
      "785/785 [==============================] - ETA: 0s - loss: 1.7138 - accuracy: 0.37 - ETA: 0s - loss: 1.5060 - accuracy: 0.48 - ETA: 0s - loss: 1.5000 - accuracy: 0.48 - ETA: 0s - loss: 1.5135 - accuracy: 0.48 - ETA: 0s - loss: 1.4930 - accuracy: 0.50 - ETA: 0s - loss: 1.4750 - accuracy: 0.52 - ETA: 0s - loss: 1.4612 - accuracy: 0.52 - ETA: 0s - loss: 1.4551 - accuracy: 0.51 - ETA: 0s - loss: 1.4372 - accuracy: 0.52 - ETA: 0s - loss: 1.4240 - accuracy: 0.52 - 1s 800us/sample - loss: 1.4248 - accuracy: 0.5248\n",
      "Epoch 4/30\n",
      "785/785 [==============================] - ETA: 0s - loss: 1.1305 - accuracy: 0.56 - ETA: 0s - loss: 1.2080 - accuracy: 0.56 - ETA: 0s - loss: 1.2134 - accuracy: 0.58 - ETA: 0s - loss: 1.2172 - accuracy: 0.57 - ETA: 0s - loss: 1.2184 - accuracy: 0.56 - ETA: 0s - loss: 1.1744 - accuracy: 0.57 - ETA: 0s - loss: 1.1805 - accuracy: 0.57 - ETA: 0s - loss: 1.2039 - accuracy: 0.56 - ETA: 0s - loss: 1.1777 - accuracy: 0.58 - ETA: 0s - loss: 1.1692 - accuracy: 0.58 - 1s 783us/sample - loss: 1.1612 - accuracy: 0.5924\n",
      "Epoch 5/30\n",
      "785/785 [==============================] - ETA: 0s - loss: 0.9718 - accuracy: 0.62 - ETA: 0s - loss: 1.0073 - accuracy: 0.63 - ETA: 0s - loss: 1.0622 - accuracy: 0.61 - ETA: 0s - loss: 1.0272 - accuracy: 0.61 - ETA: 0s - loss: 0.9979 - accuracy: 0.62 - ETA: 0s - loss: 0.9973 - accuracy: 0.62 - ETA: 0s - loss: 0.9922 - accuracy: 0.63 - ETA: 0s - loss: 0.9884 - accuracy: 0.63 - ETA: 0s - loss: 0.9852 - accuracy: 0.63 - ETA: 0s - loss: 0.9635 - accuracy: 0.64 - ETA: 0s - loss: 0.9477 - accuracy: 0.65 - 1s 806us/sample - loss: 0.9425 - accuracy: 0.6586\n",
      "Epoch 6/30\n",
      "785/785 [==============================] - ETA: 0s - loss: 0.8667 - accuracy: 0.65 - ETA: 0s - loss: 0.8938 - accuracy: 0.69 - ETA: 0s - loss: 0.9227 - accuracy: 0.69 - ETA: 0s - loss: 0.8700 - accuracy: 0.69 - ETA: 0s - loss: 0.8909 - accuracy: 0.69 - ETA: 0s - loss: 0.8864 - accuracy: 0.68 - ETA: 0s - loss: 0.8465 - accuracy: 0.70 - ETA: 0s - loss: 0.8175 - accuracy: 0.72 - ETA: 0s - loss: 0.8121 - accuracy: 0.71 - ETA: 0s - loss: 0.8116 - accuracy: 0.71 - 1s 781us/sample - loss: 0.8043 - accuracy: 0.7210\n",
      "Epoch 7/30\n",
      "785/785 [==============================] - ETA: 0s - loss: 0.7256 - accuracy: 0.71 - ETA: 0s - loss: 0.6773 - accuracy: 0.78 - ETA: 0s - loss: 0.6319 - accuracy: 0.81 - ETA: 0s - loss: 0.6423 - accuracy: 0.79 - ETA: 0s - loss: 0.6730 - accuracy: 0.77 - ETA: 0s - loss: 0.6676 - accuracy: 0.77 - ETA: 0s - loss: 0.6906 - accuracy: 0.76 - ETA: 0s - loss: 0.6825 - accuracy: 0.76 - ETA: 0s - loss: 0.6699 - accuracy: 0.77 - 1s 760us/sample - loss: 0.6593 - accuracy: 0.7771\n",
      "Epoch 8/30\n",
      "785/785 [==============================] - ETA: 0s - loss: 0.4641 - accuracy: 0.81 - ETA: 0s - loss: 0.6028 - accuracy: 0.77 - ETA: 0s - loss: 0.6866 - accuracy: 0.74 - ETA: 0s - loss: 0.6278 - accuracy: 0.79 - ETA: 0s - loss: 0.6087 - accuracy: 0.79 - ETA: 0s - loss: 0.5979 - accuracy: 0.79 - ETA: 0s - loss: 0.5959 - accuracy: 0.78 - ETA: 0s - loss: 0.5807 - accuracy: 0.80 - ETA: 0s - loss: 0.5612 - accuracy: 0.81 - ETA: 0s - loss: 0.5595 - accuracy: 0.81 - 1s 767us/sample - loss: 0.5566 - accuracy: 0.8166\n",
      "Epoch 9/30\n",
      "785/785 [==============================] - ETA: 0s - loss: 0.4421 - accuracy: 0.84 - ETA: 0s - loss: 0.6231 - accuracy: 0.80 - ETA: 0s - loss: 0.5931 - accuracy: 0.81 - ETA: 0s - loss: 0.5942 - accuracy: 0.80 - ETA: 0s - loss: 0.5467 - accuracy: 0.82 - ETA: 0s - loss: 0.5131 - accuracy: 0.84 - ETA: 0s - loss: 0.5135 - accuracy: 0.84 - ETA: 0s - loss: 0.5046 - accuracy: 0.84 - ETA: 0s - loss: 0.5015 - accuracy: 0.84 - ETA: 0s - loss: 0.5124 - accuracy: 0.84 - 1s 785us/sample - loss: 0.5050 - accuracy: 0.8420\n",
      "Epoch 10/30\n",
      "785/785 [==============================] - ETA: 0s - loss: 0.4687 - accuracy: 0.87 - ETA: 0s - loss: 0.5083 - accuracy: 0.83 - ETA: 0s - loss: 0.4641 - accuracy: 0.86 - ETA: 0s - loss: 0.4615 - accuracy: 0.86 - ETA: 0s - loss: 0.4501 - accuracy: 0.86 - ETA: 0s - loss: 0.4600 - accuracy: 0.85 - ETA: 0s - loss: 0.4496 - accuracy: 0.85 - ETA: 0s - loss: 0.4636 - accuracy: 0.84 - ETA: 0s - loss: 0.4518 - accuracy: 0.84 - ETA: 0s - loss: 0.4505 - accuracy: 0.84 - 1s 793us/sample - loss: 0.4464 - accuracy: 0.8497\n",
      "Epoch 11/30\n",
      "785/785 [==============================] - ETA: 0s - loss: 0.4250 - accuracy: 0.84 - ETA: 0s - loss: 0.4539 - accuracy: 0.83 - ETA: 0s - loss: 0.4155 - accuracy: 0.85 - ETA: 0s - loss: 0.4038 - accuracy: 0.86 - ETA: 0s - loss: 0.3783 - accuracy: 0.87 - ETA: 0s - loss: 0.4078 - accuracy: 0.86 - ETA: 0s - loss: 0.4106 - accuracy: 0.86 - ETA: 0s - loss: 0.4237 - accuracy: 0.85 - ETA: 0s - loss: 0.4241 - accuracy: 0.86 - ETA: 0s - loss: 0.4142 - accuracy: 0.86 - 1s 807us/sample - loss: 0.4040 - accuracy: 0.8701\n",
      "Epoch 12/30\n",
      "785/785 [==============================] - ETA: 0s - loss: 0.3185 - accuracy: 0.84 - ETA: 0s - loss: 0.4052 - accuracy: 0.82 - ETA: 0s - loss: 0.3754 - accuracy: 0.84 - ETA: 0s - loss: 0.3693 - accuracy: 0.85 - ETA: 0s - loss: 0.3523 - accuracy: 0.87 - ETA: 0s - loss: 0.3408 - accuracy: 0.88 - ETA: 0s - loss: 0.3423 - accuracy: 0.88 - ETA: 0s - loss: 0.3444 - accuracy: 0.88 - ETA: 0s - loss: 0.3481 - accuracy: 0.88 - ETA: 0s - loss: 0.3508 - accuracy: 0.87 - 1s 789us/sample - loss: 0.3500 - accuracy: 0.8790\n",
      "Epoch 13/30\n",
      "785/785 [==============================] - ETA: 0s - loss: 0.4755 - accuracy: 0.84 - ETA: 0s - loss: 0.3901 - accuracy: 0.86 - ETA: 0s - loss: 0.3943 - accuracy: 0.86 - ETA: 0s - loss: 0.3836 - accuracy: 0.87 - ETA: 0s - loss: 0.3668 - accuracy: 0.87 - ETA: 0s - loss: 0.3608 - accuracy: 0.87 - ETA: 0s - loss: 0.3656 - accuracy: 0.87 - ETA: 0s - loss: 0.3491 - accuracy: 0.88 - ETA: 0s - loss: 0.3361 - accuracy: 0.89 - ETA: 0s - loss: 0.3277 - accuracy: 0.90 - 1s 787us/sample - loss: 0.3241 - accuracy: 0.8994\n",
      "Epoch 14/30\n",
      "785/785 [==============================] - ETA: 0s - loss: 0.3375 - accuracy: 0.87 - ETA: 0s - loss: 0.2727 - accuracy: 0.91 - ETA: 0s - loss: 0.2970 - accuracy: 0.91 - ETA: 0s - loss: 0.2899 - accuracy: 0.91 - ETA: 0s - loss: 0.2936 - accuracy: 0.90 - ETA: 0s - loss: 0.2919 - accuracy: 0.90 - ETA: 0s - loss: 0.2769 - accuracy: 0.91 - ETA: 0s - loss: 0.2767 - accuracy: 0.90 - ETA: 0s - loss: 0.2730 - accuracy: 0.90 - ETA: 0s - loss: 0.2729 - accuracy: 0.91 - 1s 778us/sample - loss: 0.2752 - accuracy: 0.9108\n",
      "Epoch 15/30\n",
      "785/785 [==============================] - ETA: 0s - loss: 0.2917 - accuracy: 0.90 - ETA: 0s - loss: 0.2849 - accuracy: 0.90 - ETA: 0s - loss: 0.2909 - accuracy: 0.90 - ETA: 0s - loss: 0.2948 - accuracy: 0.89 - ETA: 0s - loss: 0.2751 - accuracy: 0.90 - ETA: 0s - loss: 0.2664 - accuracy: 0.90 - ETA: 0s - loss: 0.2787 - accuracy: 0.90 - ETA: 0s - loss: 0.2645 - accuracy: 0.90 - ETA: 0s - loss: 0.2697 - accuracy: 0.90 - ETA: 0s - loss: 0.2738 - accuracy: 0.90 - 1s 791us/sample - loss: 0.2782 - accuracy: 0.9006\n",
      "Epoch 16/30\n"
     ]
    },
    {
     "name": "stdout",
     "output_type": "stream",
     "text": [
      "785/785 [==============================] - ETA: 0s - loss: 0.2179 - accuracy: 0.90 - ETA: 0s - loss: 0.1957 - accuracy: 0.92 - ETA: 0s - loss: 0.2138 - accuracy: 0.91 - ETA: 0s - loss: 0.2161 - accuracy: 0.91 - ETA: 0s - loss: 0.2200 - accuracy: 0.91 - ETA: 0s - loss: 0.2317 - accuracy: 0.91 - ETA: 0s - loss: 0.2370 - accuracy: 0.91 - ETA: 0s - loss: 0.2297 - accuracy: 0.91 - ETA: 0s - loss: 0.2281 - accuracy: 0.91 - ETA: 0s - loss: 0.2278 - accuracy: 0.92 - 1s 771us/sample - loss: 0.2359 - accuracy: 0.9159\n",
      "Epoch 17/30\n",
      "785/785 [==============================] - ETA: 0s - loss: 0.1520 - accuracy: 0.96 - ETA: 0s - loss: 0.1622 - accuracy: 0.98 - ETA: 0s - loss: 0.1745 - accuracy: 0.95 - ETA: 0s - loss: 0.2082 - accuracy: 0.93 - ETA: 0s - loss: 0.2243 - accuracy: 0.92 - ETA: 0s - loss: 0.2333 - accuracy: 0.92 - ETA: 0s - loss: 0.2206 - accuracy: 0.93 - ETA: 0s - loss: 0.2158 - accuracy: 0.93 - ETA: 0s - loss: 0.2085 - accuracy: 0.93 - 1s 760us/sample - loss: 0.2164 - accuracy: 0.9312\n",
      "Epoch 18/30\n",
      "785/785 [==============================] - ETA: 0s - loss: 0.2644 - accuracy: 0.90 - ETA: 0s - loss: 0.2623 - accuracy: 0.92 - ETA: 0s - loss: 0.2261 - accuracy: 0.93 - ETA: 0s - loss: 0.2150 - accuracy: 0.94 - ETA: 0s - loss: 0.2125 - accuracy: 0.94 - ETA: 0s - loss: 0.2186 - accuracy: 0.93 - ETA: 0s - loss: 0.2133 - accuracy: 0.93 - ETA: 0s - loss: 0.2070 - accuracy: 0.93 - ETA: 0s - loss: 0.2058 - accuracy: 0.93 - 1s 764us/sample - loss: 0.2148 - accuracy: 0.9287\n",
      "Epoch 19/30\n",
      "785/785 [==============================] - ETA: 0s - loss: 0.1055 - accuracy: 0.96 - ETA: 0s - loss: 0.1666 - accuracy: 0.94 - ETA: 0s - loss: 0.1721 - accuracy: 0.93 - ETA: 0s - loss: 0.1829 - accuracy: 0.92 - ETA: 0s - loss: 0.1834 - accuracy: 0.93 - ETA: 0s - loss: 0.1950 - accuracy: 0.93 - ETA: 0s - loss: 0.1909 - accuracy: 0.93 - ETA: 0s - loss: 0.1811 - accuracy: 0.94 - ETA: 0s - loss: 0.1850 - accuracy: 0.94 - 1s 761us/sample - loss: 0.1840 - accuracy: 0.9427\n",
      "Epoch 20/30\n",
      "785/785 [==============================] - ETA: 0s - loss: 0.2275 - accuracy: 0.90 - ETA: 0s - loss: 0.1615 - accuracy: 0.95 - ETA: 0s - loss: 0.1543 - accuracy: 0.95 - ETA: 0s - loss: 0.2051 - accuracy: 0.92 - ETA: 0s - loss: 0.1941 - accuracy: 0.93 - ETA: 0s - loss: 0.1842 - accuracy: 0.93 - ETA: 0s - loss: 0.1809 - accuracy: 0.93 - ETA: 0s - loss: 0.1931 - accuracy: 0.93 - ETA: 0s - loss: 0.1915 - accuracy: 0.93 - ETA: 0s - loss: 0.1924 - accuracy: 0.93 - 1s 793us/sample - loss: 0.1918 - accuracy: 0.9325\n",
      "Epoch 21/30\n",
      "785/785 [==============================] - ETA: 0s - loss: 0.2298 - accuracy: 0.93 - ETA: 0s - loss: 0.1646 - accuracy: 0.94 - ETA: 0s - loss: 0.1796 - accuracy: 0.94 - ETA: 0s - loss: 0.1738 - accuracy: 0.94 - ETA: 0s - loss: 0.1873 - accuracy: 0.93 - ETA: 0s - loss: 0.1749 - accuracy: 0.93 - ETA: 0s - loss: 0.1737 - accuracy: 0.94 - ETA: 0s - loss: 0.1748 - accuracy: 0.94 - ETA: 0s - loss: 0.1785 - accuracy: 0.94 - ETA: 0s - loss: 0.1686 - accuracy: 0.94 - 1s 782us/sample - loss: 0.1759 - accuracy: 0.9414\n",
      "Epoch 22/30\n",
      "785/785 [==============================] - ETA: 0s - loss: 0.1551 - accuracy: 0.93 - ETA: 0s - loss: 0.1733 - accuracy: 0.94 - ETA: 0s - loss: 0.1795 - accuracy: 0.94 - ETA: 0s - loss: 0.1717 - accuracy: 0.94 - ETA: 0s - loss: 0.1706 - accuracy: 0.94 - ETA: 0s - loss: 0.1689 - accuracy: 0.94 - ETA: 0s - loss: 0.1652 - accuracy: 0.94 - ETA: 0s - loss: 0.1672 - accuracy: 0.94 - ETA: 0s - loss: 0.1643 - accuracy: 0.94 - ETA: 0s - loss: 0.1627 - accuracy: 0.94 - 1s 758us/sample - loss: 0.1627 - accuracy: 0.9490\n",
      "Epoch 23/30\n",
      "785/785 [==============================] - ETA: 0s - loss: 0.1191 - accuracy: 0.93 - ETA: 0s - loss: 0.1805 - accuracy: 0.94 - ETA: 0s - loss: 0.1585 - accuracy: 0.95 - ETA: 0s - loss: 0.1735 - accuracy: 0.94 - ETA: 0s - loss: 0.1699 - accuracy: 0.94 - ETA: 0s - loss: 0.1591 - accuracy: 0.95 - ETA: 0s - loss: 0.1468 - accuracy: 0.95 - ETA: 0s - loss: 0.1439 - accuracy: 0.95 - ETA: 0s - loss: 0.1491 - accuracy: 0.95 - 1s 755us/sample - loss: 0.1482 - accuracy: 0.9541\n",
      "Epoch 24/30\n",
      "785/785 [==============================] - ETA: 0s - loss: 0.1046 - accuracy: 0.96 - ETA: 0s - loss: 0.1187 - accuracy: 0.95 - ETA: 0s - loss: 0.1155 - accuracy: 0.95 - ETA: 0s - loss: 0.1079 - accuracy: 0.96 - ETA: 0s - loss: 0.1154 - accuracy: 0.95 - ETA: 0s - loss: 0.1105 - accuracy: 0.95 - ETA: 0s - loss: 0.1082 - accuracy: 0.96 - ETA: 0s - loss: 0.1100 - accuracy: 0.96 - ETA: 0s - loss: 0.1103 - accuracy: 0.96 - ETA: 0s - loss: 0.1095 - accuracy: 0.96 - 1s 780us/sample - loss: 0.1116 - accuracy: 0.9631\n",
      "Epoch 25/30\n",
      "785/785 [==============================] - ETA: 0s - loss: 0.0927 - accuracy: 0.96 - ETA: 0s - loss: 0.1215 - accuracy: 0.95 - ETA: 0s - loss: 0.1222 - accuracy: 0.95 - ETA: 0s - loss: 0.1134 - accuracy: 0.95 - ETA: 0s - loss: 0.1217 - accuracy: 0.95 - ETA: 0s - loss: 0.1147 - accuracy: 0.96 - ETA: 0s - loss: 0.1175 - accuracy: 0.96 - ETA: 0s - loss: 0.1289 - accuracy: 0.96 - ETA: 0s - loss: 0.1287 - accuracy: 0.96 - ETA: 0s - loss: 0.1215 - accuracy: 0.96 - 1s 788us/sample - loss: 0.1191 - accuracy: 0.9656\n",
      "Epoch 26/30\n",
      "785/785 [==============================] - ETA: 0s - loss: 0.1000 - accuracy: 1.00 - ETA: 0s - loss: 0.0949 - accuracy: 0.96 - ETA: 0s - loss: 0.1234 - accuracy: 0.95 - ETA: 0s - loss: 0.1282 - accuracy: 0.95 - ETA: 0s - loss: 0.1226 - accuracy: 0.95 - ETA: 0s - loss: 0.1296 - accuracy: 0.95 - ETA: 0s - loss: 0.1229 - accuracy: 0.95 - ETA: 0s - loss: 0.1184 - accuracy: 0.95 - ETA: 0s - loss: 0.1149 - accuracy: 0.96 - 1s 777us/sample - loss: 0.1131 - accuracy: 0.9631\n",
      "Epoch 27/30\n",
      "785/785 [==============================] - ETA: 0s - loss: 0.1834 - accuracy: 0.96 - ETA: 0s - loss: 0.1460 - accuracy: 0.96 - ETA: 0s - loss: 0.1201 - accuracy: 0.96 - ETA: 0s - loss: 0.1036 - accuracy: 0.97 - ETA: 0s - loss: 0.1117 - accuracy: 0.96 - ETA: 0s - loss: 0.1184 - accuracy: 0.96 - ETA: 0s - loss: 0.1248 - accuracy: 0.95 - ETA: 0s - loss: 0.1227 - accuracy: 0.96 - ETA: 0s - loss: 0.1199 - accuracy: 0.96 - ETA: 0s - loss: 0.1315 - accuracy: 0.95 - 1s 813us/sample - loss: 0.1292 - accuracy: 0.9541\n",
      "Epoch 28/30\n",
      "785/785 [==============================] - ETA: 0s - loss: 0.1463 - accuracy: 0.93 - ETA: 0s - loss: 0.0900 - accuracy: 0.96 - ETA: 0s - loss: 0.0953 - accuracy: 0.96 - ETA: 0s - loss: 0.1108 - accuracy: 0.95 - ETA: 0s - loss: 0.0978 - accuracy: 0.96 - ETA: 0s - loss: 0.0943 - accuracy: 0.96 - ETA: 0s - loss: 0.1157 - accuracy: 0.95 - ETA: 0s - loss: 0.1343 - accuracy: 0.95 - ETA: 0s - loss: 0.1278 - accuracy: 0.95 - ETA: 0s - loss: 0.1257 - accuracy: 0.95 - 1s 802us/sample - loss: 0.1277 - accuracy: 0.9541\n",
      "Epoch 29/30\n",
      "785/785 [==============================] - ETA: 0s - loss: 0.1394 - accuracy: 0.96 - ETA: 0s - loss: 0.1615 - accuracy: 0.95 - ETA: 0s - loss: 0.1457 - accuracy: 0.95 - ETA: 0s - loss: 0.1598 - accuracy: 0.94 - ETA: 0s - loss: 0.1459 - accuracy: 0.95 - ETA: 0s - loss: 0.1324 - accuracy: 0.95 - ETA: 0s - loss: 0.1267 - accuracy: 0.96 - ETA: 0s - loss: 0.1339 - accuracy: 0.95 - ETA: 0s - loss: 0.1356 - accuracy: 0.95 - ETA: 0s - loss: 0.1300 - accuracy: 0.95 - 1s 791us/sample - loss: 0.1264 - accuracy: 0.9580\n",
      "Epoch 30/30\n",
      "785/785 [==============================] - ETA: 0s - loss: 0.0871 - accuracy: 1.00 - ETA: 0s - loss: 0.0835 - accuracy: 0.98 - ETA: 0s - loss: 0.0967 - accuracy: 0.96 - ETA: 0s - loss: 0.0890 - accuracy: 0.96 - ETA: 0s - loss: 0.0963 - accuracy: 0.96 - ETA: 0s - loss: 0.1097 - accuracy: 0.96 - ETA: 0s - loss: 0.1142 - accuracy: 0.95 - ETA: 0s - loss: 0.1074 - accuracy: 0.96 - ETA: 0s - loss: 0.1070 - accuracy: 0.96 - ETA: 0s - loss: 0.1181 - accuracy: 0.95 - ETA: 0s - loss: 0.1136 - accuracy: 0.96 - ETA: 0s - loss: 0.1112 - accuracy: 0.96 - 1s 978us/sample - loss: 0.1111 - accuracy: 0.9618\n",
      "196/196 [==============================] - ETA: 0s - loss: 0.0397 - accuracy: 1.00 - 0s 775us/sample - loss: 0.0481 - accuracy: 0.9847\n",
      "Train on 785 samples\n",
      "Epoch 1/30\n"
     ]
    },
    {
     "name": "stdout",
     "output_type": "stream",
     "text": [
      "785/785 [==============================] - ETA: 10s - loss: 1.9718 - accuracy: 0.031 - ETA: 3s - loss: 1.8924 - accuracy: 0.177 - ETA: 2s - loss: 1.9319 - accuracy: 0.16 - ETA: 1s - loss: 1.9172 - accuracy: 0.18 - ETA: 1s - loss: 1.8948 - accuracy: 0.20 - ETA: 0s - loss: 1.8768 - accuracy: 0.20 - ETA: 0s - loss: 1.8658 - accuracy: 0.21 - ETA: 0s - loss: 1.8593 - accuracy: 0.21 - ETA: 0s - loss: 1.8618 - accuracy: 0.21 - ETA: 0s - loss: 1.8421 - accuracy: 0.24 - 1s 1ms/sample - loss: 1.8399 - accuracy: 0.2561\n",
      "Epoch 2/30\n",
      "785/785 [==============================] - ETA: 0s - loss: 1.9582 - accuracy: 0.15 - ETA: 0s - loss: 1.8288 - accuracy: 0.25 - ETA: 0s - loss: 1.8093 - accuracy: 0.28 - ETA: 0s - loss: 1.8037 - accuracy: 0.29 - ETA: 0s - loss: 1.7744 - accuracy: 0.31 - ETA: 0s - loss: 1.7607 - accuracy: 0.30 - ETA: 0s - loss: 1.7556 - accuracy: 0.31 - ETA: 0s - loss: 1.7352 - accuracy: 0.34 - ETA: 0s - loss: 1.7269 - accuracy: 0.35 - ETA: 0s - loss: 1.7353 - accuracy: 0.35 - ETA: 0s - loss: 1.7274 - accuracy: 0.36 - 1s 855us/sample - loss: 1.7312 - accuracy: 0.3490\n",
      "Epoch 3/30\n",
      "785/785 [==============================] - ETA: 0s - loss: 1.7758 - accuracy: 0.31 - ETA: 0s - loss: 1.6789 - accuracy: 0.40 - ETA: 0s - loss: 1.6514 - accuracy: 0.43 - ETA: 0s - loss: 1.6329 - accuracy: 0.44 - ETA: 0s - loss: 1.6318 - accuracy: 0.45 - ETA: 0s - loss: 1.6096 - accuracy: 0.47 - ETA: 0s - loss: 1.5872 - accuracy: 0.47 - ETA: 0s - loss: 1.5622 - accuracy: 0.48 - ETA: 0s - loss: 1.5440 - accuracy: 0.48 - ETA: 0s - loss: 1.5081 - accuracy: 0.50 - ETA: 0s - loss: 1.4927 - accuracy: 0.50 - 1s 794us/sample - loss: 1.4946 - accuracy: 0.5032\n",
      "Epoch 4/30\n",
      "785/785 [==============================] - ETA: 0s - loss: 1.4818 - accuracy: 0.37 - ETA: 0s - loss: 1.3218 - accuracy: 0.53 - ETA: 0s - loss: 1.3140 - accuracy: 0.54 - ETA: 0s - loss: 1.3348 - accuracy: 0.51 - ETA: 0s - loss: 1.2780 - accuracy: 0.53 - ETA: 0s - loss: 1.2453 - accuracy: 0.55 - ETA: 0s - loss: 1.2288 - accuracy: 0.56 - ETA: 0s - loss: 1.2306 - accuracy: 0.56 - ETA: 0s - loss: 1.2258 - accuracy: 0.55 - ETA: 0s - loss: 1.2130 - accuracy: 0.57 - ETA: 0s - loss: 1.2132 - accuracy: 0.57 - 1s 822us/sample - loss: 1.2003 - accuracy: 0.5822\n",
      "Epoch 5/30\n",
      "785/785 [==============================] - ETA: 0s - loss: 1.0843 - accuracy: 0.53 - ETA: 0s - loss: 1.0246 - accuracy: 0.61 - ETA: 0s - loss: 1.0860 - accuracy: 0.58 - ETA: 0s - loss: 1.0815 - accuracy: 0.58 - ETA: 0s - loss: 1.0490 - accuracy: 0.60 - ETA: 0s - loss: 1.0386 - accuracy: 0.59 - ETA: 0s - loss: 1.0272 - accuracy: 0.61 - ETA: 0s - loss: 1.0337 - accuracy: 0.60 - ETA: 0s - loss: 1.0251 - accuracy: 0.61 - ETA: 0s - loss: 1.0222 - accuracy: 0.62 - ETA: 0s - loss: 1.0262 - accuracy: 0.62 - 1s 842us/sample - loss: 1.0185 - accuracy: 0.6293\n",
      "Epoch 6/30\n",
      "785/785 [==============================] - ETA: 0s - loss: 0.7897 - accuracy: 0.75 - ETA: 0s - loss: 0.8802 - accuracy: 0.71 - ETA: 0s - loss: 0.8478 - accuracy: 0.69 - ETA: 0s - loss: 0.8830 - accuracy: 0.66 - ETA: 0s - loss: 0.8946 - accuracy: 0.65 - ETA: 0s - loss: 0.9222 - accuracy: 0.64 - ETA: 0s - loss: 0.9015 - accuracy: 0.65 - ETA: 0s - loss: 0.9052 - accuracy: 0.65 - ETA: 0s - loss: 0.8744 - accuracy: 0.67 - ETA: 0s - loss: 0.8845 - accuracy: 0.67 - ETA: 0s - loss: 0.8805 - accuracy: 0.66 - ETA: 0s - loss: 0.8666 - accuracy: 0.67 - 1s 868us/sample - loss: 0.8686 - accuracy: 0.6675\n",
      "Epoch 7/30\n",
      "785/785 [==============================] - ETA: 0s - loss: 0.9000 - accuracy: 0.65 - ETA: 0s - loss: 0.9004 - accuracy: 0.65 - ETA: 0s - loss: 0.8495 - accuracy: 0.67 - ETA: 0s - loss: 0.8360 - accuracy: 0.69 - ETA: 0s - loss: 0.8428 - accuracy: 0.69 - ETA: 0s - loss: 0.8385 - accuracy: 0.69 - ETA: 0s - loss: 0.8069 - accuracy: 0.71 - ETA: 0s - loss: 0.7944 - accuracy: 0.71 - ETA: 0s - loss: 0.7753 - accuracy: 0.72 - ETA: 0s - loss: 0.7738 - accuracy: 0.72 - ETA: 0s - loss: 0.7747 - accuracy: 0.72 - 1s 815us/sample - loss: 0.7734 - accuracy: 0.7261\n",
      "Epoch 8/30\n",
      "785/785 [==============================] - ETA: 0s - loss: 0.9425 - accuracy: 0.62 - ETA: 0s - loss: 0.7107 - accuracy: 0.73 - ETA: 0s - loss: 0.6732 - accuracy: 0.76 - ETA: 0s - loss: 0.6976 - accuracy: 0.75 - ETA: 0s - loss: 0.6521 - accuracy: 0.77 - ETA: 0s - loss: 0.6355 - accuracy: 0.77 - ETA: 0s - loss: 0.6100 - accuracy: 0.78 - ETA: 0s - loss: 0.6181 - accuracy: 0.77 - ETA: 0s - loss: 0.6316 - accuracy: 0.76 - ETA: 0s - loss: 0.6347 - accuracy: 0.77 - ETA: 0s - loss: 0.6449 - accuracy: 0.76 - 1s 814us/sample - loss: 0.6513 - accuracy: 0.7605\n",
      "Epoch 9/30\n",
      "785/785 [==============================] - ETA: 0s - loss: 0.6091 - accuracy: 0.71 - ETA: 0s - loss: 0.6322 - accuracy: 0.75 - ETA: 0s - loss: 0.6524 - accuracy: 0.76 - ETA: 0s - loss: 0.6743 - accuracy: 0.75 - ETA: 0s - loss: 0.6442 - accuracy: 0.76 - ETA: 0s - loss: 0.6447 - accuracy: 0.77 - ETA: 0s - loss: 0.6595 - accuracy: 0.76 - ETA: 0s - loss: 0.6278 - accuracy: 0.77 - ETA: 0s - loss: 0.6129 - accuracy: 0.78 - ETA: 0s - loss: 0.6021 - accuracy: 0.79 - 1s 792us/sample - loss: 0.5954 - accuracy: 0.7949\n",
      "Epoch 10/30\n",
      "785/785 [==============================] - ETA: 0s - loss: 0.3443 - accuracy: 0.87 - ETA: 0s - loss: 0.4322 - accuracy: 0.85 - ETA: 0s - loss: 0.4666 - accuracy: 0.83 - ETA: 0s - loss: 0.4542 - accuracy: 0.84 - ETA: 0s - loss: 0.4632 - accuracy: 0.84 - ETA: 0s - loss: 0.4471 - accuracy: 0.85 - ETA: 0s - loss: 0.4716 - accuracy: 0.83 - ETA: 0s - loss: 0.4862 - accuracy: 0.83 - ETA: 0s - loss: 0.4932 - accuracy: 0.82 - ETA: 0s - loss: 0.4850 - accuracy: 0.82 - ETA: 0s - loss: 0.4786 - accuracy: 0.83 - 1s 792us/sample - loss: 0.4771 - accuracy: 0.8331\n",
      "Epoch 11/30\n",
      "785/785 [==============================] - ETA: 0s - loss: 0.5478 - accuracy: 0.75 - ETA: 0s - loss: 0.5496 - accuracy: 0.77 - ETA: 0s - loss: 0.5454 - accuracy: 0.79 - ETA: 0s - loss: 0.5078 - accuracy: 0.81 - ETA: 0s - loss: 0.4882 - accuracy: 0.83 - ETA: 0s - loss: 0.4750 - accuracy: 0.83 - ETA: 0s - loss: 0.4608 - accuracy: 0.84 - ETA: 0s - loss: 0.4539 - accuracy: 0.84 - ETA: 0s - loss: 0.4442 - accuracy: 0.84 - ETA: 0s - loss: 0.4359 - accuracy: 0.84 - 1s 801us/sample - loss: 0.4342 - accuracy: 0.8497\n",
      "Epoch 12/30\n",
      "785/785 [==============================] - ETA: 0s - loss: 0.5176 - accuracy: 0.84 - ETA: 0s - loss: 0.4867 - accuracy: 0.84 - ETA: 0s - loss: 0.5761 - accuracy: 0.81 - ETA: 0s - loss: 0.5116 - accuracy: 0.83 - ETA: 0s - loss: 0.4677 - accuracy: 0.83 - ETA: 0s - loss: 0.4348 - accuracy: 0.84 - ETA: 0s - loss: 0.4297 - accuracy: 0.85 - ETA: 0s - loss: 0.4171 - accuracy: 0.86 - ETA: 0s - loss: 0.4297 - accuracy: 0.85 - ETA: 0s - loss: 0.4207 - accuracy: 0.85 - ETA: 0s - loss: 0.4103 - accuracy: 0.86 - 1s 809us/sample - loss: 0.4148 - accuracy: 0.8611\n",
      "Epoch 13/30\n",
      "785/785 [==============================] - ETA: 0s - loss: 0.3025 - accuracy: 0.93 - ETA: 0s - loss: 0.3111 - accuracy: 0.90 - ETA: 0s - loss: 0.3803 - accuracy: 0.87 - ETA: 0s - loss: 0.3623 - accuracy: 0.87 - ETA: 0s - loss: 0.3514 - accuracy: 0.87 - ETA: 0s - loss: 0.3642 - accuracy: 0.86 - ETA: 0s - loss: 0.3613 - accuracy: 0.86 - ETA: 0s - loss: 0.3727 - accuracy: 0.86 - ETA: 0s - loss: 0.3646 - accuracy: 0.86 - ETA: 0s - loss: 0.3661 - accuracy: 0.87 - ETA: 0s - loss: 0.3678 - accuracy: 0.86 - 1s 840us/sample - loss: 0.3608 - accuracy: 0.8713\n",
      "Epoch 14/30\n",
      "785/785 [==============================] - ETA: 0s - loss: 0.3175 - accuracy: 0.90 - ETA: 0s - loss: 0.3480 - accuracy: 0.91 - ETA: 0s - loss: 0.3739 - accuracy: 0.89 - ETA: 0s - loss: 0.3458 - accuracy: 0.88 - ETA: 0s - loss: 0.3503 - accuracy: 0.87 - ETA: 0s - loss: 0.3324 - accuracy: 0.88 - ETA: 0s - loss: 0.3230 - accuracy: 0.88 - ETA: 0s - loss: 0.3059 - accuracy: 0.89 - ETA: 0s - loss: 0.3236 - accuracy: 0.88 - ETA: 0s - loss: 0.3359 - accuracy: 0.87 - ETA: 0s - loss: 0.3277 - accuracy: 0.88 - 1s 829us/sample - loss: 0.3197 - accuracy: 0.8866\n",
      "Epoch 15/30\n"
     ]
    },
    {
     "name": "stdout",
     "output_type": "stream",
     "text": [
      "785/785 [==============================] - ETA: 0s - loss: 0.2307 - accuracy: 0.90 - ETA: 0s - loss: 0.2970 - accuracy: 0.88 - ETA: 0s - loss: 0.3470 - accuracy: 0.87 - ETA: 0s - loss: 0.3550 - accuracy: 0.87 - ETA: 0s - loss: 0.3642 - accuracy: 0.86 - ETA: 0s - loss: 0.3493 - accuracy: 0.87 - ETA: 0s - loss: 0.3517 - accuracy: 0.87 - ETA: 0s - loss: 0.3512 - accuracy: 0.87 - ETA: 0s - loss: 0.3365 - accuracy: 0.88 - ETA: 0s - loss: 0.3347 - accuracy: 0.88 - ETA: 0s - loss: 0.3380 - accuracy: 0.88 - ETA: 0s - loss: 0.3230 - accuracy: 0.88 - 1s 815us/sample - loss: 0.3363 - accuracy: 0.8815\n",
      "Epoch 16/30\n",
      "785/785 [==============================] - ETA: 0s - loss: 0.2833 - accuracy: 0.90 - ETA: 0s - loss: 0.3237 - accuracy: 0.87 - ETA: 0s - loss: 0.3225 - accuracy: 0.88 - ETA: 0s - loss: 0.2983 - accuracy: 0.89 - ETA: 0s - loss: 0.2932 - accuracy: 0.90 - ETA: 0s - loss: 0.2979 - accuracy: 0.89 - ETA: 0s - loss: 0.2921 - accuracy: 0.89 - ETA: 0s - loss: 0.2881 - accuracy: 0.90 - ETA: 0s - loss: 0.2917 - accuracy: 0.89 - ETA: 0s - loss: 0.2831 - accuracy: 0.89 - ETA: 0s - loss: 0.2731 - accuracy: 0.90 - 1s 797us/sample - loss: 0.2703 - accuracy: 0.9045\n",
      "Epoch 17/30\n",
      "785/785 [==============================] - ETA: 0s - loss: 0.2318 - accuracy: 0.93 - ETA: 0s - loss: 0.2506 - accuracy: 0.90 - ETA: 0s - loss: 0.2565 - accuracy: 0.91 - ETA: 0s - loss: 0.2524 - accuracy: 0.91 - ETA: 0s - loss: 0.2422 - accuracy: 0.92 - ETA: 0s - loss: 0.2287 - accuracy: 0.93 - ETA: 0s - loss: 0.2170 - accuracy: 0.93 - ETA: 0s - loss: 0.2258 - accuracy: 0.92 - ETA: 0s - loss: 0.2339 - accuracy: 0.92 - ETA: 0s - loss: 0.2316 - accuracy: 0.92 - 1s 769us/sample - loss: 0.2372 - accuracy: 0.9236\n",
      "Epoch 18/30\n",
      "785/785 [==============================] - ETA: 0s - loss: 0.1384 - accuracy: 0.96 - ETA: 0s - loss: 0.2363 - accuracy: 0.89 - ETA: 0s - loss: 0.2350 - accuracy: 0.90 - ETA: 0s - loss: 0.2269 - accuracy: 0.89 - ETA: 0s - loss: 0.2520 - accuracy: 0.89 - ETA: 0s - loss: 0.2417 - accuracy: 0.89 - ETA: 0s - loss: 0.2554 - accuracy: 0.89 - ETA: 0s - loss: 0.2480 - accuracy: 0.90 - ETA: 0s - loss: 0.2377 - accuracy: 0.90 - ETA: 0s - loss: 0.2443 - accuracy: 0.90 - 1s 792us/sample - loss: 0.2399 - accuracy: 0.9045\n",
      "Epoch 19/30\n",
      "785/785 [==============================] - ETA: 0s - loss: 0.3165 - accuracy: 0.87 - ETA: 0s - loss: 0.3547 - accuracy: 0.87 - ETA: 0s - loss: 0.2938 - accuracy: 0.89 - ETA: 0s - loss: 0.2587 - accuracy: 0.90 - ETA: 0s - loss: 0.2395 - accuracy: 0.91 - ETA: 0s - loss: 0.2348 - accuracy: 0.91 - ETA: 0s - loss: 0.2368 - accuracy: 0.91 - ETA: 0s - loss: 0.2392 - accuracy: 0.91 - ETA: 0s - loss: 0.2324 - accuracy: 0.91 - ETA: 0s - loss: 0.2240 - accuracy: 0.92 - 1s 774us/sample - loss: 0.2243 - accuracy: 0.9210\n",
      "Epoch 20/30\n",
      "785/785 [==============================] - ETA: 0s - loss: 0.1310 - accuracy: 0.96 - ETA: 0s - loss: 0.2297 - accuracy: 0.92 - ETA: 0s - loss: 0.2531 - accuracy: 0.91 - ETA: 0s - loss: 0.2294 - accuracy: 0.92 - ETA: 0s - loss: 0.2089 - accuracy: 0.94 - ETA: 0s - loss: 0.2105 - accuracy: 0.93 - ETA: 0s - loss: 0.2214 - accuracy: 0.92 - ETA: 0s - loss: 0.2199 - accuracy: 0.92 - ETA: 0s - loss: 0.2209 - accuracy: 0.92 - ETA: 0s - loss: 0.2254 - accuracy: 0.92 - ETA: 0s - loss: 0.2359 - accuracy: 0.92 - 1s 789us/sample - loss: 0.2334 - accuracy: 0.9261\n",
      "Epoch 21/30\n",
      "785/785 [==============================] - ETA: 0s - loss: 0.1420 - accuracy: 0.96 - ETA: 0s - loss: 0.1810 - accuracy: 0.91 - ETA: 0s - loss: 0.1971 - accuracy: 0.92 - ETA: 0s - loss: 0.2258 - accuracy: 0.91 - ETA: 0s - loss: 0.2109 - accuracy: 0.92 - ETA: 0s - loss: 0.2228 - accuracy: 0.91 - ETA: 0s - loss: 0.2280 - accuracy: 0.91 - ETA: 0s - loss: 0.2167 - accuracy: 0.92 - ETA: 0s - loss: 0.2170 - accuracy: 0.92 - ETA: 0s - loss: 0.2332 - accuracy: 0.91 - ETA: 0s - loss: 0.2331 - accuracy: 0.91 - 1s 795us/sample - loss: 0.2372 - accuracy: 0.9172\n",
      "Epoch 22/30\n",
      "785/785 [==============================] - ETA: 0s - loss: 0.2155 - accuracy: 0.96 - ETA: 0s - loss: 0.2309 - accuracy: 0.94 - ETA: 0s - loss: 0.1930 - accuracy: 0.92 - ETA: 0s - loss: 0.1851 - accuracy: 0.92 - ETA: 0s - loss: 0.1753 - accuracy: 0.94 - ETA: 0s - loss: 0.1869 - accuracy: 0.93 - ETA: 0s - loss: 0.1919 - accuracy: 0.92 - ETA: 0s - loss: 0.1929 - accuracy: 0.92 - ETA: 0s - loss: 0.1866 - accuracy: 0.93 - ETA: 0s - loss: 0.1895 - accuracy: 0.92 - ETA: 0s - loss: 0.1948 - accuracy: 0.92 - 1s 817us/sample - loss: 0.2019 - accuracy: 0.9210\n",
      "Epoch 23/30\n",
      "785/785 [==============================] - ETA: 0s - loss: 0.1969 - accuracy: 0.96 - ETA: 0s - loss: 0.1793 - accuracy: 0.94 - ETA: 0s - loss: 0.1880 - accuracy: 0.94 - ETA: 0s - loss: 0.1751 - accuracy: 0.95 - ETA: 0s - loss: 0.1684 - accuracy: 0.95 - ETA: 0s - loss: 0.1544 - accuracy: 0.95 - ETA: 0s - loss: 0.1549 - accuracy: 0.95 - ETA: 0s - loss: 0.1632 - accuracy: 0.94 - ETA: 0s - loss: 0.1643 - accuracy: 0.94 - ETA: 0s - loss: 0.1618 - accuracy: 0.94 - ETA: 0s - loss: 0.1674 - accuracy: 0.93 - ETA: 0s - loss: 0.1755 - accuracy: 0.93 - 1s 887us/sample - loss: 0.1750 - accuracy: 0.9338\n",
      "Epoch 24/30\n",
      "785/785 [==============================] - ETA: 0s - loss: 0.2925 - accuracy: 0.90 - ETA: 0s - loss: 0.2290 - accuracy: 0.91 - ETA: 0s - loss: 0.2037 - accuracy: 0.92 - ETA: 0s - loss: 0.2000 - accuracy: 0.92 - ETA: 0s - loss: 0.1918 - accuracy: 0.93 - ETA: 0s - loss: 0.1969 - accuracy: 0.93 - ETA: 0s - loss: 0.2016 - accuracy: 0.92 - ETA: 0s - loss: 0.1870 - accuracy: 0.93 - ETA: 0s - loss: 0.1895 - accuracy: 0.92 - ETA: 0s - loss: 0.1911 - accuracy: 0.92 - ETA: 0s - loss: 0.1923 - accuracy: 0.92 - ETA: 0s - loss: 0.1959 - accuracy: 0.92 - 1s 845us/sample - loss: 0.1960 - accuracy: 0.9261\n",
      "Epoch 25/30\n",
      "785/785 [==============================] - ETA: 0s - loss: 0.1358 - accuracy: 0.96 - ETA: 0s - loss: 0.1807 - accuracy: 0.94 - ETA: 0s - loss: 0.1922 - accuracy: 0.93 - ETA: 0s - loss: 0.1983 - accuracy: 0.93 - ETA: 0s - loss: 0.1986 - accuracy: 0.93 - ETA: 0s - loss: 0.1836 - accuracy: 0.93 - ETA: 0s - loss: 0.1735 - accuracy: 0.93 - ETA: 0s - loss: 0.1674 - accuracy: 0.94 - ETA: 0s - loss: 0.1691 - accuracy: 0.93 - ETA: 0s - loss: 0.1705 - accuracy: 0.93 - ETA: 0s - loss: 0.1712 - accuracy: 0.94 - 1s 804us/sample - loss: 0.1730 - accuracy: 0.9389\n",
      "Epoch 26/30\n",
      "785/785 [==============================] - ETA: 0s - loss: 0.3048 - accuracy: 0.87 - ETA: 0s - loss: 0.1593 - accuracy: 0.93 - ETA: 0s - loss: 0.2560 - accuracy: 0.89 - ETA: 0s - loss: 0.2330 - accuracy: 0.90 - ETA: 0s - loss: 0.2152 - accuracy: 0.91 - ETA: 0s - loss: 0.2037 - accuracy: 0.92 - ETA: 0s - loss: 0.1960 - accuracy: 0.92 - ETA: 0s - loss: 0.1868 - accuracy: 0.93 - ETA: 0s - loss: 0.1866 - accuracy: 0.93 - ETA: 0s - loss: 0.1791 - accuracy: 0.93 - 1s 788us/sample - loss: 0.1863 - accuracy: 0.9299\n",
      "Epoch 27/30\n",
      "785/785 [==============================] - ETA: 0s - loss: 0.1609 - accuracy: 0.93 - ETA: 0s - loss: 0.1833 - accuracy: 0.91 - ETA: 0s - loss: 0.2119 - accuracy: 0.90 - ETA: 0s - loss: 0.2043 - accuracy: 0.91 - ETA: 0s - loss: 0.1859 - accuracy: 0.93 - ETA: 0s - loss: 0.1915 - accuracy: 0.92 - ETA: 0s - loss: 0.1919 - accuracy: 0.92 - ETA: 0s - loss: 0.1818 - accuracy: 0.92 - ETA: 0s - loss: 0.1837 - accuracy: 0.93 - 1s 762us/sample - loss: 0.1772 - accuracy: 0.9350\n",
      "Epoch 28/30\n",
      "785/785 [==============================] - ETA: 0s - loss: 0.0730 - accuracy: 1.00 - ETA: 0s - loss: 0.1281 - accuracy: 0.97 - ETA: 0s - loss: 0.1112 - accuracy: 0.97 - ETA: 0s - loss: 0.1342 - accuracy: 0.96 - ETA: 0s - loss: 0.1313 - accuracy: 0.96 - ETA: 0s - loss: 0.1348 - accuracy: 0.96 - ETA: 0s - loss: 0.1381 - accuracy: 0.96 - ETA: 0s - loss: 0.1448 - accuracy: 0.95 - ETA: 0s - loss: 0.1408 - accuracy: 0.95 - 1s 764us/sample - loss: 0.1456 - accuracy: 0.9554\n",
      "Epoch 29/30\n",
      "785/785 [==============================] - ETA: 0s - loss: 0.0857 - accuracy: 0.96 - ETA: 0s - loss: 0.1114 - accuracy: 0.96 - ETA: 0s - loss: 0.1182 - accuracy: 0.96 - ETA: 0s - loss: 0.1104 - accuracy: 0.97 - ETA: 0s - loss: 0.1079 - accuracy: 0.97 - ETA: 0s - loss: 0.1092 - accuracy: 0.97 - ETA: 0s - loss: 0.1122 - accuracy: 0.97 - ETA: 0s - loss: 0.1195 - accuracy: 0.97 - ETA: 0s - loss: 0.1179 - accuracy: 0.97 - 1s 762us/sample - loss: 0.1164 - accuracy: 0.9707\n"
     ]
    },
    {
     "name": "stdout",
     "output_type": "stream",
     "text": [
      "Epoch 30/30\n",
      "785/785 [==============================] - ETA: 0s - loss: 0.1119 - accuracy: 0.93 - ETA: 0s - loss: 0.1322 - accuracy: 0.92 - ETA: 0s - loss: 0.1205 - accuracy: 0.94 - ETA: 0s - loss: 0.1174 - accuracy: 0.94 - ETA: 0s - loss: 0.1174 - accuracy: 0.95 - ETA: 0s - loss: 0.1128 - accuracy: 0.95 - ETA: 0s - loss: 0.1260 - accuracy: 0.95 - ETA: 0s - loss: 0.1237 - accuracy: 0.95 - ETA: 0s - loss: 0.1240 - accuracy: 0.95 - ETA: 0s - loss: 0.1263 - accuracy: 0.95 - 1s 762us/sample - loss: 0.1273 - accuracy: 0.9529\n",
      "196/196 [==============================] - ETA: 0s - loss: 0.0591 - accuracy: 0.96 - 0s 698us/sample - loss: 0.0855 - accuracy: 0.9643\n",
      "Train on 785 samples\n",
      "Epoch 1/30\n",
      "785/785 [==============================] - ETA: 10s - loss: 1.9740 - accuracy: 0.062 - ETA: 3s - loss: 1.9508 - accuracy: 0.104 - ETA: 2s - loss: 1.9346 - accuracy: 0.14 - ETA: 1s - loss: 1.9060 - accuracy: 0.17 - ETA: 0s - loss: 1.8834 - accuracy: 0.20 - ETA: 0s - loss: 1.8822 - accuracy: 0.21 - ETA: 0s - loss: 1.8721 - accuracy: 0.22 - ETA: 0s - loss: 1.8409 - accuracy: 0.24 - ETA: 0s - loss: 1.8470 - accuracy: 0.24 - ETA: 0s - loss: 1.8400 - accuracy: 0.24 - ETA: 0s - loss: 1.8351 - accuracy: 0.26 - 1s 1ms/sample - loss: 1.8346 - accuracy: 0.2611\n",
      "Epoch 2/30\n",
      "785/785 [==============================] - ETA: 0s - loss: 1.7367 - accuracy: 0.21 - ETA: 0s - loss: 1.7931 - accuracy: 0.25 - ETA: 0s - loss: 1.7757 - accuracy: 0.30 - ETA: 0s - loss: 1.7633 - accuracy: 0.34 - ETA: 0s - loss: 1.7461 - accuracy: 0.37 - ETA: 0s - loss: 1.7486 - accuracy: 0.37 - ETA: 0s - loss: 1.7404 - accuracy: 0.38 - ETA: 0s - loss: 1.7162 - accuracy: 0.39 - ETA: 0s - loss: 1.7078 - accuracy: 0.40 - ETA: 0s - loss: 1.7170 - accuracy: 0.38 - 1s 781us/sample - loss: 1.7111 - accuracy: 0.3873\n",
      "Epoch 3/30\n",
      "785/785 [==============================] - ETA: 0s - loss: 1.3986 - accuracy: 0.62 - ETA: 0s - loss: 1.4967 - accuracy: 0.54 - ETA: 0s - loss: 1.4121 - accuracy: 0.56 - ETA: 0s - loss: 1.4083 - accuracy: 0.53 - ETA: 0s - loss: 1.4418 - accuracy: 0.49 - ETA: 0s - loss: 1.4449 - accuracy: 0.50 - ETA: 0s - loss: 1.4172 - accuracy: 0.51 - ETA: 0s - loss: 1.4166 - accuracy: 0.51 - ETA: 0s - loss: 1.4051 - accuracy: 0.52 - ETA: 0s - loss: 1.3945 - accuracy: 0.52 - 1s 778us/sample - loss: 1.3905 - accuracy: 0.5223\n",
      "Epoch 4/30\n",
      "785/785 [==============================] - ETA: 0s - loss: 1.3057 - accuracy: 0.53 - ETA: 0s - loss: 1.1423 - accuracy: 0.67 - ETA: 0s - loss: 1.1872 - accuracy: 0.63 - ETA: 0s - loss: 1.1825 - accuracy: 0.62 - ETA: 0s - loss: 1.2038 - accuracy: 0.59 - ETA: 0s - loss: 1.1743 - accuracy: 0.60 - ETA: 0s - loss: 1.1562 - accuracy: 0.60 - ETA: 0s - loss: 1.1519 - accuracy: 0.60 - ETA: 0s - loss: 1.1344 - accuracy: 0.60 - ETA: 0s - loss: 1.1171 - accuracy: 0.60 - ETA: 0s - loss: 1.1057 - accuracy: 0.60 - 1s 799us/sample - loss: 1.0950 - accuracy: 0.6127\n",
      "Epoch 5/30\n",
      "785/785 [==============================] - ETA: 0s - loss: 0.9028 - accuracy: 0.68 - ETA: 0s - loss: 0.8726 - accuracy: 0.72 - ETA: 0s - loss: 0.8633 - accuracy: 0.71 - ETA: 0s - loss: 0.8424 - accuracy: 0.72 - ETA: 0s - loss: 0.9168 - accuracy: 0.69 - ETA: 0s - loss: 0.9228 - accuracy: 0.69 - ETA: 0s - loss: 0.8999 - accuracy: 0.70 - ETA: 0s - loss: 0.8832 - accuracy: 0.71 - ETA: 0s - loss: 0.8703 - accuracy: 0.71 - ETA: 0s - loss: 0.8717 - accuracy: 0.71 - ETA: 0s - loss: 0.8732 - accuracy: 0.70 - 1s 801us/sample - loss: 0.8678 - accuracy: 0.7108\n",
      "Epoch 6/30\n",
      "785/785 [==============================] - ETA: 0s - loss: 0.7343 - accuracy: 0.75 - ETA: 0s - loss: 0.7447 - accuracy: 0.74 - ETA: 0s - loss: 0.7761 - accuracy: 0.74 - ETA: 0s - loss: 0.7891 - accuracy: 0.74 - ETA: 0s - loss: 0.7745 - accuracy: 0.74 - ETA: 0s - loss: 0.7371 - accuracy: 0.75 - ETA: 0s - loss: 0.7131 - accuracy: 0.75 - ETA: 0s - loss: 0.6974 - accuracy: 0.76 - ETA: 0s - loss: 0.6964 - accuracy: 0.76 - 1s 761us/sample - loss: 0.6934 - accuracy: 0.7682\n",
      "Epoch 7/30\n",
      "785/785 [==============================] - ETA: 0s - loss: 0.5622 - accuracy: 0.84 - ETA: 0s - loss: 0.5690 - accuracy: 0.81 - ETA: 0s - loss: 0.5377 - accuracy: 0.82 - ETA: 0s - loss: 0.5394 - accuracy: 0.83 - ETA: 0s - loss: 0.5423 - accuracy: 0.83 - ETA: 0s - loss: 0.5601 - accuracy: 0.82 - ETA: 0s - loss: 0.5588 - accuracy: 0.81 - ETA: 0s - loss: 0.5603 - accuracy: 0.81 - ETA: 0s - loss: 0.5654 - accuracy: 0.80 - 1s 757us/sample - loss: 0.5608 - accuracy: 0.8089\n",
      "Epoch 8/30\n",
      "785/785 [==============================] - ETA: 0s - loss: 0.5250 - accuracy: 0.78 - ETA: 0s - loss: 0.4558 - accuracy: 0.86 - ETA: 0s - loss: 0.4794 - accuracy: 0.85 - ETA: 0s - loss: 0.4770 - accuracy: 0.85 - ETA: 0s - loss: 0.4808 - accuracy: 0.82 - ETA: 0s - loss: 0.4761 - accuracy: 0.83 - ETA: 0s - loss: 0.4679 - accuracy: 0.83 - ETA: 0s - loss: 0.4693 - accuracy: 0.83 - ETA: 0s - loss: 0.4716 - accuracy: 0.83 - ETA: 0s - loss: 0.4644 - accuracy: 0.84 - 1s 767us/sample - loss: 0.4669 - accuracy: 0.8420\n",
      "Epoch 9/30\n",
      "785/785 [==============================] - ETA: 0s - loss: 0.4702 - accuracy: 0.84 - ETA: 0s - loss: 0.3831 - accuracy: 0.87 - ETA: 0s - loss: 0.4169 - accuracy: 0.87 - ETA: 0s - loss: 0.3902 - accuracy: 0.87 - ETA: 0s - loss: 0.4070 - accuracy: 0.86 - ETA: 0s - loss: 0.3824 - accuracy: 0.88 - ETA: 0s - loss: 0.3862 - accuracy: 0.87 - ETA: 0s - loss: 0.4000 - accuracy: 0.86 - 1s 749us/sample - loss: 0.3840 - accuracy: 0.8752\n",
      "Epoch 10/30\n",
      "785/785 [==============================] - ETA: 0s - loss: 0.3875 - accuracy: 0.93 - ETA: 0s - loss: 0.3302 - accuracy: 0.92 - ETA: 0s - loss: 0.3690 - accuracy: 0.88 - ETA: 0s - loss: 0.3621 - accuracy: 0.88 - ETA: 0s - loss: 0.3562 - accuracy: 0.88 - ETA: 0s - loss: 0.3382 - accuracy: 0.88 - ETA: 0s - loss: 0.3314 - accuracy: 0.88 - ETA: 0s - loss: 0.3361 - accuracy: 0.87 - ETA: 0s - loss: 0.3380 - accuracy: 0.87 - 1s 759us/sample - loss: 0.3347 - accuracy: 0.8790\n",
      "Epoch 11/30\n",
      "785/785 [==============================] - ETA: 0s - loss: 0.3082 - accuracy: 0.90 - ETA: 0s - loss: 0.3368 - accuracy: 0.87 - ETA: 0s - loss: 0.3373 - accuracy: 0.88 - ETA: 0s - loss: 0.3250 - accuracy: 0.88 - ETA: 0s - loss: 0.3309 - accuracy: 0.88 - ETA: 0s - loss: 0.3132 - accuracy: 0.89 - ETA: 0s - loss: 0.3136 - accuracy: 0.89 - ETA: 0s - loss: 0.3176 - accuracy: 0.88 - ETA: 0s - loss: 0.3228 - accuracy: 0.87 - 1s 748us/sample - loss: 0.3233 - accuracy: 0.8790\n",
      "Epoch 12/30\n",
      "785/785 [==============================] - ETA: 0s - loss: 0.2755 - accuracy: 0.84 - ETA: 0s - loss: 0.3045 - accuracy: 0.85 - ETA: 0s - loss: 0.2772 - accuracy: 0.87 - ETA: 0s - loss: 0.2632 - accuracy: 0.88 - ETA: 0s - loss: 0.2625 - accuracy: 0.89 - ETA: 0s - loss: 0.2625 - accuracy: 0.90 - ETA: 0s - loss: 0.2774 - accuracy: 0.89 - ETA: 0s - loss: 0.2739 - accuracy: 0.90 - ETA: 0s - loss: 0.2696 - accuracy: 0.90 - 1s 759us/sample - loss: 0.2583 - accuracy: 0.9096\n",
      "Epoch 13/30\n",
      "785/785 [==============================] - ETA: 0s - loss: 0.2473 - accuracy: 0.87 - ETA: 0s - loss: 0.2300 - accuracy: 0.89 - ETA: 0s - loss: 0.2124 - accuracy: 0.93 - ETA: 0s - loss: 0.2069 - accuracy: 0.93 - ETA: 0s - loss: 0.2136 - accuracy: 0.93 - ETA: 0s - loss: 0.2003 - accuracy: 0.93 - ETA: 0s - loss: 0.1966 - accuracy: 0.93 - ETA: 0s - loss: 0.2024 - accuracy: 0.93 - ETA: 0s - loss: 0.2073 - accuracy: 0.93 - 1s 757us/sample - loss: 0.2045 - accuracy: 0.9338\n",
      "Epoch 14/30\n",
      "785/785 [==============================] - ETA: 0s - loss: 0.1291 - accuracy: 1.00 - ETA: 0s - loss: 0.2201 - accuracy: 0.92 - ETA: 0s - loss: 0.2063 - accuracy: 0.94 - ETA: 0s - loss: 0.2489 - accuracy: 0.91 - ETA: 0s - loss: 0.2242 - accuracy: 0.93 - ETA: 0s - loss: 0.2211 - accuracy: 0.93 - ETA: 0s - loss: 0.2196 - accuracy: 0.93 - ETA: 0s - loss: 0.2066 - accuracy: 0.93 - ETA: 0s - loss: 0.2093 - accuracy: 0.93 - ETA: 0s - loss: 0.2050 - accuracy: 0.93 - ETA: 0s - loss: 0.2023 - accuracy: 0.93 - 1s 784us/sample - loss: 0.2049 - accuracy: 0.9376\n",
      "Epoch 15/30\n"
     ]
    },
    {
     "name": "stdout",
     "output_type": "stream",
     "text": [
      "785/785 [==============================] - ETA: 0s - loss: 0.2062 - accuracy: 0.96 - ETA: 0s - loss: 0.2072 - accuracy: 0.94 - ETA: 0s - loss: 0.1910 - accuracy: 0.94 - ETA: 0s - loss: 0.1672 - accuracy: 0.95 - ETA: 0s - loss: 0.1738 - accuracy: 0.94 - ETA: 0s - loss: 0.1776 - accuracy: 0.94 - ETA: 0s - loss: 0.1801 - accuracy: 0.94 - ETA: 0s - loss: 0.1726 - accuracy: 0.94 - ETA: 0s - loss: 0.1728 - accuracy: 0.94 - ETA: 0s - loss: 0.1752 - accuracy: 0.94 - 1s 769us/sample - loss: 0.1745 - accuracy: 0.9427\n",
      "Epoch 16/30\n",
      "785/785 [==============================] - ETA: 0s - loss: 0.0921 - accuracy: 1.00 - ETA: 0s - loss: 0.1367 - accuracy: 0.96 - ETA: 0s - loss: 0.1453 - accuracy: 0.95 - ETA: 0s - loss: 0.1418 - accuracy: 0.95 - ETA: 0s - loss: 0.1535 - accuracy: 0.95 - ETA: 0s - loss: 0.1648 - accuracy: 0.94 - ETA: 0s - loss: 0.1553 - accuracy: 0.95 - ETA: 0s - loss: 0.1593 - accuracy: 0.94 - 1s 739us/sample - loss: 0.1510 - accuracy: 0.9529\n",
      "Epoch 17/30\n",
      "785/785 [==============================] - ETA: 0s - loss: 0.0948 - accuracy: 1.00 - ETA: 0s - loss: 0.1369 - accuracy: 0.96 - ETA: 0s - loss: 0.1355 - accuracy: 0.96 - ETA: 0s - loss: 0.1443 - accuracy: 0.96 - ETA: 0s - loss: 0.1344 - accuracy: 0.96 - ETA: 0s - loss: 0.1407 - accuracy: 0.95 - ETA: 0s - loss: 0.1479 - accuracy: 0.95 - ETA: 0s - loss: 0.1456 - accuracy: 0.95 - ETA: 0s - loss: 0.1426 - accuracy: 0.95 - 1s 747us/sample - loss: 0.1411 - accuracy: 0.9554\n",
      "Epoch 18/30\n",
      "785/785 [==============================] - ETA: 0s - loss: 0.1541 - accuracy: 0.93 - ETA: 0s - loss: 0.1368 - accuracy: 0.96 - ETA: 0s - loss: 0.1672 - accuracy: 0.94 - ETA: 0s - loss: 0.1672 - accuracy: 0.95 - ETA: 0s - loss: 0.1569 - accuracy: 0.95 - ETA: 0s - loss: 0.1576 - accuracy: 0.95 - ETA: 0s - loss: 0.1619 - accuracy: 0.94 - ETA: 0s - loss: 0.1620 - accuracy: 0.94 - ETA: 0s - loss: 0.1532 - accuracy: 0.95 - 1s 742us/sample - loss: 0.1520 - accuracy: 0.9529\n",
      "Epoch 19/30\n",
      "785/785 [==============================] - ETA: 0s - loss: 0.2492 - accuracy: 0.96 - ETA: 0s - loss: 0.1977 - accuracy: 0.95 - ETA: 0s - loss: 0.1758 - accuracy: 0.95 - ETA: 0s - loss: 0.1551 - accuracy: 0.94 - ETA: 0s - loss: 0.1389 - accuracy: 0.95 - ETA: 0s - loss: 0.1639 - accuracy: 0.94 - ETA: 0s - loss: 0.1624 - accuracy: 0.94 - ETA: 0s - loss: 0.1662 - accuracy: 0.94 - ETA: 0s - loss: 0.1627 - accuracy: 0.94 - ETA: 0s - loss: 0.1496 - accuracy: 0.95 - ETA: 0s - loss: 0.1454 - accuracy: 0.95 - ETA: 0s - loss: 0.1384 - accuracy: 0.95 - ETA: 0s - loss: 0.1462 - accuracy: 0.95 - 1s 1ms/sample - loss: 0.1426 - accuracy: 0.9580\n",
      "Epoch 20/30\n",
      "785/785 [==============================] - ETA: 0s - loss: 0.0844 - accuracy: 1.00 - ETA: 0s - loss: 0.1318 - accuracy: 0.97 - ETA: 0s - loss: 0.1059 - accuracy: 0.97 - ETA: 0s - loss: 0.1149 - accuracy: 0.97 - ETA: 0s - loss: 0.1134 - accuracy: 0.97 - ETA: 0s - loss: 0.1055 - accuracy: 0.97 - ETA: 0s - loss: 0.1076 - accuracy: 0.97 - ETA: 0s - loss: 0.1097 - accuracy: 0.97 - ETA: 0s - loss: 0.1091 - accuracy: 0.96 - ETA: 0s - loss: 0.1063 - accuracy: 0.96 - 1s 810us/sample - loss: 0.1144 - accuracy: 0.9643\n",
      "Epoch 21/30\n",
      "785/785 [==============================] - ETA: 0s - loss: 0.1777 - accuracy: 0.90 - ETA: 0s - loss: 0.1238 - accuracy: 0.92 - ETA: 0s - loss: 0.1880 - accuracy: 0.91 - ETA: 0s - loss: 0.1609 - accuracy: 0.92 - ETA: 0s - loss: 0.1392 - accuracy: 0.94 - ETA: 0s - loss: 0.1387 - accuracy: 0.94 - ETA: 0s - loss: 0.1422 - accuracy: 0.93 - ETA: 0s - loss: 0.1449 - accuracy: 0.93 - ETA: 0s - loss: 0.1380 - accuracy: 0.94 - ETA: 0s - loss: 0.1347 - accuracy: 0.94 - ETA: 0s - loss: 0.1360 - accuracy: 0.94 - ETA: 0s - loss: 0.1385 - accuracy: 0.94 - 1s 893us/sample - loss: 0.1334 - accuracy: 0.9452\n",
      "Epoch 22/30\n",
      "785/785 [==============================] - ETA: 0s - loss: 0.0942 - accuracy: 1.00 - ETA: 0s - loss: 0.1157 - accuracy: 0.97 - ETA: 0s - loss: 0.1022 - accuracy: 0.98 - ETA: 0s - loss: 0.1383 - accuracy: 0.96 - ETA: 0s - loss: 0.1196 - accuracy: 0.97 - ETA: 0s - loss: 0.1240 - accuracy: 0.96 - ETA: 0s - loss: 0.1173 - accuracy: 0.96 - ETA: 0s - loss: 0.1183 - accuracy: 0.96 - ETA: 0s - loss: 0.1146 - accuracy: 0.96 - ETA: 0s - loss: 0.1106 - accuracy: 0.96 - ETA: 0s - loss: 0.1020 - accuracy: 0.97 - 1s 837us/sample - loss: 0.1025 - accuracy: 0.9707\n",
      "Epoch 23/30\n",
      "785/785 [==============================] - ETA: 0s - loss: 0.1202 - accuracy: 0.93 - ETA: 0s - loss: 0.0974 - accuracy: 0.94 - ETA: 0s - loss: 0.0796 - accuracy: 0.96 - ETA: 0s - loss: 0.0808 - accuracy: 0.96 - ETA: 0s - loss: 0.0742 - accuracy: 0.97 - ETA: 0s - loss: 0.0878 - accuracy: 0.97 - ETA: 0s - loss: 0.0880 - accuracy: 0.97 - ETA: 0s - loss: 0.0900 - accuracy: 0.96 - ETA: 0s - loss: 0.0864 - accuracy: 0.97 - ETA: 0s - loss: 0.0912 - accuracy: 0.97 - ETA: 0s - loss: 0.0904 - accuracy: 0.97 - ETA: 0s - loss: 0.0894 - accuracy: 0.97 - 1s 887us/sample - loss: 0.0870 - accuracy: 0.9745\n",
      "Epoch 24/30\n",
      "785/785 [==============================] - ETA: 0s - loss: 0.0203 - accuracy: 1.00 - ETA: 0s - loss: 0.0546 - accuracy: 0.98 - ETA: 0s - loss: 0.0864 - accuracy: 0.97 - ETA: 0s - loss: 0.0821 - accuracy: 0.97 - ETA: 0s - loss: 0.0850 - accuracy: 0.97 - ETA: 0s - loss: 0.0817 - accuracy: 0.97 - ETA: 0s - loss: 0.0842 - accuracy: 0.97 - ETA: 0s - loss: 0.0815 - accuracy: 0.97 - ETA: 0s - loss: 0.0797 - accuracy: 0.97 - ETA: 0s - loss: 0.0820 - accuracy: 0.97 - ETA: 0s - loss: 0.0842 - accuracy: 0.97 - 1s 880us/sample - loss: 0.0858 - accuracy: 0.9745\n",
      "Epoch 25/30\n",
      "785/785 [==============================] - ETA: 0s - loss: 0.0419 - accuracy: 1.00 - ETA: 0s - loss: 0.0481 - accuracy: 0.98 - ETA: 0s - loss: 0.0472 - accuracy: 0.99 - ETA: 0s - loss: 0.0673 - accuracy: 0.98 - ETA: 0s - loss: 0.0736 - accuracy: 0.98 - ETA: 0s - loss: 0.0831 - accuracy: 0.97 - ETA: 0s - loss: 0.0813 - accuracy: 0.97 - ETA: 0s - loss: 0.0772 - accuracy: 0.97 - ETA: 0s - loss: 0.0859 - accuracy: 0.97 - ETA: 0s - loss: 0.0881 - accuracy: 0.97 - ETA: 0s - loss: 0.0840 - accuracy: 0.97 - 1s 816us/sample - loss: 0.0847 - accuracy: 0.9758\n",
      "Epoch 26/30\n",
      "785/785 [==============================] - ETA: 0s - loss: 0.0948 - accuracy: 0.96 - ETA: 0s - loss: 0.0708 - accuracy: 0.98 - ETA: 0s - loss: 0.0647 - accuracy: 0.98 - ETA: 0s - loss: 0.0735 - accuracy: 0.98 - ETA: 0s - loss: 0.0638 - accuracy: 0.98 - ETA: 0s - loss: 0.0821 - accuracy: 0.98 - ETA: 0s - loss: 0.0766 - accuracy: 0.98 - ETA: 0s - loss: 0.0840 - accuracy: 0.97 - ETA: 0s - loss: 0.0949 - accuracy: 0.97 - ETA: 0s - loss: 0.0911 - accuracy: 0.97 - ETA: 0s - loss: 0.0862 - accuracy: 0.97 - ETA: 0s - loss: 0.0830 - accuracy: 0.97 - 1s 825us/sample - loss: 0.0891 - accuracy: 0.9745\n",
      "Epoch 27/30\n",
      "785/785 [==============================] - ETA: 0s - loss: 0.0760 - accuracy: 1.00 - ETA: 0s - loss: 0.0980 - accuracy: 0.96 - ETA: 0s - loss: 0.0993 - accuracy: 0.96 - ETA: 0s - loss: 0.0871 - accuracy: 0.97 - ETA: 0s - loss: 0.0929 - accuracy: 0.97 - ETA: 0s - loss: 0.0843 - accuracy: 0.97 - ETA: 0s - loss: 0.0796 - accuracy: 0.98 - ETA: 0s - loss: 0.0759 - accuracy: 0.98 - ETA: 0s - loss: 0.0722 - accuracy: 0.98 - 1s 749us/sample - loss: 0.0718 - accuracy: 0.9834\n",
      "Epoch 28/30\n",
      "785/785 [==============================] - ETA: 0s - loss: 0.0345 - accuracy: 1.00 - ETA: 0s - loss: 0.0650 - accuracy: 0.97 - ETA: 0s - loss: 0.0504 - accuracy: 0.98 - ETA: 0s - loss: 0.0512 - accuracy: 0.98 - ETA: 0s - loss: 0.0470 - accuracy: 0.98 - ETA: 0s - loss: 0.0510 - accuracy: 0.98 - ETA: 0s - loss: 0.0523 - accuracy: 0.98 - ETA: 0s - loss: 0.0587 - accuracy: 0.98 - ETA: 0s - loss: 0.0571 - accuracy: 0.98 - 1s 739us/sample - loss: 0.0571 - accuracy: 0.9860\n",
      "Epoch 29/30\n",
      "785/785 [==============================] - ETA: 0s - loss: 0.0161 - accuracy: 1.00 - ETA: 0s - loss: 0.0470 - accuracy: 0.98 - ETA: 0s - loss: 0.0488 - accuracy: 0.98 - ETA: 0s - loss: 0.0643 - accuracy: 0.98 - ETA: 0s - loss: 0.0598 - accuracy: 0.98 - ETA: 0s - loss: 0.0730 - accuracy: 0.97 - ETA: 0s - loss: 0.0693 - accuracy: 0.97 - ETA: 0s - loss: 0.0688 - accuracy: 0.97 - ETA: 0s - loss: 0.0705 - accuracy: 0.97 - ETA: 0s - loss: 0.0692 - accuracy: 0.97 - 1s 785us/sample - loss: 0.0684 - accuracy: 0.9796\n",
      "Epoch 30/30\n"
     ]
    },
    {
     "name": "stdout",
     "output_type": "stream",
     "text": [
      "785/785 [==============================] - ETA: 0s - loss: 0.1004 - accuracy: 0.96 - ETA: 0s - loss: 0.0531 - accuracy: 0.99 - ETA: 0s - loss: 0.0549 - accuracy: 0.99 - ETA: 0s - loss: 0.0522 - accuracy: 0.99 - ETA: 0s - loss: 0.0529 - accuracy: 0.99 - ETA: 0s - loss: 0.0519 - accuracy: 0.99 - ETA: 0s - loss: 0.0497 - accuracy: 0.99 - ETA: 0s - loss: 0.0490 - accuracy: 0.99 - ETA: 0s - loss: 0.0481 - accuracy: 0.99 - 1s 753us/sample - loss: 0.0466 - accuracy: 0.9936\n",
      "196/196 [==============================] - ETA: 0s - loss: 0.0141 - accuracy: 1.00 - 0s 647us/sample - loss: 0.0725 - accuracy: 0.9796\n"
     ]
    }
   ],
   "source": [
    "kfold = KFold(n_splits=5, shuffle=True)\n",
    "\n",
    "inputs = np.concatenate((train_data, test_data), axis=0)\n",
    "targets = np.concatenate((train_target, test_target), axis=0)\n",
    "\n",
    "accuracy_d = []\n",
    "loss_d = []\n",
    "\n",
    "for train, test in kfold.split(inputs, targets):\n",
    "    cnn_d_f = models.Sequential([\n",
    "        layers.Conv2D(filters=16, kernel_size=(3, 3), activation='relu', input_shape=(48, 48, 1)),\n",
    "        layers.MaxPooling2D((2, 2)),\n",
    "        layers.Dropout(0.15),\n",
    "\n",
    "        layers.Conv2D(filters=32, kernel_size=(3, 3), activation='relu'),\n",
    "        layers.MaxPooling2D((2, 2)),\n",
    "\n",
    "        layers.Flatten(),\n",
    "        layers.Dense(64, activation='relu'),\n",
    "        layers.Dropout(0.25),\n",
    "        layers.Dense(len(emotions), activation='softmax')\n",
    "    ])\n",
    "    cnn_d_f.compile(optimizer='adam',\n",
    "              loss='sparse_categorical_crossentropy',\n",
    "              metrics=['accuracy'])\n",
    "\n",
    "    cnn_d_f.fit(inputs[train], targets[train], epochs=30)\n",
    "    \n",
    "    scores_d = cnn_d_f.evaluate(inputs[test], targets[test])\n",
    "    \n",
    "    loss_d.append(scores[0])\n",
    "    accuracy_d.append(scores[1])"
   ]
  },
  {
   "cell_type": "code",
   "execution_count": 62,
   "metadata": {},
   "outputs": [
    {
     "name": "stdout",
     "output_type": "stream",
     "text": [
      "Model average accuracy:  1.0\n",
      "Model average validation loss:  0.010062492585236714\n"
     ]
    }
   ],
   "source": [
    "print('Model average accuracy: ', sum(accuracy_d)/len(accuracy_d))\n",
    "print('Model average validation loss: ', sum(loss_d)/len(loss_d))"
   ]
  },
  {
   "cell_type": "code",
   "execution_count": 69,
   "metadata": {},
   "outputs": [
    {
     "name": "stdout",
     "output_type": "stream",
     "text": [
      "0\n",
      "id:  55\n",
      "correct emotion:  anger\n",
      "predicted emotion - model without dropouts:  anger\n",
      "predicted emotion - model with dropouts:  anger\n"
     ]
    },
    {
     "data": {
      "text/plain": [
       "<matplotlib.image.AxesImage at 0x13290d03548>"
      ]
     },
     "execution_count": 69,
     "metadata": {},
     "output_type": "execute_result"
    },
    {
     "data": {
      "image/png": "[encoded data removed]",
      "text/plain": [
       "<Figure size 432x288 with 1 Axes>"
      ]
     },
     "metadata": {
      "needs_background": "light"
     },
     "output_type": "display_data"
    }
   ],
   "source": [
    "id = 55\n",
    "\n",
    "prediction_data = images_data[id].reshape(1,48,48,1)\n",
    "\n",
    "prediction_target=cnn.predict(prediction_data)\n",
    "prediction_target_d=cnn_d.predict(prediction_data)\n",
    "\n",
    "\n",
    "print(np.argmax(prediction_target))\n",
    "\n",
    "print(\"id: \", id)\n",
    "print(\"correct emotion: \",emotions[labels[id]])\n",
    "print(\"predicted emotion - model without dropouts: \",emotions[np.argmax(prediction_target)])\n",
    "print(\"predicted emotion - model with dropouts: \",emotions[np.argmax(prediction_target_d)])\n",
    "\n",
    "plt.imshow(images_data[id].reshape(48,48), cmap=plt.get_cmap(\"gray\"))"
   ]
  },
  {
   "cell_type": "code",
   "execution_count": 73,
   "metadata": {},
   "outputs": [
    {
     "name": "stdout",
     "output_type": "stream",
     "text": [
      "0\n",
      "id:  4\n",
      "predicted emotion - model without dropouts:  anger\n",
      "predicted emotion - model with dropouts:  anger\n"
     ]
    },
    {
     "data": {
      "text/plain": [
       "<matplotlib.image.AxesImage at 0x132931fcc08>"
      ]
     },
     "execution_count": 73,
     "metadata": {},
     "output_type": "execute_result"
    },
    {
     "data": {
      "image/png": "[encoded data removed]",
      "text/plain": [
       "<Figure size 432x288 with 1 Axes>"
      ]
     },
     "metadata": {
      "needs_background": "light"
     },
     "output_type": "display_data"
    }
   ],
   "source": [
    "id = 4\n",
    "\n",
    "prediction_data = images_other[id].reshape(1,48,48,1)\n",
    "\n",
    "prediction_target=cnn.predict(prediction_data)\n",
    "prediction_target_d=cnn_d.predict(prediction_data)\n",
    "\n",
    "\n",
    "print(np.argmax(prediction_target))\n",
    "\n",
    "print(\"id: \", id)\n",
    "print(\"predicted emotion - model without dropouts: \",emotions[np.argmax(prediction_target)])\n",
    "print(\"predicted emotion - model with dropouts: \",emotions[np.argmax(prediction_target_d)])\n",
    "\n",
    "plt.imshow(images_other[id].reshape(48,48), cmap=plt.get_cmap(\"gray\"))"
   ]
  },
  {
   "cell_type": "code",
   "execution_count": null,
   "metadata": {},
   "outputs": [],
   "source": []
  }
 ],
 "metadata": {
  "kernelspec": {
   "display_name": "Python 3",
   "language": "python",
   "name": "python3"
  },
  "language_info": {
   "codemirror_mode": {
    "name": "ipython",
    "version": 3
   },
   "file_extension": ".py",
   "mimetype": "text/x-python",
   "name": "python",
   "nbconvert_exporter": "python",
   "pygments_lexer": "ipython3",
   "version": "3.7.9"
  }
 },
 "nbformat": 4,
 "nbformat_minor": 4
}
